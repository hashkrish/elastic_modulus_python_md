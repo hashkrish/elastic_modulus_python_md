{
 "cells": [
  {
   "cell_type": "code",
   "execution_count": 61,
   "metadata": {},
   "outputs": [],
   "source": [
    "import numpy as np\n",
    "import sympy as sy\n",
    "import scipy as sp\n",
    "import matplotlib.pyplot as plt\n",
    "from classes.constantsmd import *\n",
    "from classes.gridmd import *\n",
    "from classes.functionsmd import *\n",
    "sy.init_printing()"
   ]
  },
  {
   "cell_type": "code",
   "execution_count": 62,
   "metadata": {},
   "outputs": [],
   "source": [
    "sigma, r , epsilon, V, f= sy.symbols(\"sigma r epsilon V f\")\n",
    "x1, x2, y1, y2, z1, z2 = sy.symbols(\"x1 x2 y1 y2 z1 z2\")"
   ]
  },
  {
   "cell_type": "code",
   "execution_count": 63,
   "metadata": {},
   "outputs": [
    {
     "data": {
      "image/png": "[encoded data removed]",
      "text/latex": [
       "$$4 \\epsilon{\\left (- \\frac{\\sigma^{6}}{r^{6}} + \\frac{\\sigma^{12}}{r^{12}} \\right )}$$"
      ],
      "text/plain": [
       "   ⎛   6    12⎞\n",
       "   ⎜  σ    σ  ⎟\n",
       "4⋅ε⎜- ── + ───⎟\n",
       "   ⎜   6    12⎟\n",
       "   ⎝  r    r  ⎠"
      ]
     },
     "execution_count": 63,
     "metadata": {},
     "output_type": "execute_result"
    }
   ],
   "source": [
    "V=4*epsilon( (sigma/r)**12 - (sigma/r)**6 )\n",
    "V"
   ]
  },
  {
   "cell_type": "code",
   "execution_count": 64,
   "metadata": {},
   "outputs": [
    {
     "data": {
      "text/latex": [
       "$$- 4 \\left(\\frac{6 \\sigma^{6}}{r^{7}} - \\frac{12 \\sigma^{12}}{r^{13}}\\right) \\left. \\frac{d}{d \\xi_{1}} \\epsilon{\\left (\\xi_{1} \\right )} \\right|_{\\substack{ \\xi_{1}=- \\frac{\\sigma^{6}}{r^{6}} + \\frac{\\sigma^{12}}{r^{12}} }}$$"
      ],
      "text/plain": [
       "   ⎛   6       12⎞                           \n",
       "   ⎜6⋅σ    12⋅σ  ⎟ ⎛ d        ⎞│      6    12\n",
       "-4⋅⎜──── - ──────⎟⋅⎜───(ε(ξ₁))⎟│     σ    σ  \n",
       "   ⎜  7      13  ⎟ ⎝dξ₁       ⎠│ξ₁=- ── + ───\n",
       "   ⎝ r      r    ⎠                    6    12\n",
       "                                     r    r  "
      ]
     },
     "execution_count": 64,
     "metadata": {},
     "output_type": "execute_result"
    }
   ],
   "source": [
    "dV_dr=sy.diff(V,r)\n",
    "F=-dV_dr\n",
    "F"
   ]
  },
  {
   "cell_type": "code",
   "execution_count": 65,
   "metadata": {},
   "outputs": [
    {
     "data": {
      "text/latex": [
       "$$- 4 \\left(- \\frac{12 f^{12}}{r} + \\frac{6 f^{6}}{r}\\right) \\left. \\frac{d}{d \\xi_{1}} \\epsilon{\\left (\\xi_{1} \\right )} \\right|_{\\substack{ \\xi_{1}=f^{12} - f^{6} }}$$"
      ],
      "text/plain": [
       "   ⎛      12      6⎞                         \n",
       "   ⎜  12⋅f     6⋅f ⎟ ⎛ d        ⎞│           \n",
       "-4⋅⎜- ────── + ────⎟⋅⎜───(ε(ξ₁))⎟│    12    6\n",
       "   ⎝    r       r  ⎠ ⎝dξ₁       ⎠│ξ₁=f   - f "
      ]
     },
     "execution_count": 65,
     "metadata": {},
     "output_type": "execute_result"
    }
   ],
   "source": [
    "F.subs({sigma/r:f})"
   ]
  },
  {
   "cell_type": "code",
   "execution_count": 66,
   "metadata": {},
   "outputs": [
    {
     "data": {
      "image/png": "[encoded data removed]",
      "text/latex": [
       "$$\\frac{24 \\epsilon}{r^{2}} f^{6} \\left(2 f^{6} - 1\\right) \\left(x_{1} - x_{2}\\right)$$"
      ],
      "text/plain": [
       "      6 ⎛   6    ⎞          \n",
       "24⋅ε⋅f ⋅⎝2⋅f  - 1⎠⋅(x₁ - x₂)\n",
       "────────────────────────────\n",
       "              2             \n",
       "             r              "
      ]
     },
     "execution_count": 66,
     "metadata": {},
     "output_type": "execute_result"
    }
   ],
   "source": [
    "Fxij = 24*epsilon*f**6*(2*f**6 - 1)/r*(x1-x2)/r\n",
    "sy.simplify(Fxij)"
   ]
  },
  {
   "cell_type": "code",
   "execution_count": 67,
   "metadata": {},
   "outputs": [
    {
     "data": {
      "image/png": "[encoded data removed]",
      "text/latex": [
       "$$\\frac{24 \\epsilon}{r^{2}} f^{6} \\left(2 f^{6} - 1\\right) \\left(y_{1} - y_{2}\\right)$$"
      ],
      "text/plain": [
       "      6 ⎛   6    ⎞          \n",
       "24⋅ε⋅f ⋅⎝2⋅f  - 1⎠⋅(y₁ - y₂)\n",
       "────────────────────────────\n",
       "              2             \n",
       "             r              "
      ]
     },
     "execution_count": 67,
     "metadata": {},
     "output_type": "execute_result"
    }
   ],
   "source": [
    "Fyij = 24*epsilon*f**6*(2*f**6 - 1)/r*(y1-y2)/r\n",
    "sy.simplify(Fyij)"
   ]
  },
  {
   "cell_type": "code",
   "execution_count": 68,
   "metadata": {},
   "outputs": [
    {
     "data": {
      "image/png": "[encoded data removed]",
      "text/latex": [
       "$$\\left [ 0, \\quad - \\frac{2^{\\frac{5}{6}} r}{2}, \\quad \\frac{2^{\\frac{5}{6}} r}{2}\\right ]$$"
      ],
      "text/plain": [
       "⎡     5/6      5/6  ⎤\n",
       "⎢   -2   ⋅r   2   ⋅r⎥\n",
       "⎢0, ────────, ──────⎥\n",
       "⎣      2        2   ⎦"
      ]
     },
     "execution_count": 68,
     "metadata": {},
     "output_type": "execute_result"
    }
   ],
   "source": [
    "ls=list(sy.simplify(sy.solve(dV_dr,sigma)))\n",
    "ls[0:3]"
   ]
  },
  {
   "cell_type": "markdown",
   "metadata": {},
   "source": [
    "$r=\\sqrt{\\left(- x_{1} + x_{2}\\right)^{2} + \\left(- y_{1} + y_{2}\\right)^{2} + \\left(- z_{1} + z_{2}\\right)^{2}}$"
   ]
  },
  {
   "cell_type": "raw",
   "metadata": {},
   "source": [
    "r=sy.sqrt((x2-x1)**2 +(y2-y1)**2 +(z2-z1)**2 )"
   ]
  },
  {
   "cell_type": "code",
   "execution_count": 79,
   "metadata": {},
   "outputs": [
    {
     "data": {
      "image/png": "[encoded data removed]",
      "text/latex": [
       "$$\\frac{y_{1} - y_{2}}{\\sqrt{\\left(- x_{1} + x_{2}\\right)^{2} + \\left(- y_{1} + y_{2}\\right)^{2} + \\left(- z_{1} + z_{2}\\right)^{2}}}$$"
      ],
      "text/plain": [
       "                  y₁ - y₂                   \n",
       "────────────────────────────────────────────\n",
       "   _________________________________________\n",
       "  ╱           2             2             2 \n",
       "╲╱  (-x₁ + x₂)  + (-y₁ + y₂)  + (-z₁ + z₂)  "
      ]
     },
     "execution_count": 79,
     "metadata": {},
     "output_type": "execute_result"
    }
   ],
   "source": [
    "sy.diff(sy.sqrt((x2-x1)**2 +(y2-y1)**2 +(z2-z1)**2 ),y1)"
   ]
  },
  {
   "cell_type": "code",
   "execution_count": 69,
   "metadata": {},
   "outputs": [],
   "source": [
    "ial = 1.02e-10\n",
    "sig = 2**(5/6 * ial)/2"
   ]
  },
  {
   "cell_type": "code",
   "execution_count": 70,
   "metadata": {},
   "outputs": [
    {
     "data": {
      "image/png": "[encoded data removed]",
      "text/latex": [
       "$$\\frac{24 \\epsilon}{r^{8}} \\sigma^{6} \\left(-1 + \\frac{2 \\sigma^{6}}{r^{6}}\\right) \\left(x_{1} - x_{2}\\right)$$"
      ],
      "text/plain": [
       "        ⎛        6⎞          \n",
       "      6 ⎜     2⋅σ ⎟          \n",
       "24⋅ε⋅σ ⋅⎜-1 + ────⎟⋅(x₁ - x₂)\n",
       "        ⎜       6 ⎟          \n",
       "        ⎝      r  ⎠          \n",
       "─────────────────────────────\n",
       "               8             \n",
       "              r              "
      ]
     },
     "execution_count": 70,
     "metadata": {},
     "output_type": "execute_result"
    }
   ],
   "source": [
    "(Fxij.subs({f:sigma/r}))"
   ]
  },
  {
   "cell_type": "code",
   "execution_count": 71,
   "metadata": {},
   "outputs": [
    {
     "data": {
      "text/plain": [
       "[<matplotlib.lines.Line2D at 0x27c481b7128>]"
      ]
     },
     "execution_count": 71,
     "metadata": {},
     "output_type": "execute_result"
    },
    {
     "data": {
      "image/png": "[encoded data removed]",
      "text/plain": [
       "<matplotlib.figure.Figure at 0x27c481f56d8>"
      ]
     },
     "metadata": {},
     "output_type": "display_data"
    }
   ],
   "source": [
    "\n",
    "N = 1000\n",
    "dt  = 0.1 \n",
    "x = np.zeros(N)\n",
    "v = np.zeros(N)\n",
    "t = np.arange(0,(N+0.5)*dt, dt)\n",
    "a = np.ones(N)*1.0  # initial condition\n",
    "x[[0,1]] = 1\n",
    "v[1] = v[0]+a[0]*dt\n",
    "\n",
    "for i in range (1,N-1):\n",
    "    x[i+1] = x[i]+v[i]*dt+(a[i]*(dt**2)*0.5)\n",
    "    v[i+1] = v[i] + a[i]*dt\n",
    "\n",
    "plt.plot(x,v)"
   ]
  },
  {
   "cell_type": "code",
   "execution_count": 72,
   "metadata": {},
   "outputs": [
    {
     "name": "stdout",
     "output_type": "stream",
     "text": [
      "-1 -1 0\n",
      "-1 -1 1\n",
      "-1 0 -1\n",
      "-1 0 0\n",
      "-1 0 1\n",
      "-1 1 -1\n",
      "-1 1 0\n",
      "-1 1 1\n",
      "0 -1 -1\n",
      "0 -1 0\n",
      "0 -1 1\n",
      "0 0 -1\n",
      "0 0 1\n",
      "0 1 -1\n",
      "0 1 0\n",
      "0 1 1\n",
      "1 -1 -1\n",
      "1 -1 0\n",
      "1 -1 1\n",
      "1 0 -1\n",
      "1 0 0\n",
      "1 0 1\n",
      "1 1 -1\n",
      "1 1 0\n"
     ]
    }
   ],
   "source": [
    "rg = np.array([-1,0,1])\n",
    "for i in rg:\n",
    "    for j in rg:\n",
    "        for k in rg:\n",
    "            if (i==j and j==k):\n",
    "                pass\n",
    "            else:\n",
    "                print(i,j,k)"
   ]
  },
  {
   "cell_type": "code",
   "execution_count": 73,
   "metadata": {},
   "outputs": [],
   "source": [
    "a=1;b=1;c=0\n"
   ]
  },
  {
   "cell_type": "code",
   "execution_count": 74,
   "metadata": {},
   "outputs": [
    {
     "name": "stdout",
     "output_type": "stream",
     "text": [
      "a=1\n",
      "b=1\n",
      "else\n"
     ]
    }
   ],
   "source": [
    "if (a==1):\n",
    "    print(\"a=1\")\n",
    "if (b==1):\n",
    "    print(\"b=1\")\n",
    "if (c==1):\n",
    "    print(\"c=1\")\n",
    "else:\n",
    "    print(\"else\")"
   ]
  },
  {
   "cell_type": "code",
   "execution_count": null,
   "metadata": {},
   "outputs": [],
   "source": []
  },
  {
   "cell_type": "code",
   "execution_count": 75,
   "metadata": {},
   "outputs": [],
   "source": [
    "avagadro = 6.023e23\n",
    "ial = 4.04e-10 #interatomic length\n",
    "epsilon = 0.5* 1.6e-19 #1.5 #dummy value\n",
    "sigma = 2.85e-10 #dummy value\n",
    "vel = 1000 #velocity per step\n",
    "acc = 0 #acceleration\n",
    "ts = 5e-9 #timestep ex: 0.005 nano seconds as 0.005e-9\n",
    "N_steps = 10"
   ]
  },
  {
   "cell_type": "code",
   "execution_count": 76,
   "metadata": {},
   "outputs": [
    {
     "ename": "TypeError",
     "evalue": "'function' object is not subscriptable",
     "output_type": "error",
     "traceback": [
      "\u001b[1;31m---------------------------------------------------------------------------\u001b[0m",
      "\u001b[1;31mTypeError\u001b[0m                                 Traceback (most recent call last)",
      "\u001b[1;32m<ipython-input-76-ae2a946e7f65>\u001b[0m in \u001b[0;36m<module>\u001b[1;34m()\u001b[0m\n\u001b[1;32m----> 1\u001b[1;33m \u001b[0mx1\u001b[0m\u001b[1;33m,\u001b[0m \u001b[0mx2\u001b[0m\u001b[1;33m,\u001b[0m \u001b[0mx3\u001b[0m \u001b[1;33m=\u001b[0m \u001b[0mxyz_grid\u001b[0m\u001b[1;33m[\u001b[0m\u001b[1;36m0\u001b[0m\u001b[1;33m]\u001b[0m\u001b[1;33m[\u001b[0m\u001b[1;36m0\u001b[0m\u001b[1;33m]\u001b[0m\u001b[1;33m[\u001b[0m\u001b[1;36m0\u001b[0m\u001b[1;33m]\u001b[0m\u001b[1;33m[\u001b[0m\u001b[1;36m0\u001b[0m\u001b[1;33m]\u001b[0m\u001b[1;33m,\u001b[0m \u001b[0mxyz_grid\u001b[0m\u001b[1;33m[\u001b[0m\u001b[1;36m1\u001b[0m\u001b[1;33m]\u001b[0m\u001b[1;33m[\u001b[0m\u001b[1;36m0\u001b[0m\u001b[1;33m]\u001b[0m\u001b[1;33m[\u001b[0m\u001b[1;36m0\u001b[0m\u001b[1;33m]\u001b[0m\u001b[1;33m[\u001b[0m\u001b[1;36m0\u001b[0m\u001b[1;33m]\u001b[0m\u001b[1;33m,\u001b[0m \u001b[0mxyz_grid\u001b[0m\u001b[1;33m[\u001b[0m\u001b[1;36m2\u001b[0m\u001b[1;33m]\u001b[0m\u001b[1;33m[\u001b[0m\u001b[1;36m0\u001b[0m\u001b[1;33m]\u001b[0m\u001b[1;33m[\u001b[0m\u001b[1;36m0\u001b[0m\u001b[1;33m]\u001b[0m\u001b[1;33m[\u001b[0m\u001b[1;36m0\u001b[0m\u001b[1;33m]\u001b[0m\u001b[1;33m\u001b[0m\u001b[0m\n\u001b[0m",
      "\u001b[1;31mTypeError\u001b[0m: 'function' object is not subscriptable"
     ]
    }
   ],
   "source": [
    "x1, x2, x3 = xyz_grid[0][0][0][0], xyz_grid[1][0][0][0], xyz_grid[2][0][0][0]"
   ]
  },
  {
   "cell_type": "code",
   "execution_count": null,
   "metadata": {},
   "outputs": [],
   "source": [
    "vpos = empty(N_steps)\n",
    "old = x1\n",
    "for i in range(N_steps-1):\n",
    "    #print(verlet_pos(old,i*ts,ts,acc),\"\\n\")\n",
    "    acc = forceLJ(vpos[i+1]-vpos[i],vpos[i],vpos[i+1])/avagadro\n",
    "    vpos[i]=verlet_pos(old,i*ts,ts,acc)\n",
    "    old = vpos[i]\n",
    "    \n",
    "    print(vpos[i],'\\t',forceLJ(vpos[i+1]-vpos[i],vpos[i],vpos[i+1])/avagadro)\n",
    "plot(range(N_steps),vpos)"
   ]
  },
  {
   "cell_type": "code",
   "execution_count": null,
   "metadata": {},
   "outputs": [],
   "source": [
    "n=100\n",
    "ls=np.empty(n)\n",
    "c = 0\n",
    "for i in range(n):\n",
    "    #print(verlet_acc(c,0,0.1,i*ial))\n",
    "    ls[i]=verlet_acc(c,0,0.1,i*ial)\n",
    "plt.plot(range(100),ls)"
   ]
  },
  {
   "cell_type": "code",
   "execution_count": 81,
   "metadata": {},
   "outputs": [],
   "source": [
    "import winsound\n",
    "duration = 1000  # millisecond\n",
    "freq = 440  # Hz\n",
    "winsound.Beep(freq, duration)"
   ]
  },
  {
   "cell_type": "code",
   "execution_count": 10,
   "metadata": {},
   "outputs": [],
   "source": [
    "def pw(io, ar, i, n):\n",
    "    sol = -io+(ar* (  ((1+i)**n) -1 ) / (i*((1+i)**n)) )\n",
    "    return sol"
   ]
  },
  {
   "cell_type": "code",
   "execution_count": 15,
   "metadata": {},
   "outputs": [
    {
     "name": "stdout",
     "output_type": "stream",
     "text": [
      "13.389480394524359 29.206189987555604 27.633878946998884\n"
     ]
    }
   ],
   "source": [
    "print(pw(1000000, 400000,.15,15)/100000,pw(2500000,1000000,.15,12)/100000,pw(2000000,800000, .15,16)/100000)"
   ]
  },
  {
   "cell_type": "code",
   "execution_count": null,
   "metadata": {},
   "outputs": [],
   "source": []
  }
 ],
 "metadata": {
  "kernelspec": {
   "display_name": "Python 3",
   "language": "python",
   "name": "python3"
  },
  "language_info": {
   "codemirror_mode": {
    "name": "ipython",
    "version": 3
   },
   "file_extension": ".py",
   "mimetype": "text/x-python",
   "name": "python",
   "nbconvert_exporter": "python",
   "pygments_lexer": "ipython3",
   "version": "3.5.2"
  }
 },
 "nbformat": 4,
 "nbformat_minor": 2
}
