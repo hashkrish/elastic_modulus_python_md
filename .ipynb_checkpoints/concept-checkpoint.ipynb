{
 "cells": [
  {
   "cell_type": "code",
   "execution_count": null,
   "metadata": {},
   "outputs": [],
   "source": []
  },
  {
   "cell_type": "code",
   "execution_count": 2,
   "metadata": {},
   "outputs": [],
   "source": [
    "import numpy as np\n",
    "import sympy as sy\n",
    "import scipy as sp\n",
    "import matplotlib.pyplot as plt\n",
    "sy.init_printing()"
   ]
  },
  {
   "cell_type": "code",
   "execution_count": 16,
   "metadata": {},
   "outputs": [],
   "source": [
    "sigma, r , epsilon, V, f= sy.symbols(\"sigma r epsilon V f\")\n",
    "x1, x2, y1, y2, z1, z2 = sy.symbols(\"x1 x2 y1 y2 z1 z2\")\n",
    "xi, xj, t, dt, a = sy.symbols(\"x_i x_j t delta a\")"
   ]
  },
  {
   "cell_type": "code",
   "execution_count": 4,
   "metadata": {},
   "outputs": [
    {
     "data": {
      "image/png": "[encoded data removed]",
      "text/latex": [
       "$$4 \\epsilon{\\left (- \\frac{\\sigma^{6}}{r^{6}} + \\frac{\\sigma^{12}}{r^{12}} \\right )}$$"
      ],
      "text/plain": [
       "   ⎛   6    12⎞\n",
       "   ⎜  σ    σ  ⎟\n",
       "4⋅ε⎜- ── + ───⎟\n",
       "   ⎜   6    12⎟\n",
       "   ⎝  r    r  ⎠"
      ]
     },
     "execution_count": 4,
     "metadata": {},
     "output_type": "execute_result"
    }
   ],
   "source": [
    "V=4*epsilon( (sigma/r)**12 - (sigma/r)**6 )\n",
    "V"
   ]
  },
  {
   "cell_type": "code",
   "execution_count": 5,
   "metadata": {},
   "outputs": [
    {
     "data": {
      "text/latex": [
       "$$- 4 \\left(\\frac{6 \\sigma^{6}}{r^{7}} - \\frac{12 \\sigma^{12}}{r^{13}}\\right) \\left. \\frac{d}{d \\xi_{1}} \\epsilon{\\left (\\xi_{1} \\right )} \\right|_{\\substack{ \\xi_{1}=- \\frac{\\sigma^{6}}{r^{6}} + \\frac{\\sigma^{12}}{r^{12}} }}$$"
      ],
      "text/plain": [
       "   ⎛   6       12⎞                           \n",
       "   ⎜6⋅σ    12⋅σ  ⎟ ⎛ d        ⎞│      6    12\n",
       "-4⋅⎜──── - ──────⎟⋅⎜───(ε(ξ₁))⎟│     σ    σ  \n",
       "   ⎜  7      13  ⎟ ⎝dξ₁       ⎠│ξ₁=- ── + ───\n",
       "   ⎝ r      r    ⎠                    6    12\n",
       "                                     r    r  "
      ]
     },
     "execution_count": 5,
     "metadata": {},
     "output_type": "execute_result"
    }
   ],
   "source": [
    "dV_dr=sy.diff(V,r)\n",
    "F=-dV_dr\n",
    "F"
   ]
  },
  {
   "cell_type": "code",
   "execution_count": 6,
   "metadata": {},
   "outputs": [
    {
     "data": {
      "text/latex": [
       "$$- 4 \\left(- \\frac{12 f^{12}}{r} + \\frac{6 f^{6}}{r}\\right) \\left. \\frac{d}{d \\xi_{1}} \\epsilon{\\left (\\xi_{1} \\right )} \\right|_{\\substack{ \\xi_{1}=f^{12} - f^{6} }}$$"
      ],
      "text/plain": [
       "   ⎛      12      6⎞                         \n",
       "   ⎜  12⋅f     6⋅f ⎟ ⎛ d        ⎞│           \n",
       "-4⋅⎜- ────── + ────⎟⋅⎜───(ε(ξ₁))⎟│    12    6\n",
       "   ⎝    r       r  ⎠ ⎝dξ₁       ⎠│ξ₁=f   - f "
      ]
     },
     "execution_count": 6,
     "metadata": {},
     "output_type": "execute_result"
    }
   ],
   "source": [
    "F.subs({sigma/r:f})"
   ]
  },
  {
   "cell_type": "code",
   "execution_count": 7,
   "metadata": {},
   "outputs": [
    {
     "data": {
      "image/png": "[encoded data removed]",
      "text/latex": [
       "$$\\frac{24 \\epsilon}{r^{2}} f^{6} \\left(2 f^{6} - 1\\right) \\left(x_{1} - x_{2}\\right)$$"
      ],
      "text/plain": [
       "      6 ⎛   6    ⎞          \n",
       "24⋅ε⋅f ⋅⎝2⋅f  - 1⎠⋅(x₁ - x₂)\n",
       "────────────────────────────\n",
       "              2             \n",
       "             r              "
      ]
     },
     "execution_count": 7,
     "metadata": {},
     "output_type": "execute_result"
    }
   ],
   "source": [
    "Fxij = 24*epsilon*f**6*(2*f**6 - 1)/r*(x1-x2)/r\n",
    "sy.simplify(Fxij)"
   ]
  },
  {
   "cell_type": "code",
   "execution_count": 8,
   "metadata": {},
   "outputs": [
    {
     "data": {
      "image/png": "[encoded data removed]",
      "text/latex": [
       "$$\\left [ 0, \\quad - \\frac{2^{\\frac{5}{6}} r}{2}, \\quad \\frac{2^{\\frac{5}{6}} r}{2}\\right ]$$"
      ],
      "text/plain": [
       "⎡     5/6      5/6  ⎤\n",
       "⎢   -2   ⋅r   2   ⋅r⎥\n",
       "⎢0, ────────, ──────⎥\n",
       "⎣      2        2   ⎦"
      ]
     },
     "execution_count": 8,
     "metadata": {},
     "output_type": "execute_result"
    }
   ],
   "source": [
    "ls=list(sy.simplify(sy.solve(dV_dr,sigma)))\n",
    "ls[0:3]"
   ]
  },
  {
   "cell_type": "markdown",
   "metadata": {},
   "source": [
    "$r=\\sqrt{\\left(- x_{1} + x_{2}\\right)^{2} + \\left(- y_{1} + y_{2}\\right)^{2} + \\left(- z_{1} + z_{2}\\right)^{2}}$"
   ]
  },
  {
   "cell_type": "raw",
   "metadata": {},
   "source": [
    "r=sy.sqrt((x2-x1)**2 +(y2-y1)**2 +(z2-z1)**2 )"
   ]
  },
  {
   "cell_type": "code",
   "execution_count": 19,
   "metadata": {},
   "outputs": [],
   "source": [
    "xj = 2*xi - xi*(t-dt) + a*dt**2"
   ]
  },
  {
   "cell_type": "markdown",
   "metadata": {},
   "source": [
    "$x_j= 2 x_i - x_i(t - dt) + a dt^2$"
   ]
  },
  {
   "cell_type": "code",
   "execution_count": null,
   "metadata": {},
   "outputs": [],
   "source": []
  },
  {
   "cell_type": "code",
   "execution_count": null,
   "metadata": {},
   "outputs": [],
   "source": []
  },
  {
   "cell_type": "code",
   "execution_count": null,
   "metadata": {},
   "outputs": [],
   "source": []
  }
 ],
 "metadata": {
  "kernelspec": {
   "display_name": "Python 3",
   "language": "python",
   "name": "python3"
  },
  "language_info": {
   "codemirror_mode": {
    "name": "ipython",
    "version": 3
   },
   "file_extension": ".py",
   "mimetype": "text/x-python",
   "name": "python",
   "nbconvert_exporter": "python",
   "pygments_lexer": "ipython3",
   "version": "3.5.2"
  }
 },
 "nbformat": 4,
 "nbformat_minor": 2
}
