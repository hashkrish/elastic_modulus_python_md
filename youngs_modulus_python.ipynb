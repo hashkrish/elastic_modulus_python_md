{
 "cells": [
  {
   "cell_type": "code",
   "execution_count": 17,
   "metadata": {},
   "outputs": [],
   "source": [
    "import math\n",
    "pi = math.pi"
   ]
  },
  {
   "cell_type": "code",
   "execution_count": 28,
   "metadata": {},
   "outputs": [],
   "source": [
    "element = \"Aluminium\"\n",
    "mass = 10e-3 #hanging mass of element wire in kg\n",
    "rho = 2700 #density in kg/m^3\n",
    "a_mass = 4.48e-26 #atomic mass in kg\n",
    "mol = 6.02e23 #1 mole = 6.023 x 10^23 \n",
    "vol = mass/rho #volume in m^3\n",
    "N = rho * mol / a_mass #total number of atoms\n",
    "atoms_edge = N**(1/3) #number of atoms in edge of 1 metre cube\n",
    "dia = 1 / atoms_edge #diameter of single atom\n",
    "\n",
    "L = 1 #length of wire in metres\n",
    "dL = 12e-3 #change in length in metres\n",
    "M = 10 #mass placed on the wire\n",
    "W = M*9.81 #weight placed on the wire\n",
    "Ks = W/dL #stiffness of element wire\n",
    "\n",
    "NL = L * atoms_edge #number of atoms in one chain length\n",
    "d = 10e-3 #diameter of wire in meters\n",
    "A = (pi/4) * d**2 #area of cross-section of wire\n",
    "A_atom = dia**2 #area of atom\n",
    "NA = A/A_atom #number of atoms in cross-sectional area\n",
    "\n",
    "Km = (Ks*NL) / NA #microscopic spring constant Newton/atom\n",
    "YM_macro = (W/A) / (dL/L) #youngs modulus of aluminium in macro level\n",
    "YM_micro = Km/dia #youngs modulus of aluminium in micro level"
   ]
  },
  {
   "cell_type": "code",
   "execution_count": 30,
   "metadata": {},
   "outputs": [
    {
     "data": {
      "text/plain": [
       "104087332.78209956"
      ]
     },
     "execution_count": 30,
     "metadata": {},
     "output_type": "execute_result"
    }
   ],
   "source": [
    "YM_macro"
   ]
  },
  {
   "cell_type": "code",
   "execution_count": 31,
   "metadata": {},
   "outputs": [
    {
     "data": {
      "text/plain": [
       "104087332.78209956"
      ]
     },
     "execution_count": 31,
     "metadata": {},
     "output_type": "execute_result"
    }
   ],
   "source": [
    "YM_micro"
   ]
  }
 ],
 "metadata": {
  "kernelspec": {
   "display_name": "Python 3",
   "language": "python",
   "name": "python3"
  },
  "language_info": {
   "codemirror_mode": {
    "name": "ipython",
    "version": 3
   },
   "file_extension": ".py",
   "mimetype": "text/x-python",
   "name": "python",
   "nbconvert_exporter": "python",
   "pygments_lexer": "ipython3",
   "version": "3.5.2"
  }
 },
 "nbformat": 4,
 "nbformat_minor": 2
}
