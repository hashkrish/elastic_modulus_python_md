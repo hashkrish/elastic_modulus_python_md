{
 "cells": [
  {
   "cell_type": "code",
   "execution_count": 1,
   "metadata": {},
   "outputs": [],
   "source": [
    "import math"
   ]
  },
  {
   "cell_type": "code",
   "execution_count": 11,
   "metadata": {},
   "outputs": [],
   "source": [
    "element = \"Aluminium\"\n",
    "mass = 1 #hanging mass in kg\n",
    "rho = 2700 #density in kg/m^3\n",
    "a_mass = 4.48e-26 #atomic mass in kg\n",
    "mol = 6.02e23 #1 mole = 6.023 x 10^23 \n",
    "vol = mass/rho #volume in m^3\n",
    "N = rho * mol / a_mass #total number of atoms\n",
    "atoms_edge = N**(1/3) #number of atoms in edge of 1 metre cube\n",
    "dia = 1 / atoms_edge #diameter of single atom\n",
    "\n",
    "L = 1 #length of wire in metres\n",
    "dL = 12e-3 #change in length in metres\n",
    "Ks = "
   ]
  },
  {
   "cell_type": "code",
   "execution_count": 9,
   "metadata": {},
   "outputs": [
    {
     "data": {
      "text/plain": [
       "3.3105037218315706e+17"
      ]
     },
     "execution_count": 9,
     "metadata": {},
     "output_type": "execute_result"
    }
   ],
   "source": [
    "atoms_edge"
   ]
  }
 ],
 "metadata": {
  "kernelspec": {
   "display_name": "Python 3",
   "language": "python",
   "name": "python3"
  },
  "language_info": {
   "codemirror_mode": {
    "name": "ipython",
    "version": 3
   },
   "file_extension": ".py",
   "mimetype": "text/x-python",
   "name": "python",
   "nbconvert_exporter": "python",
   "pygments_lexer": "ipython3",
   "version": "3.5.2"
  }
 },
 "nbformat": 4,
 "nbformat_minor": 2
}
