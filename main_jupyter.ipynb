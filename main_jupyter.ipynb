{
 "cells": [
  {
   "cell_type": "code",
   "execution_count": 3,
   "metadata": {},
   "outputs": [],
   "source": [
    "#importing required libraries\n",
    "from numpy import sin, cos, deg2rad, matrix, size, invert, multiply, array\n",
    "from matplotlib.pyplot import plot\n",
    "import matplotlib.pyplot as plt\n",
    "#from sympy import init_printing\n",
    "from mpl_toolkits.mplot3d import Axes3D\n",
    "import csv\n",
    "import pandas as pd\n",
    "import os\n",
    "import sys\n",
    "import functionsmd\n",
    "\n",
    "#import grid"
   ]
  },
  {
   "cell_type": "code",
   "execution_count": 5,
   "metadata": {},
   "outputs": [
    {
     "name": "stdout",
     "output_type": "stream",
     "text": [
      "hello\n"
     ]
    }
   ],
   "source": [
    "functionsmd.printhello()"
   ]
  },
  {
   "cell_type": "code",
   "execution_count": 3,
   "metadata": {},
   "outputs": [],
   "source": [
    "def N_xyz(Nx_,Ny_,Nz_): #defining number of atoms along x, y and z axis\n",
    "    return [Nx_,Ny_,Nz_]\n",
    "ial = 1.02e-10 #interatomic length\n",
    "N = N_xyz(100,6,6)"
   ]
  },
  {
   "cell_type": "code",
   "execution_count": 23,
   "metadata": {},
   "outputs": [],
   "source": [
    "X=(N[0]-1) * ial\n",
    "Y=(N[1]-1) * ial\n",
    "Z=(N[2]-1) * ial\n",
    "\n",
    "x_coor_0 =[]\n",
    "for i in range(N[0]):\n",
    "    x_coor_0.append((-X/2)+(i*ial))\n",
    "y_coor_0 =[]\n",
    "for i in range(N[1]):\n",
    "    y_coor_0.append((-Y/2)+(i*ial))\n",
    "z_coor_0 =[]\n",
    "for i in range(N[2]):\n",
    "    z_coor_0.append((-Z/2)+(i*ial))\n",
    "\n",
    "coor_0 = [x_coor_0,y_coor_0,z_coor_0]   \n",
    "\n"
   ]
  },
  {
   "cell_type": "code",
   "execution_count": 5,
   "metadata": {},
   "outputs": [],
   "source": [
    "vel = 0.0001e-10 #velocity per step\n",
    "acc = 0 #acceleration\n",
    "ts = 0.001e-9 #timestep ex: 0.005 nano seconds as 0.005e-9\n",
    "N_steps = 10"
   ]
  },
  {
   "cell_type": "code",
   "execution_count": 6,
   "metadata": {},
   "outputs": [],
   "source": [
    "#verlet algorithm\n",
    "def verlet_pos(pos,t,ts,acc):\n",
    "#    pos_t_plus_dt = pos + vel*ts + ( 0.5 * acc * ts**2 )\n",
    "#    pos_t_minus_dt = pos - vel*ts + ( 0.5 * acc * ts**2 )\n",
    "    pos_t_plus_dt = 2*pos - pos*(t-ts) + acc * ts**2\n",
    "    return pos_t_plus_dt\n",
    "#----------------------------------------------------------------\n",
    "x_coor=[x_coor_0]\n",
    "t=0\n",
    "for i in range(N_steps):\n",
    "    x_coor_temp = []\n",
    "    for pos_ in x_coor[-1]:\n",
    "        x_coor_temp.append(verlet_pos(pos_, t+(i*ts), ts, acc))\n",
    "    x_coor.append(x_coor_temp)"
   ]
  },
  {
   "cell_type": "code",
   "execution_count": 7,
   "metadata": {},
   "outputs": [],
   "source": [
    "def growth(x_coor_local):\n",
    "    return_list = []\n",
    "    p_temp=[]\n",
    "    q_temp=[]\n",
    "    for i in range(N_steps):\n",
    "        x_coor_growth_temp=[]\n",
    "        p=0\n",
    "        q=0\n",
    "        for j in range(N[0]):\n",
    "            if x_coor_local[i][j]>=0:\n",
    "                x_coor_growth_temp.append([x_coor_local[i+1][j]-x_coor_local[i][j],\"p\"])\n",
    "                p+=1\n",
    "            else:\n",
    "                x_coor_growth_temp.append([x_coor_local[i][j]-x_coor_local[i+1][j],\"q\"])\n",
    "                q+=1\n",
    "        p_temp.append(p)\n",
    "        q_temp.append(q)\n",
    "        return_list.append(x_coor_growth_temp)\n",
    "    \n",
    "    return return_list,p_temp,q_temp\n",
    "delx_, p , q = growth(x_coor)"
   ]
  },
  {
   "cell_type": "code",
   "execution_count": 8,
   "metadata": {},
   "outputs": [],
   "source": [
    "# my_df = pd.DataFrame(x_coor)\n",
    "# my_df.to_csv('x_coor.csv', index=False, header=False)\n",
    "# my_df = pd.DataFrame(x_coor)\n",
    "# my_df.to_csv('x_coor.csv', index=False, header=False)"
   ]
  },
  {
   "cell_type": "code",
   "execution_count": 9,
   "metadata": {},
   "outputs": [],
   "source": [
    "def mean_delx(delx__,char):\n",
    "    growth_temp=[]\n",
    "    for i in range(N_steps):\n",
    "        sum=0\n",
    "        c_count=0\n",
    "        for j in range(N[0]):\n",
    "            #print(delx__[i][j][0])\n",
    "            #print(char)\n",
    "            if delx__[i][j][1]==char:\n",
    "                c_count+=1\n",
    "                #print(\"if\")\n",
    "                sum+=delx__[i][j][0]\n",
    "        #print(c_count)\n",
    "        growth_temp.append(sum/c_count)\n",
    "    return growth_temp\n",
    "delx_p_mean = mean_delx(delx_,'p')\n",
    "delx_q_mean = mean_delx(delx_,'q')"
   ]
  },
  {
   "cell_type": "code",
   "execution_count": 10,
   "metadata": {},
   "outputs": [],
   "source": [
    "def length_of_growth_at_steps_fn(delx_p_mean_temp,delx_q_mean_temp):\n",
    "    length_of_growth_at_steps_temp = []\n",
    "    for i in range(N_steps):\n",
    "        delX_p_mean = sum(delx_p_mean_temp[0:i+1])\n",
    "        delX_q_mean = sum(delx_q_mean_temp[0:i+1])\n",
    "        delX_mean = delX_p_mean + delX_q_mean\n",
    "        length_of_growth_at_steps_temp.append(delX_mean)\n",
    "    return length_of_growth_at_steps_temp\n",
    "\n",
    "total_length_of_growth_at_steps = length_of_growth_at_steps_fn(delx_p_mean,delx_q_mean)"
   ]
  },
  {
   "cell_type": "code",
   "execution_count": 11,
   "metadata": {},
   "outputs": [],
   "source": [
    "strain_in_steps = multiply((1/X),total_length_of_growth_at_steps)"
   ]
  },
  {
   "cell_type": "code",
   "execution_count": 12,
   "metadata": {},
   "outputs": [
    {
     "data": {
      "text/plain": [
       "[<matplotlib.lines.Line2D at 0x1c8df090e80>]"
      ]
     },
     "execution_count": 12,
     "metadata": {},
     "output_type": "execute_result"
    },
    {
     "data": {
      "image/png": "[encoded data removed]",
      "text/plain": [
       "<matplotlib.figure.Figure at 0x1c8df02dc88>"
      ]
     },
     "metadata": {},
     "output_type": "display_data"
    }
   ],
   "source": [
    "plot(multiply(0.005e-9,range(N_steps)),strain_in_steps)"
   ]
  },
  {
   "cell_type": "code",
   "execution_count": 19,
   "metadata": {},
   "outputs": [
    {
     "data": {
      "image/png": "[encoded data removed]",
      "text/plain": [
       "<matplotlib.figure.Figure at 0x1c8e0c65828>"
      ]
     },
     "metadata": {},
     "output_type": "display_data"
    }
   ],
   "source": [
    "for i in multiply(array(x_coor[1]),10**9):\n",
    "        for j in multiply(array(y_coor_0),10**10):\n",
    "            plt.scatter(i,j,c='b',marker='o')\n",
    "plt.show()"
   ]
  },
  {
   "cell_type": "code",
   "execution_count": 22,
   "metadata": {},
   "outputs": [
    {
     "ename": "TypeError",
     "evalue": "can't multiply sequence by non-int of type 'float'",
     "output_type": "error",
     "traceback": [
      "\u001b[1;31m---------------------------------------------------------------------------\u001b[0m",
      "\u001b[1;31mTypeError\u001b[0m                                 Traceback (most recent call last)",
      "\u001b[1;32m<ipython-input-22-fa6cc42a531e>\u001b[0m in \u001b[0;36m<module>\u001b[1;34m()\u001b[0m\n\u001b[1;32m----> 1\u001b[1;33m \u001b[0mverlet_pos\u001b[0m\u001b[1;33m(\u001b[0m\u001b[0mx_coor_0\u001b[0m\u001b[1;33m,\u001b[0m\u001b[1;36m12\u001b[0m\u001b[1;33m,\u001b[0m\u001b[1;36m0.005e-9\u001b[0m\u001b[1;33m,\u001b[0m\u001b[1;36m0\u001b[0m\u001b[1;33m)\u001b[0m\u001b[1;33m\u001b[0m\u001b[0m\n\u001b[0m",
      "\u001b[1;32m<ipython-input-6-701e9d5ae7d0>\u001b[0m in \u001b[0;36mverlet_pos\u001b[1;34m(pos, t, ts, acc)\u001b[0m\n\u001b[0;32m      3\u001b[0m \u001b[1;31m#    pos_t_plus_dt = pos + vel*ts + ( 0.5 * acc * ts**2 )\u001b[0m\u001b[1;33m\u001b[0m\u001b[1;33m\u001b[0m\u001b[0m\n\u001b[0;32m      4\u001b[0m \u001b[1;31m#    pos_t_minus_dt = pos - vel*ts + ( 0.5 * acc * ts**2 )\u001b[0m\u001b[1;33m\u001b[0m\u001b[1;33m\u001b[0m\u001b[0m\n\u001b[1;32m----> 5\u001b[1;33m     \u001b[0mpos_t_plus_dt\u001b[0m \u001b[1;33m=\u001b[0m \u001b[1;36m2\u001b[0m\u001b[1;33m*\u001b[0m\u001b[0mpos\u001b[0m \u001b[1;33m-\u001b[0m \u001b[0mpos\u001b[0m\u001b[1;33m*\u001b[0m\u001b[1;33m(\u001b[0m\u001b[0mt\u001b[0m\u001b[1;33m-\u001b[0m\u001b[0mts\u001b[0m\u001b[1;33m)\u001b[0m \u001b[1;33m+\u001b[0m \u001b[0macc\u001b[0m \u001b[1;33m*\u001b[0m \u001b[0mts\u001b[0m\u001b[1;33m**\u001b[0m\u001b[1;36m2\u001b[0m\u001b[1;33m\u001b[0m\u001b[0m\n\u001b[0m\u001b[0;32m      6\u001b[0m     \u001b[1;32mreturn\u001b[0m \u001b[0mpos_t_plus_dt\u001b[0m\u001b[1;33m\u001b[0m\u001b[0m\n\u001b[0;32m      7\u001b[0m \u001b[1;31m#----------------------------------------------------------------\u001b[0m\u001b[1;33m\u001b[0m\u001b[1;33m\u001b[0m\u001b[0m\n",
      "\u001b[1;31mTypeError\u001b[0m: can't multiply sequence by non-int of type 'float'"
     ]
    }
   ],
   "source": [
    "verlet_pos(x_coor_0,12,0.005e-9,0)"
   ]
  }
 ],
 "metadata": {
  "kernelspec": {
   "display_name": "Python 3",
   "language": "python",
   "name": "python3"
  },
  "language_info": {
   "codemirror_mode": {
    "name": "ipython",
    "version": 3
   },
   "file_extension": ".py",
   "mimetype": "text/x-python",
   "name": "python",
   "nbconvert_exporter": "python",
   "pygments_lexer": "ipython3",
   "version": "3.5.2"
  }
 },
 "nbformat": 4,
 "nbformat_minor": 2
}
