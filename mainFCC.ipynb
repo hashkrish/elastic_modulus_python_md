{
 "cells": [
  {
   "cell_type": "markdown",
   "metadata": {},
   "source": [
    "# Finding Elastic Modulus of Aluminium (FCC)"
   ]
  },
  {
   "cell_type": "markdown",
   "metadata": {},
   "source": [
    "## Importing Libraries"
   ]
  },
  {
   "cell_type": "code",
   "execution_count": 66,
   "metadata": {},
   "outputs": [
    {
     "name": "stdout",
     "output_type": "stream",
     "text": [
      "-----------start-----------\n"
     ]
    }
   ],
   "source": [
    "#importing required libraries\n",
    "import sys;sys.path.append('/home/krish/elastic_modulus_python_md/')\n",
    "import matplotlib.pyplot as plt\n",
    "import numpy as np\n",
    "\n",
    "from classes.constantsmd import *\n",
    "from classes.functionsmd import (forceLJ3FCC, forceXLJ3, forceYLJ3, forceZLJ3, verlet_pos,\n",
    "                                 writeXYZFile, numberOfAtoms)\n",
    "from classes.gridmd import (N_steps, makeLattice, makeLatticePos, plotPosGrid,\n",
    "                            plotStructure)\n",
    "print(\"-----------start-----------\")"
   ]
  },
  {
   "cell_type": "markdown",
   "metadata": {},
   "source": [
    "## Initial Assignment"
   ]
  },
  {
   "cell_type": "code",
   "execution_count": 67,
   "metadata": {},
   "outputs": [],
   "source": [
    "\n",
    "brick = np.array([\n",
    "    [\n",
    "        [1, 0, 1],\n",
    "        [0, 1, 0],\n",
    "        [1, 0, 1]\n",
    "    ],\n",
    "\n",
    "    [\n",
    "        [0, 1, 0],\n",
    "        [1, 0, 1],\n",
    "        [0, 1, 0]\n",
    "    ],\n",
    "\n",
    "    [\n",
    "        [1, 0, 1],\n",
    "        [0, 1, 0],\n",
    "        [1, 0, 1]\n",
    "    ]            ])\n",
    "#brick = np.multiply(0.5,brick)\n",
    "N = np.array([3, 3, 3])\n",
    "#%%\n",
    "latticeGrid = makeLattice(brick, N[0], N[1], N[2])\n",
    "posGrid = makeLatticePos(brick, N[0], N[1], N[2], ial/2)\n",
    "#writeXYZFile(latticeGrid, posGrid,name='temp.xyz')\n",
    "#plotPosGrid(posGrid)\n",
    "#%%\n",
    "N[0] = posGrid.shape[0]\n",
    "N[1] = posGrid.shape[1]\n",
    "N[2] = posGrid.shape[2]"
   ]
  },
  {
   "cell_type": "code",
   "execution_count": 68,
   "metadata": {},
   "outputs": [],
   "source": [
    "time_grid = np.zeros([N_steps,N[0],N[1],N[2],3])\n",
    "time_grid[0] = np.array([posGrid])\n",
    "\n",
    "force_grid = np.zeros([N_steps, N[0], N[1], N[2],3])"
   ]
  },
  {
   "cell_type": "markdown",
   "metadata": {},
   "source": [
    "## Assigning Force Along X-Axis"
   ]
  },
  {
   "cell_type": "code",
   "execution_count": 69,
   "metadata": {},
   "outputs": [],
   "source": [
    "for j in np.array(range(N[1])):\n",
    "    for k in np.array(range(N[2])):\n",
    "        if(latticeGrid[0, j, k]==1 or latticeGrid[N[0]-1,j,k]==1):\n",
    "            force_grid[0, 0, j, k, 0] = -Fa / (N[1] * N[2])\n",
    "            force_grid[0, N[0]-1, j, k, 0] = Fa / (N[1] * N[2])"
   ]
  },
  {
   "cell_type": "markdown",
   "metadata": {},
   "source": [
    "## Determining Position and Force for each timestep"
   ]
  },
  {
   "cell_type": "code",
   "execution_count": 70,
   "metadata": {},
   "outputs": [],
   "source": [
    "for t in range(N_steps - 1):\n",
    "#     file = open(\"dump/pos/timestep_\"+str(t+1)+\".xyz\", \"w\")\n",
    "#     file.write(str(numberOfAtoms(latticeGrid))+'\\n')\n",
    "#     file.write('\\n')\n",
    "    for i in range(N[0]):\n",
    "        for j in range(N[1]):\n",
    "            for k in range(N[2]):\n",
    "                if (latticeGrid[i, j, k] == 1):\n",
    "                    fx=0; fy=0; fz=0;acc=0\n",
    "                    fx = forceLJ3FCC(i, j, k, posGrid, latticeGrid)[0]\n",
    "                    fy = forceLJ3FCC(i, j, k, posGrid, latticeGrid)[1]\n",
    "                    fz = forceLJ3FCC(i, j, k, posGrid, latticeGrid)[2]\n",
    "                    #fx, fy, fz += forceLJ3(i, j, k, posGrid)\n",
    "                    acc = (fx/mass) + (force_grid[t, i, j, k , 0]/mass)\n",
    "                    if (t-1==-1):\n",
    "                        xj=verlet_pos(time_grid[t][i][j][k][0], time_grid[t][i][j][k][0], t,ts,acc)\n",
    "                        yj=verlet_pos(time_grid[t][i][j][k][1], time_grid[t][i][j][k][1], t, ts, \n",
    "                                        fy/mass)\n",
    "                        zj=verlet_pos(time_grid[t][i][j][k][2], time_grid[t][i][j][k][2], t, ts, \n",
    "                                        fz/mass)\n",
    "                    else:\n",
    "                        xj=verlet_pos(time_grid[t][i][j][k][0], time_grid[t-1][i][j][k][0], t,ts,acc)\n",
    "                        yj=verlet_pos(time_grid[t][i][j][k][1], time_grid[t-1][i][j][k][1], t, ts, \n",
    "                                    fy/mass)\n",
    "                        zj=verlet_pos(time_grid[t][i][j][k][2], time_grid[t-1][i][j][k][2], t, ts, \n",
    "                                    fz/mass)\n",
    "                    time_grid[t+1][i][j][k][0] = xj\n",
    "                    time_grid[t+1][i][j][k][1] = yj\n",
    "                    time_grid[t+1][i][j][k][2] = zj\n",
    "#                     file.write('X '+str(xj)+' '+str(yj)+' '+str(zj)+'\\n')\n",
    "                    force_grid[t][i][j][k][0] = fx;force_grid[t][i][j][k][1] = fy;force_grid[t][i][j][k][2] = fz\n",
    "#     file.close() "
   ]
  },
  {
   "cell_type": "markdown",
   "metadata": {},
   "source": [
    "## Calculating the Mean Force and Stress"
   ]
  },
  {
   "cell_type": "code",
   "execution_count": 71,
   "metadata": {},
   "outputs": [],
   "source": [
    "def timeForceMeanAndTimeStress():\n",
    "    time_forceMean = np.zeros([N_steps, 3])\n",
    "    time_stress = np.zeros([N_steps, 3])\n",
    "    time_stress_applied = np.zeros([N_steps, 3])\n",
    "    fx = 0;fy = 0;fz = 0\n",
    "    no = numberOfAtoms(latticeGrid)\n",
    "    for t in range(N_steps):\n",
    "        for i in range(N[0]):\n",
    "            for j in range(N[1]):\n",
    "                for k in range(N[2]):\n",
    "                    fx+=force_grid[t][i][j][k][0]\n",
    "                    fy+=force_grid[t][i][j][k][1]\n",
    "                    fz+=force_grid[t][i][j][k][2]\n",
    "        fxMean = fx/no;fyMean = fy/no;fzMean = fz/no;\n",
    "        time_stress[t] = np.array([fxMean/(N[1]*N[2]*ial**2), fyMean/(N[2]*N[0]*ial**2), fzMean/(N[1]*N[0]*ial**2)])\n",
    "        time_forceMean[t] = np.array([fxMean, fyMean, fzMean])\n",
    "        time_stress_applied[t,0] = np.array([Fa/( abs(time_grid[t,0,0,0,1] - time_grid[t,0,N[1]-1,0,1]) * abs(time_grid[t,0,0,0,2] - time_grid[t,0,0,N[2]-1,2]))])\n",
    "    return time_forceMean, time_stress, time_stress_applied"
   ]
  },
  {
   "cell_type": "code",
   "execution_count": 72,
   "metadata": {},
   "outputs": [],
   "source": [
    "time_forceMean, time_stress, time_stress_applied = timeForceMeanAndTimeStress()"
   ]
  },
  {
   "cell_type": "markdown",
   "metadata": {},
   "source": [
    "## Calculating End Strain"
   ]
  },
  {
   "cell_type": "code",
   "execution_count": 152,
   "metadata": {},
   "outputs": [],
   "source": [
    "def latticeMean3X(latticeGrid, grid):\n",
    "    try:\n",
    "        j_=0\n",
    "        k_=0\n",
    "        temp = np.zeros([latticeGrid.shape[1],latticeGrid.shape[2]])\n",
    "        for j in range(grid.shape[1]):\n",
    "            for k in range(grid.shape[2]):\n",
    "                j_=j;k_=k;\n",
    "                if (latticeGrid[0,j,k]==1 or latticeGrid[grid.shape[0],j,k]==1):\n",
    "                    temp[j,k] = grid[j,k]\n",
    "    except Exception as e:\n",
    "        print(e.args)\n",
    "        print(str(e)+' '+\"---------error: \",j_,k_)\n",
    "    return np.mean(temp)"
   ]
  },
  {
   "cell_type": "code",
   "execution_count": 153,
   "metadata": {},
   "outputs": [],
   "source": [
    "def myStrain(time_grid):\n",
    "    strain = np.zeros([N_steps,3])\n",
    "    for t in range(N_steps):\n",
    "        temp = np.zeros([N[1],N[2]])\n",
    "        for j in range(N[1]):\n",
    "            for k in range(N[2]):\n",
    "                try:\n",
    "                    temp[j,k] = abs(time_grid[t,0,j,k,0]-time_grid[t,N[0]-1,j,k,0])/abs(time_grid[0,0,j,k,0]-time_grid[0,N[0]-1,j,k,0])\n",
    "                    print(temp[j,k])\n",
    "                except:\n",
    "                    print(\"error:\",t,j,k)\n",
    "        strain[t,0] = latticeMean3X(latticeGrid, temp)\n",
    "    return strain"
   ]
  },
  {
   "cell_type": "code",
   "execution_count": 154,
   "metadata": {},
   "outputs": [
    {
     "name": "stdout",
     "output_type": "stream",
     "text": [
      "1.0\n",
      "nan\n",
      "1.0\n",
      "nan\n",
      "1.0\n",
      "nan\n",
      "1.0\n",
      "nan\n",
      "1.0\n",
      "nan\n",
      "1.0\n",
      "nan\n",
      "1.0\n",
      "nan\n",
      "1.0\n",
      "nan\n",
      "1.0\n",
      "nan\n",
      "1.0\n",
      "nan\n",
      "1.0\n",
      "nan\n",
      "1.0\n",
      "nan\n",
      "1.0\n",
      "nan\n",
      "1.0\n",
      "nan\n",
      "1.0\n",
      "nan\n",
      "1.0\n",
      "nan\n",
      "1.0\n",
      "nan\n",
      "1.0\n",
      "nan\n",
      "1.0\n",
      "nan\n",
      "1.0\n",
      "nan\n",
      "1.0\n",
      "nan\n",
      "1.0\n",
      "nan\n",
      "1.0\n",
      "nan\n",
      "1.0\n",
      "nan\n",
      "1.0\n",
      "('tuple index out of range',)\n",
      "tuple index out of range ---------error:  0 0\n",
      "0.9999999958082951\n",
      "nan\n",
      "1.000000008492646\n",
      "nan\n",
      "1.0000000083916667\n",
      "nan\n",
      "1.000000010488321\n",
      "nan\n",
      "1.0000000167793388\n",
      "nan\n",
      "1.0000000209805122\n",
      "nan\n",
      "1.0000000209739646\n",
      "nan\n",
      "1.000000008492646\n",
      "nan\n",
      "1.0000000209900268\n",
      "nan\n",
      "1.0000000209742232\n",
      "nan\n",
      "1.0000000230709665\n",
      "nan\n",
      "1.0000000209805122\n",
      "nan\n",
      "1.0000000209744386\n",
      "nan\n",
      "1.0000000209738815\n",
      "nan\n",
      "1.0000000083916667\n",
      "nan\n",
      "1.0000000209742232\n",
      "nan\n",
      "1.0000000209738924\n",
      "nan\n",
      "1.0000000230709631\n",
      "nan\n",
      "1.0000000209739646\n",
      "nan\n",
      "1.0000000209738815\n",
      "nan\n",
      "1.0000000209738555\n",
      "nan\n",
      "1.000000010488321\n",
      "nan\n",
      "1.0000000230709665\n",
      "nan\n",
      "1.0000000230709631\n",
      "nan\n",
      "1.0000000251680718\n",
      "('tuple index out of range',)\n",
      "tuple index out of range ---------error:  0 0\n",
      "0.9999999874221247\n",
      "nan\n",
      "1.000000025475177\n",
      "nan\n",
      "1.0000000251722396\n",
      "nan\n",
      "1.0000000314622026\n",
      "nan\n",
      "1.0000000503352557\n",
      "nan\n",
      "1.0000000629387764\n",
      "nan\n",
      "1.0000000629191335\n",
      "nan\n",
      "1.000000025475177\n",
      "nan\n",
      "1.0000000629673196\n",
      "nan\n",
      "1.000000062919909\n",
      "nan\n",
      "1.0000000692101385\n",
      "nan\n",
      "1.0000000629387764\n",
      "nan\n",
      "1.0000000629205552\n",
      "nan\n",
      "1.000000062918884\n",
      "nan\n",
      "1.0000000251722396\n",
      "nan\n",
      "1.000000062919909\n",
      "nan\n",
      "1.000000062918917\n",
      "nan\n",
      "1.0000000692101287\n",
      "nan\n",
      "1.0000000629191335\n",
      "nan\n",
      "1.000000062918884\n",
      "nan\n",
      "1.000000062918806\n",
      "nan\n",
      "1.0000000314622026\n",
      "nan\n",
      "1.0000000692101385\n",
      "nan\n",
      "1.0000000692101287\n",
      "nan\n",
      "1.0000000755014549\n",
      "('tuple index out of range',)\n",
      "tuple index out of range ---------error:  0 0\n",
      "0.9999999748414887\n",
      "nan\n",
      "1.0000000509475937\n",
      "nan\n",
      "1.0000000503417186\n",
      "nan\n",
      "1.0000000629216443\n",
      "nan\n",
      "1.0000001006677508\n",
      "nan\n",
      "1.000000125874792\n",
      "nan\n",
      "1.0000001258355062\n",
      "nan\n",
      "1.0000000509475937\n",
      "nan\n",
      "1.0000001259318785\n",
      "nan\n",
      "1.0000001258370574\n",
      "nan\n",
      "1.0000001384175166\n",
      "nan\n",
      "1.000000125874792\n",
      "nan\n",
      "1.0000001258383497\n",
      "nan\n",
      "1.0000001258350077\n",
      "nan\n",
      "1.0000000503417186\n",
      "nan\n",
      "1.0000001258370574\n",
      "nan\n",
      "1.0000001258350733\n",
      "nan\n",
      "1.0000001384174968\n",
      "nan\n",
      "1.0000001258355062\n",
      "nan\n",
      "1.0000001258350077\n",
      "nan\n",
      "1.000000125834851\n",
      "nan\n",
      "1.0000000629216443\n",
      "nan\n",
      "1.0000001384175166\n",
      "nan\n",
      "1.0000001384174968\n",
      "nan\n",
      "1.000000151000149\n",
      "('tuple index out of range',)\n",
      "tuple index out of range ---------error:  0 0\n",
      "0.999999958066387\n",
      "nan\n",
      "1.0000000849098951\n",
      "nan\n",
      "1.0000000839001035\n",
      "nan\n",
      "1.0000001048666467\n",
      "nan\n",
      "1.000000167776824\n",
      "nan\n",
      "1.0000002097885594\n",
      "nan\n",
      "1.000000209723083\n",
      "nan\n",
      "1.0000000849098951\n",
      "nan\n",
      "1.0000002098837035\n",
      "nan\n",
      "1.0000002097256686\n",
      "nan\n",
      "1.0000002306931002\n",
      "nan\n",
      "1.0000002097885594\n",
      "nan\n",
      "1.000000209727822\n",
      "nan\n",
      "1.000000209722252\n",
      "nan\n",
      "1.0000000839001035\n",
      "nan\n",
      "1.0000002097256686\n",
      "nan\n",
      "1.0000002097223613\n",
      "nan\n",
      "1.0000002306930673\n",
      "nan\n",
      "1.000000209723083\n",
      "nan\n",
      "1.000000209722252\n",
      "nan\n",
      "1.0000002097219909\n",
      "nan\n",
      "1.0000001048666467\n",
      "nan\n",
      "1.0000002306931002\n",
      "nan\n",
      "1.0000002306930673\n",
      "nan\n",
      "1.0000002516641544\n",
      "('tuple index out of range',)\n",
      "tuple index out of range ---------error:  0 0\n",
      "0.9999999370968198\n",
      "nan\n",
      "1.0000001273620822\n",
      "nan\n",
      "1.0000001258473947\n",
      "nan\n",
      "1.0000001572972093\n",
      "nan\n",
      "1.000000251662475\n",
      "nan\n",
      "1.0000003146800784\n",
      "nan\n",
      "1.0000003145818637\n",
      "nan\n",
      "1.0000001273620822\n",
      "nan\n",
      "1.000000314822795\n",
      "nan\n",
      "1.0000003145857421\n",
      "nan\n",
      "1.0000003460368896\n",
      "nan\n",
      "1.0000003146800784\n",
      "nan\n",
      "1.0000003145889724\n",
      "nan\n",
      "1.0000003145806173\n",
      "nan\n",
      "1.0000001258473947\n",
      "nan\n",
      "1.0000003145857421\n",
      "nan\n",
      "1.0000003145807812\n",
      "nan\n",
      "1.0000003460368403\n",
      "nan\n",
      "1.0000003145818637\n",
      "nan\n",
      "1.0000003145806173\n",
      "nan\n",
      "1.0000003145802259\n",
      "nan\n",
      "1.0000001572972093\n",
      "nan\n",
      "1.0000003460368896\n",
      "nan\n",
      "1.0000003460368403\n",
      "nan\n",
      "1.000000377493471\n",
      "('tuple index out of range',)\n",
      "tuple index out of range ---------error:  0 0\n",
      "0.9999999119327869\n",
      "nan\n",
      "1.0000001783041546\n",
      "nan\n",
      "1.000000176183592\n",
      "nan\n",
      "1.0000002202133322\n",
      "nan\n",
      "1.0000003523247045\n",
      "nan\n",
      "1.000000440549349\n",
      "nan\n",
      "1.0000004404118485\n",
      "nan\n",
      "1.0000001783041546\n",
      "nan\n",
      "1.000000440749152\n",
      "nan\n",
      "1.0000004404172782\n",
      "nan\n",
      "1.000000484448885\n",
      "nan\n",
      "1.000000440549349\n",
      "nan\n",
      "1.0000004404218008\n",
      "nan\n",
      "1.0000004404101035\n",
      "nan\n",
      "1.000000176183592\n",
      "nan\n",
      "1.0000004404172782\n",
      "nan\n",
      "1.0000004404103329\n",
      "nan\n",
      "1.0000004844488157\n",
      "nan\n",
      "1.0000004404118485\n",
      "nan\n",
      "1.0000004404101035\n",
      "nan\n",
      "1.0000004404095555\n",
      "nan\n",
      "1.0000002202133322\n",
      "nan\n",
      "1.000000484448885\n",
      "nan\n",
      "1.0000004844488157\n",
      "nan\n",
      "1.0000005284880986\n",
      "('tuple index out of range',)\n",
      "tuple index out of range ---------error:  0 0\n",
      "0.9999998825742887\n",
      "nan\n",
      "1.000000237736112\n",
      "nan\n",
      "1.0000002349086952\n",
      "nan\n",
      "1.0000002936150156\n",
      "nan\n",
      "1.0000004697635119\n",
      "nan\n",
      "1.0000005873963713\n",
      "nan\n",
      "1.0000005872130373\n",
      "nan\n",
      "1.000000237736112\n",
      "nan\n",
      "1.0000005876627753\n",
      "nan\n",
      "1.000000587220277\n",
      "nan\n",
      "1.000000645929086\n",
      "nan\n",
      "1.0000005873963713\n",
      "nan\n",
      "1.0000005872263071\n",
      "nan\n",
      "1.0000005872107107\n",
      "nan\n",
      "1.0000002349086952\n",
      "nan\n",
      "1.000000587220277\n",
      "nan\n",
      "1.0000005872110167\n",
      "nan\n",
      "1.0000006459289934\n",
      "nan\n",
      "1.0000005872130373\n",
      "nan\n",
      "1.0000005872107107\n",
      "nan\n",
      "1.00000058720998\n",
      "nan\n",
      "1.0000002936150156\n",
      "nan\n",
      "1.000000645929086\n",
      "nan\n",
      "1.0000006459289934\n",
      "nan\n",
      "1.0000007046480375\n",
      "('tuple index out of range',)\n",
      "tuple index out of range ---------error:  0 0\n",
      "0.9999998490213247\n",
      "nan\n",
      "1.0000003056579547\n",
      "nan\n",
      "1.0000003020227046\n",
      "nan\n",
      "1.0000003775022595\n",
      "nan\n",
      "1.0000006039788976\n",
      "nan\n",
      "1.0000007552211454\n",
      "nan\n",
      "1.0000007549854302\n",
      "nan\n",
      "1.0000003056579547\n",
      "nan\n",
      "1.0000007555636647\n",
      "nan\n",
      "1.0000007549947383\n",
      "nan\n",
      "1.0000008304774926\n",
      "nan\n",
      "1.0000007552211454\n",
      "nan\n",
      "1.0000007550024912\n",
      "nan\n",
      "1.0000007549824388\n",
      "nan\n",
      "1.0000003020227046\n",
      "nan\n",
      "1.0000007549947383\n",
      "nan\n",
      "1.000000754982832\n",
      "nan\n",
      "1.0000008304773738\n",
      "nan\n",
      "1.0000007549854302\n",
      "nan\n",
      "1.0000007549824388\n",
      "nan\n",
      "1.0000007549814993\n",
      "nan\n",
      "1.0000003775022595\n",
      "nan\n",
      "1.0000008304774926\n",
      "nan\n",
      "1.0000008304773738\n",
      "nan\n",
      "1.0000009059732875\n",
      "('tuple index out of range',)\n",
      "tuple index out of range ---------error:  0 0\n",
      "0.9999998112738954\n",
      "nan\n",
      "1.0000003820696826\n",
      "nan\n",
      "1.00000037752562\n",
      "nan\n",
      "1.0000004718750637\n",
      "nan\n",
      "1.0000007549708612\n",
      "nan\n",
      "1.000000944023671\n",
      "nan\n",
      "1.0000009437290271\n",
      "nan\n",
      "1.0000003820696826\n",
      "nan\n",
      "1.0000009444518203\n",
      "nan\n",
      "1.0000009437406623\n",
      "nan\n",
      "1.000001038094105\n",
      "nan\n",
      "1.000000944023671\n",
      "nan\n",
      "1.0000009437503532\n",
      "nan\n",
      "1.0000009437252877\n",
      "nan\n",
      "1.00000037752562\n",
      "nan\n",
      "1.0000009437406623\n",
      "nan\n",
      "1.0000009437257795\n",
      "nan\n",
      "1.0000010380939566\n",
      "nan\n",
      "1.0000009437290271\n",
      "nan\n",
      "1.0000009437252877\n",
      "nan\n",
      "1.0000009437241135\n",
      "nan\n",
      "1.0000004718750637\n",
      "nan\n",
      "1.000001038094105\n",
      "nan\n",
      "1.0000010380939566\n",
      "nan\n",
      "1.0000011324638487\n",
      "('tuple index out of range',)\n",
      "tuple index out of range ---------error:  0 0\n"
     ]
    },
    {
     "name": "stderr",
     "output_type": "stream",
     "text": [
      "/home/krish/.local/lib/python3.6/site-packages/ipykernel_launcher.py:8: RuntimeWarning: invalid value encountered in double_scalars\n",
      "  \n"
     ]
    }
   ],
   "source": [
    "endStrain = myStrain(time_grid)\n",
    "#abs(time_grid[1,0,0,2,0]-time_grid[1,N[0]-1,0,2,0])/abs(time_grid[0,0,0,0,0]-time_grid[0,N[0]-1,0,0,0])"
   ]
  },
  {
   "cell_type": "code",
   "execution_count": 119,
   "metadata": {},
   "outputs": [
    {
     "data": {
      "text/plain": [
       "array([[nan,  0.,  0.],\n",
       "       [nan,  0.,  0.],\n",
       "       [nan,  0.,  0.],\n",
       "       [nan,  0.,  0.],\n",
       "       [nan,  0.,  0.],\n",
       "       [nan,  0.,  0.],\n",
       "       [nan,  0.,  0.],\n",
       "       [nan,  0.,  0.],\n",
       "       [nan,  0.,  0.],\n",
       "       [nan,  0.,  0.]])"
      ]
     },
     "execution_count": 119,
     "metadata": {},
     "output_type": "execute_result"
    }
   ],
   "source": [
    "endStrain"
   ]
  },
  {
   "cell_type": "markdown",
   "metadata": {},
   "source": [
    "## Determining the Strain"
   ]
  },
  {
   "cell_type": "code",
   "execution_count": 91,
   "metadata": {},
   "outputs": [],
   "source": [
    "strainXYZ = np.zeros([N[0], N[1], N[2], 3])\n",
    "time_strainXYZ = np.zeros([N_steps, N[0], N[1], N[2], 3])\n",
    "time_strainXYZ[0] = strainXYZ\n",
    "for t in range(N_steps):\n",
    "    if t==0:\n",
    "        pass #strainX[t] = 0\n",
    "    else:\n",
    "        strainXYZ = abs(time_grid[t]-time_grid[1])/ial\n",
    "        time_strainXYZ[t] = strainXYZ"
   ]
  },
  {
   "cell_type": "code",
   "execution_count": 92,
   "metadata": {},
   "outputs": [],
   "source": [
    "def timeStrainMean():\n",
    "    no = numberOfAtoms(latticeGrid)\n",
    "    time_strainMean = np.zeros([N_steps, 3])\n",
    "    StrainX = 0;StrainY = 0;StrainZ = 0;\n",
    "    for t in range(N_steps):\n",
    "        for i in range(N[0]):\n",
    "            for j in range(N[1]):\n",
    "                for k in range(N[2]):\n",
    "                    if(latticeGrid[i, j, k]==1):\n",
    "                        StrainX +=time_strainXYZ[t][i][j][k][0]\n",
    "                        StrainY +=time_strainXYZ[t][i][j][k][1]\n",
    "                        StrainZ +=time_strainXYZ[t][i][j][k][2]\n",
    "        StrainXMean = StrainX/no;StrainYMean = StrainY/no;StrainZMean = StrainZ/no;\n",
    "        time_strainMean[t] = np.array([StrainXMean, StrainYMean, StrainZMean])\n",
    "    return time_strainMean"
   ]
  },
  {
   "cell_type": "markdown",
   "metadata": {},
   "source": [
    "## Strain-Time Diagram"
   ]
  },
  {
   "cell_type": "code",
   "execution_count": 93,
   "metadata": {},
   "outputs": [
    {
     "data": {
      "text/plain": [
       "[<matplotlib.lines.Line2D at 0x7f172e7d2c88>]"
      ]
     },
     "execution_count": 93,
     "metadata": {},
     "output_type": "execute_result"
    },
    {
     "data": {
      "image/png": "[encoded data removed]",
      "text/plain": [
       "<matplotlib.figure.Figure at 0x7f172e616240>"
      ]
     },
     "metadata": {},
     "output_type": "display_data"
    }
   ],
   "source": [
    "time_strainMean = timeStrainMean()\n",
    "plt.plot(range(N_steps) ,time_strainMean[:,0])"
   ]
  },
  {
   "cell_type": "markdown",
   "metadata": {},
   "source": [
    "## Stress-Time Diagram"
   ]
  },
  {
   "cell_type": "code",
   "execution_count": 94,
   "metadata": {},
   "outputs": [
    {
     "data": {
      "text/plain": [
       "[<matplotlib.lines.Line2D at 0x7f172e6e2828>]"
      ]
     },
     "execution_count": 94,
     "metadata": {},
     "output_type": "execute_result"
    },
    {
     "data": {
      "image/png": "[encoded data removed]",
      "text/plain": [
       "<matplotlib.figure.Figure at 0x7f172e735390>"
      ]
     },
     "metadata": {},
     "output_type": "display_data"
    }
   ],
   "source": [
    "plt.plot(range(N_steps) ,time_stress[:,0])"
   ]
  },
  {
   "cell_type": "markdown",
   "metadata": {},
   "source": [
    "## Stress-Strain Diagram"
   ]
  },
  {
   "cell_type": "code",
   "execution_count": 95,
   "metadata": {},
   "outputs": [
    {
     "data": {
      "image/png": "[encoded data removed]",
      "text/plain": [
       "<matplotlib.figure.Figure at 0x7f172e5ef198>"
      ]
     },
     "metadata": {},
     "output_type": "display_data"
    },
    {
     "data": {
      "image/png": "[encoded data removed]",
      "text/plain": [
       "<matplotlib.figure.Figure at 0x7f172e9462b0>"
      ]
     },
     "metadata": {},
     "output_type": "display_data"
    }
   ],
   "source": [
    "n=N_steps\n",
    "#fig, axs = plt.subplot(1,2)\n",
    "\n",
    "plt.plot(time_strainMean[:n,0], time_stress[:n,0])\n",
    "plt.show()\n",
    "plt.scatter(time_strainMean[:n,0], time_stress[:n,0])\n",
    "plt.show()"
   ]
  },
  {
   "cell_type": "code",
   "execution_count": 96,
   "metadata": {},
   "outputs": [
    {
     "name": "stdout",
     "output_type": "stream",
     "text": [
      "nan \t 0.0\n",
      "nan \t 0.0\n",
      "nan \t 1.309696435704596e-07\n",
      "nan \t 4.583937284202732e-07\n",
      "nan \t 1.047757052258336e-06\n",
      "nan \t 1.964544412793543e-06\n",
      "nan \t 3.2742406077347943e-06\n",
      "nan \t 5.042330434790969e-06\n",
      "nan \t 7.33429869167097e-06\n",
      "nan \t 1.021563017608369e-05\n"
     ]
    }
   ],
   "source": [
    "for t in range(N_steps):\n",
    "    print(endStrain[t,0],'\\t',time_strainMean[t,0])"
   ]
  },
  {
   "cell_type": "code",
   "execution_count": 97,
   "metadata": {},
   "outputs": [
    {
     "data": {
      "image/png": "[encoded data removed]",
      "text/plain": [
       "<matplotlib.figure.Figure at 0x7f172e760f60>"
      ]
     },
     "metadata": {},
     "output_type": "display_data"
    }
   ],
   "source": [
    "for i in range(N[0]):\n",
    "    for j in range(N[1]):\n",
    "        plt.plot(range(N[0]), time_strainXYZ[4,:,i,j,0])"
   ]
  },
  {
   "cell_type": "markdown",
   "metadata": {},
   "source": [
    "## Stress/Strain Value"
   ]
  },
  {
   "cell_type": "code",
   "execution_count": 98,
   "metadata": {},
   "outputs": [
    {
     "name": "stdout",
     "output_type": "stream",
     "text": [
      "inf GPa\n",
      "inf GPa\n",
      "135779723.61823362 GPa\n",
      "51725611.71422022 GPa\n",
      "28287445.02052587 GPa\n",
      "18103965.367816187 GPa\n",
      "12672776.06809192 GPa\n",
      "9404657.7530509 GPa\n",
      "7273915.102436609 GPa\n",
      "5222298.09611008 GPa\n"
     ]
    },
    {
     "name": "stderr",
     "output_type": "stream",
     "text": [
      "/home/krish/.local/lib/python3.6/site-packages/ipykernel_launcher.py:2: RuntimeWarning: divide by zero encountered in double_scalars\n",
      "  \n"
     ]
    }
   ],
   "source": [
    "for i in range(N_steps):\n",
    "    print( (time_stress[i,0]/time_strainMean[i,0])/1e9,\"GPa\")"
   ]
  },
  {
   "cell_type": "code",
   "execution_count": 109,
   "metadata": {},
   "outputs": [
    {
     "data": {
      "image/png": "[encoded data removed]",
      "text/plain": [
       "<matplotlib.figure.Figure at 0x7f172e3dd7b8>"
      ]
     },
     "metadata": {},
     "output_type": "display_data"
    },
    {
     "data": {
      "image/png": "[encoded data removed]",
      "text/plain": [
       "<matplotlib.figure.Figure at 0x7f172c4d2f98>"
      ]
     },
     "metadata": {},
     "output_type": "display_data"
    },
    {
     "name": "stdout",
     "output_type": "stream",
     "text": [
      "nan GPa\n",
      "nan GPa\n",
      "nan GPa\n",
      "nan GPa\n",
      "nan GPa\n",
      "nan GPa\n",
      "nan GPa\n",
      "nan GPa\n",
      "nan GPa\n",
      "nan GPa\n"
     ]
    }
   ],
   "source": [
    "n=N_steps\n",
    "#fig, axs = plt.subplot(1,2)\n",
    "\n",
    "plt.plot(time_strainMean[:n,0], time_stress_applied[:n,0])\n",
    "plt.show()\n",
    "plt.scatter(time_strainMean[:n,0], time_stress_applied[:n,0])\n",
    "plt.show()\n",
    "for i in range(N_steps):\n",
    "    print( (time_stress_applied[i,0]/endStrain[i,0])/1e9,\"GPa\")"
   ]
  },
  {
   "cell_type": "code",
   "execution_count": null,
   "metadata": {},
   "outputs": [],
   "source": []
  },
  {
   "cell_type": "markdown",
   "metadata": {},
   "source": [
    "## Completion Alert"
   ]
  },
  {
   "cell_type": "code",
   "execution_count": 100,
   "metadata": {},
   "outputs": [],
   "source": [
    "import platform\n",
    "platform.system()\n",
    "if(platform.system()=='Windows'):\n",
    "    import winsound\n",
    "    duration = 1000  # millisecond\n",
    "    freq = 440  # Hz\n",
    "    winsound.Beep(freq, duration)\n",
    "if(platform.system()=='Linux'):\n",
    "    import os\n",
    "    os.system('spd-say \"your program is finished\"')\n"
   ]
  },
  {
   "cell_type": "markdown",
   "metadata": {},
   "source": [
    "## Program End"
   ]
  },
  {
   "cell_type": "code",
   "execution_count": 86,
   "metadata": {},
   "outputs": [
    {
     "name": "stdout",
     "output_type": "stream",
     "text": [
      "------------end------------\n"
     ]
    }
   ],
   "source": [
    "print(\"------------end------------\")"
   ]
  },
  {
   "cell_type": "code",
   "execution_count": null,
   "metadata": {},
   "outputs": [],
   "source": []
  }
 ],
 "metadata": {
  "kernelspec": {
   "display_name": "Python 3",
   "language": "python",
   "name": "python3"
  },
  "language_info": {
   "codemirror_mode": {
    "name": "ipython",
    "version": 3
   },
   "file_extension": ".py",
   "mimetype": "text/x-python",
   "name": "python",
   "nbconvert_exporter": "python",
   "pygments_lexer": "ipython3",
   "version": "3.6.4"
  }
 },
 "nbformat": 4,
 "nbformat_minor": 2
}
