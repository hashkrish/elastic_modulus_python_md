{
 "cells": [
  {
   "cell_type": "code",
   "execution_count": 2,
   "metadata": {},
   "outputs": [
    {
     "ename": "ModuleNotFoundError",
     "evalue": "No module named 'classes'",
     "output_type": "error",
     "traceback": [
      "\u001b[0;31m---------------------------------------------------------------------------\u001b[0m",
      "\u001b[0;31mModuleNotFoundError\u001b[0m                       Traceback (most recent call last)",
      "\u001b[0;32m<ipython-input-2-0306f011bded>\u001b[0m in \u001b[0;36m<module>\u001b[0;34m()\u001b[0m\n\u001b[1;32m      3\u001b[0m \u001b[0;32mimport\u001b[0m \u001b[0mscipy\u001b[0m \u001b[0;32mas\u001b[0m \u001b[0msp\u001b[0m\u001b[0;34m\u001b[0m\u001b[0m\n\u001b[1;32m      4\u001b[0m \u001b[0;32mimport\u001b[0m \u001b[0mmatplotlib\u001b[0m\u001b[0;34m.\u001b[0m\u001b[0mpyplot\u001b[0m \u001b[0;32mas\u001b[0m \u001b[0mplt\u001b[0m\u001b[0;34m\u001b[0m\u001b[0m\n\u001b[0;32m----> 5\u001b[0;31m \u001b[0;32mfrom\u001b[0m \u001b[0mclasses\u001b[0m\u001b[0;34m.\u001b[0m\u001b[0mconstantsmd\u001b[0m \u001b[0;32mimport\u001b[0m \u001b[0;34m*\u001b[0m\u001b[0;34m\u001b[0m\u001b[0m\n\u001b[0m\u001b[1;32m      6\u001b[0m \u001b[0;32mfrom\u001b[0m \u001b[0mclasses\u001b[0m\u001b[0;34m.\u001b[0m\u001b[0mgridmd\u001b[0m \u001b[0;32mimport\u001b[0m \u001b[0;34m*\u001b[0m\u001b[0;34m\u001b[0m\u001b[0m\n\u001b[1;32m      7\u001b[0m \u001b[0;32mfrom\u001b[0m \u001b[0mclasses\u001b[0m\u001b[0;34m.\u001b[0m\u001b[0mfunctionsmd\u001b[0m \u001b[0;32mimport\u001b[0m \u001b[0;34m*\u001b[0m\u001b[0;34m\u001b[0m\u001b[0m\n",
      "\u001b[0;31mModuleNotFoundError\u001b[0m: No module named 'classes'"
     ]
    }
   ],
   "source": [
    "import numpy as np\n",
    "import sympy as sy\n",
    "import scipy as sp\n",
    "import matplotlib.pyplot as plt\n",
    "from classes.constantsmd import *\n",
    "from classes.gridmd import *\n",
    "from classes.functionsmd import *\n",
    "sy.init_printing()"
   ]
  },
  {
   "cell_type": "code",
   "execution_count": 71,
   "metadata": {},
   "outputs": [
    {
     "data": {
      "text/plain": [
       "[<matplotlib.lines.Line2D at 0x27c481b7128>]"
      ]
     },
     "execution_count": 71,
     "metadata": {},
     "output_type": "execute_result"
    },
    {
     "data": {
      "image/png": "[encoded data removed]",
      "text/plain": [
       "<matplotlib.figure.Figure at 0x27c481f56d8>"
      ]
     },
     "metadata": {},
     "output_type": "display_data"
    }
   ],
   "source": [
    "\n",
    "N = 1000\n",
    "dt  = 0.1 \n",
    "x = np.zeros(N)\n",
    "v = np.zeros(N)\n",
    "t = np.arange(0,(N+0.5)*dt, dt)\n",
    "a = np.ones(N)*1.0  # initial condition\n",
    "x[[0,1]] = 1\n",
    "v[1] = v[0]+a[0]*dt\n",
    "\n",
    "for i in range (1,N-1):\n",
    "    x[i+1] = x[i] + v[i]*dt+(a[i]*(dt**2)*0.5)\n",
    "    v[i+1] = v[i] + a[i]*dt\n",
    "\n",
    "plt.plot(x,v)"
   ]
  },
  {
   "cell_type": "code",
   "execution_count": 72,
   "metadata": {},
   "outputs": [
    {
     "name": "stdout",
     "output_type": "stream",
     "text": [
      "-1 -1 0\n",
      "-1 -1 1\n",
      "-1 0 -1\n",
      "-1 0 0\n",
      "-1 0 1\n",
      "-1 1 -1\n",
      "-1 1 0\n",
      "-1 1 1\n",
      "0 -1 -1\n",
      "0 -1 0\n",
      "0 -1 1\n",
      "0 0 -1\n",
      "0 0 1\n",
      "0 1 -1\n",
      "0 1 0\n",
      "0 1 1\n",
      "1 -1 -1\n",
      "1 -1 0\n",
      "1 -1 1\n",
      "1 0 -1\n",
      "1 0 0\n",
      "1 0 1\n",
      "1 1 -1\n",
      "1 1 0\n"
     ]
    }
   ],
   "source": [
    "rg = np.array([-1,0,1])\n",
    "for i in rg:\n",
    "    for j in rg:\n",
    "        for k in rg:\n",
    "            if (i==j and j==k):\n",
    "                pass\n",
    "            else:\n",
    "                print(i,j,k)"
   ]
  },
  {
   "cell_type": "code",
   "execution_count": 73,
   "metadata": {},
   "outputs": [],
   "source": [
    "a=1;b=1;c=0\n"
   ]
  },
  {
   "cell_type": "code",
   "execution_count": 74,
   "metadata": {},
   "outputs": [
    {
     "name": "stdout",
     "output_type": "stream",
     "text": [
      "a=1\n",
      "b=1\n",
      "else\n"
     ]
    }
   ],
   "source": [
    "if (a==1):\n",
    "    print(\"a=1\")\n",
    "if (b==1):\n",
    "    print(\"b=1\")\n",
    "if (c==1):\n",
    "    print(\"c=1\")\n",
    "else:\n",
    "    print(\"else\")"
   ]
  },
  {
   "cell_type": "code",
   "execution_count": null,
   "metadata": {},
   "outputs": [],
   "source": []
  },
  {
   "cell_type": "code",
   "execution_count": 75,
   "metadata": {},
   "outputs": [],
   "source": [
    "avagadro = 6.023e23\n",
    "ial = 4.04e-10 #interatomic length\n",
    "epsilon = 0.5* 1.6e-19 #1.5 #dummy value\n",
    "sigma = 2.85e-10 #dummy value\n",
    "vel = 1000 #velocity per step\n",
    "acc = 0 #acceleration\n",
    "ts = 5e-9 #timestep ex: 0.005 nano seconds as 0.005e-9\n",
    "N_steps = 10"
   ]
  },
  {
   "cell_type": "code",
   "execution_count": 76,
   "metadata": {},
   "outputs": [
    {
     "ename": "TypeError",
     "evalue": "'function' object is not subscriptable",
     "output_type": "error",
     "traceback": [
      "\u001b[1;31m---------------------------------------------------------------------------\u001b[0m",
      "\u001b[1;31mTypeError\u001b[0m                                 Traceback (most recent call last)",
      "\u001b[1;32m<ipython-input-76-ae2a946e7f65>\u001b[0m in \u001b[0;36m<module>\u001b[1;34m()\u001b[0m\n\u001b[1;32m----> 1\u001b[1;33m \u001b[0mx1\u001b[0m\u001b[1;33m,\u001b[0m \u001b[0mx2\u001b[0m\u001b[1;33m,\u001b[0m \u001b[0mx3\u001b[0m \u001b[1;33m=\u001b[0m \u001b[0mxyz_grid\u001b[0m\u001b[1;33m[\u001b[0m\u001b[1;36m0\u001b[0m\u001b[1;33m]\u001b[0m\u001b[1;33m[\u001b[0m\u001b[1;36m0\u001b[0m\u001b[1;33m]\u001b[0m\u001b[1;33m[\u001b[0m\u001b[1;36m0\u001b[0m\u001b[1;33m]\u001b[0m\u001b[1;33m[\u001b[0m\u001b[1;36m0\u001b[0m\u001b[1;33m]\u001b[0m\u001b[1;33m,\u001b[0m \u001b[0mxyz_grid\u001b[0m\u001b[1;33m[\u001b[0m\u001b[1;36m1\u001b[0m\u001b[1;33m]\u001b[0m\u001b[1;33m[\u001b[0m\u001b[1;36m0\u001b[0m\u001b[1;33m]\u001b[0m\u001b[1;33m[\u001b[0m\u001b[1;36m0\u001b[0m\u001b[1;33m]\u001b[0m\u001b[1;33m[\u001b[0m\u001b[1;36m0\u001b[0m\u001b[1;33m]\u001b[0m\u001b[1;33m,\u001b[0m \u001b[0mxyz_grid\u001b[0m\u001b[1;33m[\u001b[0m\u001b[1;36m2\u001b[0m\u001b[1;33m]\u001b[0m\u001b[1;33m[\u001b[0m\u001b[1;36m0\u001b[0m\u001b[1;33m]\u001b[0m\u001b[1;33m[\u001b[0m\u001b[1;36m0\u001b[0m\u001b[1;33m]\u001b[0m\u001b[1;33m[\u001b[0m\u001b[1;36m0\u001b[0m\u001b[1;33m]\u001b[0m\u001b[1;33m\u001b[0m\u001b[0m\n\u001b[0m",
      "\u001b[1;31mTypeError\u001b[0m: 'function' object is not subscriptable"
     ]
    }
   ],
   "source": [
    "x1, x2, x3 = xyz_grid[0][0][0][0], xyz_grid[1][0][0][0], xyz_grid[2][0][0][0]"
   ]
  },
  {
   "cell_type": "code",
   "execution_count": null,
   "metadata": {},
   "outputs": [],
   "source": [
    "vpos = empty(N_steps)\n",
    "old = x1\n",
    "for i in range(N_steps-1):\n",
    "    #print(verlet_pos(old,i*ts,ts,acc),\"\\n\")\n",
    "    acc = forceLJ(vpos[i+1]-vpos[i],vpos[i],vpos[i+1])/avagadro\n",
    "    vpos[i]=verlet_pos(old,i*ts,ts,acc)\n",
    "    old = vpos[i]\n",
    "    \n",
    "    print(vpos[i],'\\t',forceLJ(vpos[i+1]-vpos[i],vpos[i],vpos[i+1])/avagadro)\n",
    "plot(range(N_steps),vpos)"
   ]
  },
  {
   "cell_type": "code",
   "execution_count": null,
   "metadata": {},
   "outputs": [],
   "source": [
    "n=100\n",
    "ls=np.empty(n)\n",
    "c = 0\n",
    "for i in range(n):\n",
    "    #print(verlet_acc(c,0,0.1,i*ial))\n",
    "    ls[i]=verlet_acc(c,0,0.1,i*ial)\n",
    "plt.plot(range(100),ls)"
   ]
  },
  {
   "cell_type": "code",
   "execution_count": 7,
   "metadata": {},
   "outputs": [
    {
     "name": "stdout",
     "output_type": "stream",
     "text": [
      "0\n",
      "1\n",
      "2\n",
      "3\n",
      "4\n",
      "5\n",
      "6\n",
      "7\n",
      "8\n",
      "9\n"
     ]
    }
   ],
   "source": [
    "for i in range(10):\n",
    "    print(i)"
   ]
  },
  {
   "cell_type": "code",
   "execution_count": 26,
   "metadata": {},
   "outputs": [
    {
     "name": "stdout",
     "output_type": "stream",
     "text": [
      "       Step     Time          Energy         fmax\n",
      "MDMin:    0 17:59:36       -0.306121       21.8066\n",
      "MDMin:    1 17:59:36       -0.326191       14.9926\n",
      "MDMin:    2 17:59:36       -0.343947        1.3261\n",
      "MDMin:    3 17:59:36       -0.344021        0.9059\n",
      "MDMin:    4 17:59:36       -0.344085        0.0879\n",
      "MDMin:    5 17:59:36       -0.344086        0.0601\n",
      "MDMin:    6 17:59:36       -0.344086        0.0058\n",
      "MDMin:    7 17:59:36       -0.344086        0.0040\n",
      "MDMin:    8 17:59:36       -0.344086        0.0004\n"
     ]
    }
   ],
   "source": [
    "from math import sqrt\n",
    "from ase import Atoms\n",
    "from ase.constraints import StrainFilter\n",
    "from ase.optimize.mdmin import MDMin\n",
    "from ase.io import Trajectory\n",
    "try:\n",
    "    from asap3 import EMT\n",
    "except ImportError:\n",
    "    pass\n",
    "else:\n",
    "    a = 3.6\n",
    "    b = a / 2\n",
    "    cu = Atoms('Cu', cell=[(0,b,b),(b,0,b),(b,b,0)], pbc=1) * (6, 6, 6)\n",
    "\n",
    "    cu.set_calculator(EMT())\n",
    "    f = StrainFilter(cu, [1, 1, 1, 0, 0, 0])\n",
    "    opt = MDMin(f, dt=0.01)\n",
    "    t = Trajectory('Cu.traj', 'w', cu)\n",
    "    opt.attach(t)\n",
    "    opt.run(0.001)"
   ]
  },
  {
   "cell_type": "code",
   "execution_count": 39,
   "metadata": {},
   "outputs": [
    {
     "name": "stdout",
     "output_type": "stream",
     "text": [
      "Analytical stress:\n",
      " [ 6.16229295e+00  6.16115122e+00 -1.05587519e+03  3.03854118e-02\n",
      "  6.98383784e-03 -3.01332272e-03]\n",
      "Numerical stress:\n",
      " [ 6.16229294e+00  6.16115121e+00 -1.05587519e+03  3.03854116e-02\n",
      "  6.98383972e-03 -3.01332184e-03]\n",
      "Percent error in stress:\n",
      " [-1.16060116e-07 -1.24900625e-07  3.31300080e-07 -5.07428979e-07\n",
      "  2.68735395e-05 -2.92212105e-05]\n"
     ]
    },
    {
     "ename": "AssertionError",
     "evalue": "",
     "output_type": "error",
     "traceback": [
      "\u001b[0;31m---------------------------------------------------------------------------\u001b[0m",
      "\u001b[0;31mAssertionError\u001b[0m                            Traceback (most recent call last)",
      "\u001b[0;32m<ipython-input-39-731be77dcd42>\u001b[0m in \u001b[0;36m<module>\u001b[0;34m()\u001b[0m\n\u001b[1;32m     33\u001b[0m \u001b[0mprint\u001b[0m\u001b[0;34m(\u001b[0m\u001b[0;34m\"Numerical stress:\\n\"\u001b[0m\u001b[0;34m,\u001b[0m \u001b[0ms_numerical\u001b[0m\u001b[0;34m)\u001b[0m\u001b[0;34m\u001b[0m\u001b[0m\n\u001b[1;32m     34\u001b[0m \u001b[0mprint\u001b[0m\u001b[0;34m(\u001b[0m\u001b[0;34m\"Percent error in stress:\\n\"\u001b[0m\u001b[0;34m,\u001b[0m \u001b[0ms_p_err\u001b[0m\u001b[0;34m)\u001b[0m\u001b[0;34m\u001b[0m\u001b[0m\n\u001b[0;32m---> 35\u001b[0;31m \u001b[0;32massert\u001b[0m \u001b[0mnp\u001b[0m\u001b[0;34m.\u001b[0m\u001b[0mall\u001b[0m\u001b[0;34m(\u001b[0m\u001b[0mabs\u001b[0m\u001b[0;34m(\u001b[0m\u001b[0ms_p_err\u001b[0m\u001b[0;34m)\u001b[0m \u001b[0;34m<\u001b[0m \u001b[0;36m1e-5\u001b[0m\u001b[0;34m)\u001b[0m\u001b[0;34m\u001b[0m\u001b[0m\n\u001b[0m\u001b[1;32m     36\u001b[0m \u001b[0;34m\u001b[0m\u001b[0m\n\u001b[1;32m     37\u001b[0m \u001b[0;31m# Minimize unit cell\u001b[0m\u001b[0;34m\u001b[0m\u001b[0;34m\u001b[0m\u001b[0m\n",
      "\u001b[0;31mAssertionError\u001b[0m: "
     ]
    }
   ],
   "source": [
    "from __future__ import division, print_function\n",
    "import numpy as np\n",
    "from ase.build import bulk\n",
    "from ase.calculators.lj import LennardJones\n",
    "from ase.constraints import UnitCellFilter\n",
    "from ase.optimize import MDMin\n",
    "\n",
    "# Theoretical infinite-cutoff LJ FCC unit cell parameters\n",
    "vol0 = 4 * 0.91615977036  # theoretical minimum\n",
    "a0 = vol0**(1 / 3)\n",
    "\n",
    "a = bulk('Cu', 'fcc', a=a0)\n",
    "cell0 = a.get_cell()\n",
    "\n",
    "a.calc = LennardJones()\n",
    "a.set_cell(np.dot(a.cell,\n",
    "                  [[1, 0, 0],\n",
    "                   [0, 1, 0],\n",
    "                   [0, 1, 1]]),\n",
    "           scale_atoms=True)\n",
    "\n",
    "a *= (1, 2, 3)\n",
    "cell0 *= np.array([1, 2, 3])[:, np.newaxis]\n",
    "\n",
    "a.rattle()\n",
    "\n",
    "# Verify analytical stress tensor against numerical value\n",
    "s_analytical = a.get_stress()\n",
    "s_numerical = a.calc.calculate_numerical_stress(a, 1e-5)\n",
    "s_p_err = 100 * (s_numerical - s_analytical) / s_numerical\n",
    "\n",
    "print(\"Analytical stress:\\n\", s_analytical)\n",
    "print(\"Numerical stress:\\n\", s_numerical)\n",
    "print(\"Percent error in stress:\\n\", s_p_err)\n",
    "assert np.all(abs(s_p_err) < 1e-5)\n",
    "\n",
    "# Minimize unit cell\n",
    "opt = MDMin(UnitCellFilter(a), dt=0.01)\n",
    "opt.run(fmax=1e-3)\n",
    "\n",
    "# Verify minimized unit cell using Niggli tensors\n",
    "g_minimized = np.dot(a.cell, a.cell.T)\n",
    "g_theory = np.dot(cell0, cell0.T)\n",
    "g_p_err = 100 * (g_minimized - g_theory) / g_theory\n",
    "\n",
    "print(\"Minimized Niggli tensor:\\n\", g_minimized)\n",
    "print(\"Theoretical Niggli tensor:\\n\", g_theory)\n",
    "print(\"Percent error in Niggli tensor:\\n\", g_p_err)\n",
    "assert np.all(abs(g_p_err) < 1)"
   ]
  },
  {
   "cell_type": "code",
   "execution_count": null,
   "metadata": {},
   "outputs": [],
   "source": []
  },
  {
   "cell_type": "code",
   "execution_count": null,
   "metadata": {},
   "outputs": [],
   "source": []
  }
 ],
 "metadata": {
  "kernelspec": {
   "display_name": "Python 3",
   "language": "python",
   "name": "python3"
  },
  "language_info": {
   "codemirror_mode": {
    "name": "ipython",
    "version": 3
   },
   "file_extension": ".py",
   "mimetype": "text/x-python",
   "name": "python",
   "nbconvert_exporter": "python",
   "pygments_lexer": "ipython3",
   "version": "3.6.4"
  }
 },
 "nbformat": 4,
 "nbformat_minor": 2
}
