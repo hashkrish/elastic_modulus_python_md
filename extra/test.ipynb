{
 "cells": [
  {
   "cell_type": "code",
   "execution_count": 3,
   "metadata": {},
   "outputs": [
    {
     "name": "stdout",
     "output_type": "stream",
     "text": [
      "called constantmd\n",
      "called gridmd\n",
      "called functionsmd\n"
     ]
    }
   ],
   "source": [
    "import sys;sys.path.append('/home/krish/elastic_modulus_python_md/')\n",
    "import numpy as np\n",
    "import sympy as sy\n",
    "import scipy as sp\n",
    "import matplotlib.pyplot as plt\n",
    "from classes.constantsmd import *\n",
    "from classes.gridmd import *\n",
    "from classes.functionsmd import *\n",
    "sy.init_printing()"
   ]
  },
  {
   "cell_type": "code",
   "execution_count": 71,
   "metadata": {},
   "outputs": [
    {
     "data": {
      "text/plain": [
       "[<matplotlib.lines.Line2D at 0x27c481b7128>]"
      ]
     },
     "execution_count": 71,
     "metadata": {},
     "output_type": "execute_result"
    },
    {
     "data": {
      "image/png": "[encoded data removed]",
      "text/plain": [
       "<matplotlib.figure.Figure at 0x27c481f56d8>"
      ]
     },
     "metadata": {},
     "output_type": "display_data"
    }
   ],
   "source": [
    "N = 1000\n",
    "dt  = 0.1 \n",
    "x = np.zeros(N)\n",
    "v = np.zeros(N)\n",
    "t = np.arange(0,(N+0.5)*dt, dt)\n",
    "a = np.ones(N)*1.0  # initial condition\n",
    "x[[0,1]] = 1\n",
    "v[1] = v[0]+a[0]*dt\n",
    "\n",
    "for i in range (1,N-1):\n",
    "    x[i+1] = x[i] + v[i]*dt+(a[i]*(dt**2)*0.5)\n",
    "    v[i+1] = v[i] + a[i]*dt\n",
    "\n",
    "plt.plot(x,v)"
   ]
  },
  {
   "cell_type": "code",
   "execution_count": 7,
   "metadata": {},
   "outputs": [
    {
     "name": "stdout",
     "output_type": "stream",
     "text": [
      "114\n"
     ]
    }
   ],
   "source": [
    "rg = np.array([-2,-1,0,1, 1])\n",
    "count =0\n",
    "for i in rg:\n",
    "    for j in rg:\n",
    "        for k in rg:\n",
    "            if (i==j and j==k):\n",
    "                pass\n",
    "            else:\n",
    "#                 print(i,j,k)\n",
    "                count += 1\n",
    "print(count)"
   ]
  },
  {
   "cell_type": "code",
   "execution_count": 4,
   "metadata": {},
   "outputs": [
    {
     "data": {
      "image/png": "[encoded data removed]",
      "text/latex": [
       "$$\\left [ 3, \\quad 4, \\quad 5, \\quad 6, \\quad 7, \\quad 8, \\quad 9\\right ]$$"
      ],
      "text/plain": [
       "[3, 4, 5, 6, 7, 8, 9]"
      ]
     },
     "execution_count": 4,
     "metadata": {},
     "output_type": "execute_result"
    }
   ],
   "source": [
    "n=7\n",
    "list(range(n//2,n+n//2))"
   ]
  }
 ],
 "metadata": {
  "kernelspec": {
   "display_name": "Python 3",
   "language": "python",
   "name": "python3"
  },
  "language_info": {
   "codemirror_mode": {
    "name": "ipython",
    "version": 3
   },
   "file_extension": ".py",
   "mimetype": "text/x-python",
   "name": "python",
   "nbconvert_exporter": "python",
   "pygments_lexer": "ipython3",
   "version": "3.6.4"
  }
 },
 "nbformat": 4,
 "nbformat_minor": 2
}
