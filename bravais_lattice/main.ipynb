{
 "cells": [
  {
   "cell_type": "code",
   "execution_count": 1,
   "metadata": {
    "ExecuteTime": {
     "end_time": "2018-03-31T13:51:12.665944Z",
     "start_time": "2018-03-31T13:51:12.623709Z"
    }
   },
   "outputs": [
    {
     "name": "stdout",
     "output_type": "stream",
     "text": [
      "called constantmd\n",
      "called gridmd\n",
      "called functionsmd\n"
     ]
    }
   ],
   "source": [
    "import getpass; username=getpass.getuser()\n",
    "import sys;sys.path.append('/home/'+username+'/elastic_modulus_python_md/')\n",
    "import matplotlib.pyplot as plt\n",
    "import numpy as np\n",
    "import random\n",
    "import scipy as sp\n",
    "\n",
    "from classes.constantsmd import ial, N_steps, N\n",
    "from classes.functionsmd import *\n",
    "from classes.gridmd import N_xyz\n",
    "from bravais import writeXYZFile, Force, defForce2D"
   ]
  },
  {
   "cell_type": "code",
   "execution_count": 2,
   "metadata": {
    "ExecuteTime": {
     "end_time": "2018-03-31T14:13:45.552184Z",
     "start_time": "2018-03-31T14:04:08.824319Z"
    }
   },
   "outputs": [
    {
     "name": "stdout",
     "output_type": "stream",
     "text": [
      "Total Potential Energy: -2.182832494400871e-16\n",
      "Fixends:  ['x']\n",
      "1 9 0 10 0 10\n"
     ]
    },
    {
     "name": "stderr",
     "output_type": "stream",
     "text": [
      "/home/krish/elastic_modulus_python_md/classes/functionsmd.py:18: RuntimeWarning: divide by zero encountered in double_scalars\n",
      "  return 4*epsilon*( (sigma/r)**12 - (sigma/r)**6 )\n",
      "/home/krish/elastic_modulus_python_md/classes/functionsmd.py:18: RuntimeWarning: invalid value encountered in double_scalars\n",
      "  return 4*epsilon*( (sigma/r)**12 - (sigma/r)**6 )\n",
      "/home/krish/elastic_modulus_python_md/classes/functionsmd.py:13: RuntimeWarning: divide by zero encountered in double_scalars\n",
      "  f=sigma/r\n",
      "/home/krish/elastic_modulus_python_md/classes/functionsmd.py:14: RuntimeWarning: invalid value encountered in double_scalars\n",
      "  Fxij = 24*epsilon*f**6*(2*f**6 - 1)/r*(x1-x2)/r\n"
     ]
    },
    {
     "name": "stdout",
     "output_type": "stream",
     "text": [
      "Total Potential Energy: -2.2774495455523334e-16\n",
      "Fixends:  ['x']\n",
      "1 9 0 10 0 10\n",
      "Total Potential Energy: -2.3344194405643864e-16\n",
      "Fixends:  ['x']\n",
      "1 9 0 10 0 10\n",
      "Total Potential Energy: -2.3680272023249967e-16\n",
      "Fixends:  ['x']\n",
      "1 9 0 10 0 10\n",
      "Total Potential Energy: -2.4136812977316927e-16\n",
      "Fixends:  ['x']\n",
      "1 9 0 10 0 10\n",
      "Total Potential Energy: -2.505141544772106e-16\n",
      "Fixends:  ['x']\n",
      "1 9 0 10 0 10\n",
      "Total Potential Energy: -2.5544273195380614e-16\n",
      "Fixends:  ['x']\n",
      "1 9 0 10 0 10\n",
      "Total Potential Energy: -2.5983494176227047e-16\n",
      "Fixends:  ['x']\n",
      "1 9 0 10 0 10\n",
      "Total Potential Energy: -2.67990311287091e-16\n",
      "Fixends:  ['x']\n",
      "1 9 0 10 0 10\n",
      "Total Potential Energy: -2.7044488895551845e-16\n",
      "Fixends:  ['x']\n",
      "1 9 0 10 0 10\n",
      "Total Potential Energy: -2.794253051937945e-16\n",
      "Fixends:  ['x']\n",
      "1 9 0 10 0 10\n",
      "Total Potential Energy: -2.851380820626236e-16\n",
      "Fixends:  ['x']\n",
      "1 9 0 10 0 10\n",
      "Total Potential Energy: -2.920934365706358e-16\n",
      "Fixends:  ['x']\n",
      "1 9 0 10 0 10\n",
      "Total Potential Energy: -2.956797810218092e-16\n",
      "Fixends:  ['x']\n",
      "1 9 0 10 0 10\n",
      "Total Potential Energy: -2.9651293395549893e-16\n",
      "Fixends:  ['x']\n",
      "1 9 0 10 0 10\n",
      "Total Potential Energy: -3.0527563542789714e-16\n",
      "Fixends:  ['x']\n",
      "1 9 0 10 0 10\n",
      "Total Potential Energy: -3.071718471400986e-16\n",
      "Fixends:  ['x']\n",
      "1 9 0 10 0 10\n",
      "Total Potential Energy: -3.1090058185446834e-16\n",
      "Fixends:  ['x']\n",
      "1 9 0 10 0 10\n",
      "Total Potential Energy: -3.187506321775918e-16\n",
      "Fixends:  ['x']\n",
      "1 9 0 10 0 10\n",
      "Total Potential Energy: -3.224505496642787e-16\n",
      "Fixends:  ['x']\n",
      "1 9 0 10 0 10\n",
      "----END----\n"
     ]
    }
   ],
   "source": [
    "arr = []\n",
    "for i in range(20):\n",
    "    posGrid = bravais(N[0], N[1], N[2], a=ial, type='FCC', ax=(1+i*0.001)*ial)\n",
    "    # writeXYZFile(PosGrid, path='bravais_lattice/test.xyz', scale='Angstrom')\n",
    "    # CustomPlotPosGrid(posGrid, point=[5,5,5])\n",
    "    # time_grid, force_grid = TimeGridAndForceGrid(posGrid, np.ones([3,3,3]))\n",
    "    Minimized = MinimizeMD(posGrid, ts=0.001, fixends=['x'])\n",
    "    forcegrid = Force(Minimized)[:8,:,:,0]\n",
    "    stress = np.sum(forcegrid)/(ial*ial*N[1]*N[2])\n",
    "    strain = 0.005\n",
    "\n",
    "    arr.append([stress,strain,stress/strain/1e9])\n",
    "print(\"----END----\")"
   ]
  },
  {
   "cell_type": "code",
   "execution_count": 3,
   "metadata": {
    "ExecuteTime": {
     "end_time": "2018-03-31T14:13:45.592253Z",
     "start_time": "2018-03-31T14:13:45.564781Z"
    }
   },
   "outputs": [
    {
     "data": {
      "text/plain": [
       "[[-14465131.205107834, 0.005, -2.893026241021567],\n",
       " [-22888854.673299707, 0.005, -4.577770934659942],\n",
       " [-19593921.81270924, 0.005, -3.9187843625418477],\n",
       " [61811626.545448646, 0.005, 12.36232530908973],\n",
       " [-95200673.17794758, 0.005, -19.040134635589517],\n",
       " [-89922217.15575716, 0.005, -17.984443431151433],\n",
       " [81434253.08016126, 0.005, 16.28685061603225],\n",
       " [-66358270.492422536, 0.005, -13.271654098484506],\n",
       " [-6603317.075002549, 0.005, -1.3206634150005097],\n",
       " [-128181372.51153691, 0.005, -25.63627450230738],\n",
       " [-14991940.78562546, 0.005, -2.998388157125092],\n",
       " [46158760.993085496, 0.005, 9.2317521986171],\n",
       " [-92588839.08847734, 0.005, -18.517767817695468],\n",
       " [-9705136.499724947, 0.005, -1.9410272999449893],\n",
       " [109047017.32951063, 0.005, 21.809403465902125],\n",
       " [-69088115.13081606, 0.005, -13.817623026163211],\n",
       " [93858756.56720386, 0.005, 18.771751313440774],\n",
       " [63961059.312382996, 0.005, 12.792211862476599],\n",
       " [-94553914.0089987, 0.005, -18.91078280179974],\n",
       " [40528904.40031028, 0.005, 8.105780880062056]]"
      ]
     },
     "execution_count": 3,
     "metadata": {},
     "output_type": "execute_result"
    }
   ],
   "source": [
    "arr"
   ]
  },
  {
   "cell_type": "code",
   "execution_count": null,
   "metadata": {
    "ExecuteTime": {
     "end_time": "2018-03-31T13:48:26.725803Z",
     "start_time": "2018-03-31T13:48:11.003529Z"
    }
   },
   "outputs": [],
   "source": []
  },
  {
   "cell_type": "code",
   "execution_count": null,
   "metadata": {
    "ExecuteTime": {
     "end_time": "2018-03-31T13:48:42.448066Z",
     "start_time": "2018-03-31T13:48:26.743340Z"
    }
   },
   "outputs": [],
   "source": []
  },
  {
   "cell_type": "code",
   "execution_count": null,
   "metadata": {
    "ExecuteTime": {
     "end_time": "2018-03-31T13:48:42.469098Z",
     "start_time": "2018-03-31T13:48:42.453287Z"
    }
   },
   "outputs": [],
   "source": []
  },
  {
   "cell_type": "code",
   "execution_count": 4,
   "metadata": {
    "ExecuteTime": {
     "end_time": "2018-03-31T13:48:42.976504Z",
     "start_time": "2018-03-31T13:48:42.476006Z"
    }
   },
   "outputs": [
    {
     "ename": "SyntaxError",
     "evalue": "invalid syntax (<ipython-input-4-1723007d6102>, line 1)",
     "output_type": "error",
     "traceback": [
      "\u001b[0;36m  File \u001b[0;32m\"<ipython-input-4-1723007d6102>\"\u001b[0;36m, line \u001b[0;32m1\u001b[0m\n\u001b[0;31m    55782481.17601263 0.005 11.156496235202527\u001b[0m\n\u001b[0m                          ^\u001b[0m\n\u001b[0;31mSyntaxError\u001b[0m\u001b[0;31m:\u001b[0m invalid syntax\n"
     ]
    }
   ],
   "source": [
    "55782481.17601263 0.005 11.156496235202527\n",
    "51581013.403472506 0.005 10.3162026806945"
   ]
  },
  {
   "cell_type": "code",
   "execution_count": null,
   "metadata": {},
   "outputs": [],
   "source": []
  },
  {
   "cell_type": "code",
   "execution_count": null,
   "metadata": {},
   "outputs": [],
   "source": []
  }
 ],
 "metadata": {
  "kernelspec": {
   "display_name": "Python 3",
   "language": "python",
   "name": "python3"
  },
  "language_info": {
   "codemirror_mode": {
    "name": "ipython",
    "version": 3
   },
   "file_extension": ".py",
   "mimetype": "text/x-python",
   "name": "python",
   "nbconvert_exporter": "python",
   "pygments_lexer": "ipython3",
   "version": "3.6.4"
  },
  "latex_envs": {
   "LaTeX_envs_menu_present": true,
   "autoclose": false,
   "autocomplete": true,
   "bibliofile": "biblio.bib",
   "cite_by": "apalike",
   "current_citInitial": 1,
   "eqLabelWithNumbers": true,
   "eqNumInitial": 1,
   "hotkeys": {
    "equation": "Ctrl-E",
    "itemize": "Ctrl-I"
   },
   "labels_anchors": false,
   "latex_user_defs": false,
   "report_style_numbering": false,
   "user_envs_cfg": false
  }
 },
 "nbformat": 4,
 "nbformat_minor": 2
}
