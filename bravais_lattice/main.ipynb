{
 "cells": [
  {
   "cell_type": "code",
   "execution_count": 8,
   "metadata": {
    "ExecuteTime": {
     "end_time": "2018-03-31T13:51:12.665944Z",
     "start_time": "2018-03-31T13:51:12.623709Z"
    }
   },
   "outputs": [],
   "source": [
    "import getpass; username=getpass.getuser()\n",
    "import sys;sys.path.append('/home/'+username+'/elastic_modulus_python_md/')\n",
    "import matplotlib.pyplot as plt\n",
    "import numpy as np\n",
    "import random\n",
    "import scipy as sp\n",
    "\n",
    "from classes.constantsmd import ial, N_steps, N\n",
    "from classes.functionsmd import *\n",
    "from classes.gridmd import N_xyz\n",
    "from bravais import writeXYZFile, Force, defForce2D"
   ]
  },
  {
   "cell_type": "code",
   "execution_count": 11,
   "metadata": {
    "ExecuteTime": {
     "end_time": "2018-03-31T14:13:45.552184Z",
     "start_time": "2018-03-31T14:04:08.824319Z"
    }
   },
   "outputs": [
    {
     "name": "stdout",
     "output_type": "stream",
     "text": [
      "Total Potential Energy: -2.210847027732498e-16\n",
      "Fixends:  ['x']\n",
      "1 9 0 10 0 10\n"
     ]
    },
    {
     "name": "stderr",
     "output_type": "stream",
     "text": [
      "/home/elcot/elastic_modulus_python_md/classes/functionsmd.py:18: RuntimeWarning: divide by zero encountered in double_scalars\n",
      "  return 4*epsilon*( (sigma/r)**12 - (sigma/r)**6 )\n",
      "/home/elcot/elastic_modulus_python_md/classes/functionsmd.py:18: RuntimeWarning: invalid value encountered in double_scalars\n",
      "  return 4*epsilon*( (sigma/r)**12 - (sigma/r)**6 )\n",
      "/home/elcot/elastic_modulus_python_md/classes/functionsmd.py:13: RuntimeWarning: divide by zero encountered in double_scalars\n",
      "  f=sigma/r\n",
      "/home/elcot/elastic_modulus_python_md/classes/functionsmd.py:14: RuntimeWarning: invalid value encountered in double_scalars\n",
      "  Fxij = 24*epsilon*f**6*(2*f**6 - 1)/r*(x1-x2)/r\n"
     ]
    },
    {
     "name": "stdout",
     "output_type": "stream",
     "text": [
      "Total Potential Energy: -2.310852962268116e-16\n",
      "Fixends:  ['x']\n",
      "1 9 0 10 0 10\n"
     ]
    },
    {
     "name": "stderr",
     "output_type": "stream",
     "text": [
      "/home/elcot/elastic_modulus_python_md/classes/functionsmd.py:18: RuntimeWarning: overflow encountered in double_scalars\n",
      "  return 4*epsilon*( (sigma/r)**12 - (sigma/r)**6 )\n",
      "/home/elcot/elastic_modulus_python_md/classes/functionsmd.py:14: RuntimeWarning: overflow encountered in double_scalars\n",
      "  Fxij = 24*epsilon*f**6*(2*f**6 - 1)/r*(x1-x2)/r\n"
     ]
    },
    {
     "name": "stdout",
     "output_type": "stream",
     "text": [
      "Total Potential Energy: -2.325978147893245e-16\n",
      "Fixends:  ['x']\n",
      "1 9 0 10 0 10\n",
      "Total Potential Energy: -2.35569879441695e-16\n",
      "Fixends:  ['x']\n",
      "1 9 0 10 0 10\n",
      "Total Potential Energy: -2.4356540113289934e-16\n",
      "Fixends:  ['x']\n",
      "1 9 0 10 0 10\n",
      "Total Potential Energy: -2.453993906833938e-16\n",
      "Fixends:  ['x']\n",
      "1 9 0 10 0 10\n",
      "Total Potential Energy: -2.5577899131642946e-16\n",
      "Fixends:  ['x']\n",
      "1 9 0 10 0 10\n",
      "Total Potential Energy: -2.5899627080863637e-16\n",
      "Fixends:  ['x']\n",
      "1 9 0 10 0 10\n",
      "Total Potential Energy: -2.6517287127671714e-16\n",
      "Fixends:  ['x']\n",
      "1 9 0 10 0 10\n",
      "Total Potential Energy: -2.7349281815869424e-16\n",
      "Fixends:  ['x']\n",
      "1 9 0 10 0 10\n",
      "Total Potential Energy: -2.7784329573958056e-16\n",
      "Fixends:  ['x']\n",
      "1 9 0 10 0 10\n",
      "Total Potential Energy: -2.797677474057538e-16\n",
      "Fixends:  ['x']\n",
      "1 9 0 10 0 10\n",
      "Total Potential Energy: -2.899413382869524e-16\n",
      "Fixends:  ['x']\n",
      "1 9 0 10 0 10\n",
      "Total Potential Energy: -2.923471811150482e-16\n",
      "Fixends:  ['x']\n",
      "1 9 0 10 0 10\n",
      "Total Potential Energy: -2.982974721925847e-16\n",
      "Fixends:  ['x']\n",
      "1 9 0 10 0 10\n",
      "Total Potential Energy: -3.035433302810672e-16\n",
      "Fixends:  ['x']\n",
      "1 9 0 10 0 10\n",
      "Total Potential Energy: -3.074525623759521e-16\n",
      "Fixends:  ['x']\n",
      "1 9 0 10 0 10\n",
      "Total Potential Energy: -3.1346922709474345e-16\n",
      "Fixends:  ['x']\n",
      "1 9 0 10 0 10\n",
      "Total Potential Energy: -3.1859742171317516e-16\n",
      "Fixends:  ['x']\n",
      "1 9 0 10 0 10\n",
      "Total Potential Energy: -3.224548493921672e-16\n",
      "Fixends:  ['x']\n",
      "1 9 0 10 0 10\n",
      "----END----\n"
     ]
    }
   ],
   "source": [
    "arr = []\n",
    "for i in range(20):\n",
    "    posGrid = bravais(N[0], N[1], N[2], a=ial, type='FCC', ax=(1+i*0.001)*ial)\n",
    "    # writeXYZFile(PosGrid, path='bravais_lattice/test.xyz', scale='Angstrom')\n",
    "    # CustomPlotPosGrid(posGrid, point=[5,5,5])\n",
    "    # time_grid, force_grid = TimeGridAndForceGrid(posGrid, np.ones([3,3,3]))\n",
    "    Minimized = MinimizeMD(posGrid, ts=0.001, fixends=['x'])\n",
    "    forcegrid = Force(Minimized)[:8,:,:,0]\n",
    "    stress = np.sum(forcegrid)/(ial*ial*N[1]*N[2])\n",
    "    strain = 0.005\n",
    "\n",
    "    arr.append([stress,strain,stress/strain/1e9])\n",
    "print(\"----END----\")"
   ]
  },
  {
   "cell_type": "code",
   "execution_count": 12,
   "metadata": {
    "ExecuteTime": {
     "end_time": "2018-03-31T14:13:45.592253Z",
     "start_time": "2018-03-31T14:13:45.564781Z"
    }
   },
   "outputs": [
    {
     "data": {
      "text/plain": [
       "[[47134179.12755048, 0.005, 9.426835825510096],\n",
       " [-56232171.22737137, 0.005, -11.246434245474275],\n",
       " [-168990142.54983076, 0.005, -33.79802850996615],\n",
       " [-79080223.68201359, 0.005, -15.816044736402718],\n",
       " [90047113.25813566, 0.005, 18.009422651627133],\n",
       " [48720932.31401047, 0.005, 9.744186462802093],\n",
       " [-140021035.52642205, 0.005, -28.004207105284408],\n",
       " [155754200.3844389, 0.005, 31.15084007688778],\n",
       " [-104853151.94034654, 0.005, -20.97063038806931],\n",
       " [-97016111.99143177, 0.005, -19.403222398286353],\n",
       " [112536660.32829674, 0.005, 22.507332065659348],\n",
       " [-25221144.97238642, 0.005, -5.044228994477283],\n",
       " [-11862563.086298367, 0.005, -2.372512617259673],\n",
       " [-58913745.92897458, 0.005, -11.782749185794914],\n",
       " [122381158.8946987, 0.005, 24.476231778939738],\n",
       " [-8574534.635972902, 0.005, -1.7149069271945803],\n",
       " [-107949527.13862298, 0.005, -21.5899054277246],\n",
       " [65815046.59083675, 0.005, 13.163009318167349],\n",
       " [56065044.586268514, 0.005, 11.213008917253703],\n",
       " [-66704704.716068365, 0.005, -13.340940943213672]]"
      ]
     },
     "execution_count": 12,
     "metadata": {},
     "output_type": "execute_result"
    }
   ],
   "source": [
    "arr"
   ]
  },
  {
   "cell_type": "code",
   "execution_count": 4,
   "metadata": {
    "ExecuteTime": {
     "end_time": "2018-03-31T13:48:26.725803Z",
     "start_time": "2018-03-31T13:48:11.003529Z"
    }
   },
   "outputs": [
    {
     "name": "stderr",
     "output_type": "stream",
     "text": [
      "/home/elcot/elastic_modulus_python_md/classes/functionsmd.py:13: RuntimeWarning: divide by zero encountered in double_scalars\n",
      "  f=sigma/r\n",
      "/home/elcot/elastic_modulus_python_md/classes/functionsmd.py:14: RuntimeWarning: invalid value encountered in double_scalars\n",
      "  Fxij = 24*epsilon*f**6*(2*f**6 - 1)/r*(x1-x2)/r\n"
     ]
    },
    {
     "name": "stdout",
     "output_type": "stream",
     "text": [
      "3.6155323223124956e-12\n"
     ]
    }
   ],
   "source": []
  },
  {
   "cell_type": "code",
   "execution_count": 5,
   "metadata": {
    "ExecuteTime": {
     "end_time": "2018-03-31T13:48:42.448066Z",
     "start_time": "2018-03-31T13:48:26.743340Z"
    }
   },
   "outputs": [
    {
     "name": "stderr",
     "output_type": "stream",
     "text": [
      "/home/elcot/elastic_modulus_python_md/classes/functionsmd.py:13: RuntimeWarning: divide by zero encountered in double_scalars\n",
      "  f=sigma/r\n",
      "/home/elcot/elastic_modulus_python_md/classes/functionsmd.py:14: RuntimeWarning: invalid value encountered in double_scalars\n",
      "  Fxij = 24*epsilon*f**6*(2*f**6 - 1)/r*(x1-x2)/r\n"
     ]
    }
   ],
   "source": []
  },
  {
   "cell_type": "code",
   "execution_count": 6,
   "metadata": {
    "ExecuteTime": {
     "end_time": "2018-03-31T13:48:42.469098Z",
     "start_time": "2018-03-31T13:48:42.453287Z"
    }
   },
   "outputs": [
    {
     "name": "stdout",
     "output_type": "stream",
     "text": [
      "177214602.6032985 0.005 35.4429205206597\n"
     ]
    }
   ],
   "source": []
  },
  {
   "cell_type": "code",
   "execution_count": 7,
   "metadata": {
    "ExecuteTime": {
     "end_time": "2018-03-31T13:48:42.976504Z",
     "start_time": "2018-03-31T13:48:42.476006Z"
    }
   },
   "outputs": [
    {
     "ename": "SyntaxError",
     "evalue": "invalid syntax (<ipython-input-7-1723007d6102>, line 1)",
     "output_type": "error",
     "traceback": [
      "\u001b[0;36m  File \u001b[0;32m\"<ipython-input-7-1723007d6102>\"\u001b[0;36m, line \u001b[0;32m1\u001b[0m\n\u001b[0;31m    55782481.17601263 0.005 11.156496235202527\u001b[0m\n\u001b[0m                          ^\u001b[0m\n\u001b[0;31mSyntaxError\u001b[0m\u001b[0;31m:\u001b[0m invalid syntax\n"
     ]
    }
   ],
   "source": [
    "55782481.17601263 0.005 11.156496235202527\n",
    "51581013.403472506 0.005 10.3162026806945"
   ]
  },
  {
   "cell_type": "code",
   "execution_count": null,
   "metadata": {},
   "outputs": [],
   "source": []
  },
  {
   "cell_type": "code",
   "execution_count": null,
   "metadata": {},
   "outputs": [],
   "source": []
  }
 ],
 "metadata": {
  "kernelspec": {
   "display_name": "Python 3",
   "language": "python",
   "name": "python3"
  },
  "language_info": {
   "codemirror_mode": {
    "name": "ipython",
    "version": 3
   },
   "file_extension": ".py",
   "mimetype": "text/x-python",
   "name": "python",
   "nbconvert_exporter": "python",
   "pygments_lexer": "ipython3",
   "version": "3.4.2"
  },
  "latex_envs": {
   "LaTeX_envs_menu_present": true,
   "autoclose": false,
   "autocomplete": true,
   "bibliofile": "biblio.bib",
   "cite_by": "apalike",
   "current_citInitial": 1,
   "eqLabelWithNumbers": true,
   "eqNumInitial": 1,
   "hotkeys": {
    "equation": "Ctrl-E",
    "itemize": "Ctrl-I"
   },
   "labels_anchors": false,
   "latex_user_defs": false,
   "report_style_numbering": false,
   "user_envs_cfg": false
  }
 },
 "nbformat": 4,
 "nbformat_minor": 2
}
