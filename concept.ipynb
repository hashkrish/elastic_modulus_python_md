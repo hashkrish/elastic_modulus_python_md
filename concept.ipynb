{
 "cells": [
  {
   "cell_type": "code",
   "execution_count": null,
   "metadata": {},
   "outputs": [],
   "source": []
  },
  {
   "cell_type": "code",
   "execution_count": 1,
   "metadata": {
    "ExecuteTime": {
     "end_time": "2018-03-31T12:34:07.068499Z",
     "start_time": "2018-03-31T12:34:03.286281Z"
    }
   },
   "outputs": [],
   "source": [
    "import numpy as np\n",
    "import sympy as sy\n",
    "import scipy as sp\n",
    "import matplotlib.pyplot as plt\n",
    "sy.init_printing()"
   ]
  },
  {
   "cell_type": "code",
   "execution_count": 2,
   "metadata": {
    "ExecuteTime": {
     "end_time": "2018-03-31T12:34:07.094140Z",
     "start_time": "2018-03-31T12:34:07.083369Z"
    }
   },
   "outputs": [],
   "source": [
    "from sympy.core.symbol import symbols\n",
    "from sympy import Matrix"
   ]
  },
  {
   "cell_type": "code",
   "execution_count": 8,
   "metadata": {
    "ExecuteTime": {
     "end_time": "2018-03-31T12:35:04.847672Z",
     "start_time": "2018-03-31T12:35:04.801079Z"
    }
   },
   "outputs": [
    {
     "ename": "ValueError",
     "evalue": "need more than 4 values to unpack",
     "output_type": "error",
     "traceback": [
      "\u001b[0;31m---------------------------------------------------------------------------\u001b[0m",
      "\u001b[0;31mValueError\u001b[0m                                Traceback (most recent call last)",
      "\u001b[0;32m<ipython-input-8-81a3d46f7535>\u001b[0m in \u001b[0;36m<module>\u001b[0;34m()\u001b[0m\n\u001b[1;32m      1\u001b[0m \u001b[0msigma\u001b[0m\u001b[0;34m,\u001b[0m \u001b[0mr\u001b[0m \u001b[0;34m,\u001b[0m \u001b[0mepsilon\u001b[0m\u001b[0;34m,\u001b[0m \u001b[0mV\u001b[0m\u001b[0;34m,\u001b[0m \u001b[0mf\u001b[0m\u001b[0;34m=\u001b[0m \u001b[0msy\u001b[0m\u001b[0;34m.\u001b[0m\u001b[0msymbols\u001b[0m\u001b[0;34m(\u001b[0m\u001b[0;34m'sigma r epsilon V f'\u001b[0m\u001b[0;34m)\u001b[0m\u001b[0;34m\u001b[0m\u001b[0m\n\u001b[1;32m      2\u001b[0m \u001b[0mx1\u001b[0m\u001b[0;34m,\u001b[0m \u001b[0mx2\u001b[0m\u001b[0;34m,\u001b[0m \u001b[0my1\u001b[0m\u001b[0;34m,\u001b[0m \u001b[0my2\u001b[0m\u001b[0;34m,\u001b[0m \u001b[0mz1\u001b[0m\u001b[0;34m,\u001b[0m \u001b[0mz2\u001b[0m \u001b[0;34m=\u001b[0m \u001b[0msy\u001b[0m\u001b[0;34m.\u001b[0m\u001b[0msymbols\u001b[0m\u001b[0;34m(\u001b[0m\u001b[0;34m'x1 x2 y1 y2 z1 z2'\u001b[0m\u001b[0;34m)\u001b[0m\u001b[0;34m\u001b[0m\u001b[0m\n\u001b[0;32m----> 3\u001b[0;31m \u001b[0mxi\u001b[0m\u001b[0;34m,\u001b[0m \u001b[0mxj\u001b[0m\u001b[0;34m,\u001b[0m \u001b[0mt\u001b[0m\u001b[0;34m,\u001b[0m \u001b[0mdt\u001b[0m\u001b[0;34m,\u001b[0m \u001b[0ma\u001b[0m \u001b[0;34m=\u001b[0m \u001b[0msy\u001b[0m\u001b[0;34m.\u001b[0m\u001b[0msymbols\u001b[0m\u001b[0;34m(\u001b[0m\u001b[0;34m'x_i x_j t delta '\u001b[0m\u001b[0;34m)\u001b[0m\u001b[0;34m\u001b[0m\u001b[0m\n\u001b[0m\u001b[1;32m      4\u001b[0m \u001b[0;34m\u001b[0m\u001b[0m\n\u001b[1;32m      5\u001b[0m \u001b[0;31m# ex, ey, ez = symbols('epsilon_x epsilon_y epsilon_z')\u001b[0m\u001b[0;34m\u001b[0m\u001b[0;34m\u001b[0m\u001b[0m\n",
      "\u001b[0;31mValueError\u001b[0m: need more than 4 values to unpack"
     ]
    }
   ],
   "source": [
    "sigma, r , epsilon, V, f= sy.symbols('sigma r epsilon V f')\n",
    "x1, x2, y1, y2, z1, z2 = sy.symbols('x1 x2 y1 y2 z1 z2')\n",
    "xi, xj, t, dt, a = sy.symbols('x_i x_j t delta ')\n",
    "\n",
    "# ex, ey, ez = symbols('epsilon_x epsilon_y epsilon_z')\n",
    "# rxy, ryz, rzx = symbols('gamma_xy gamma_yz gamma_zx')\n",
    "# sigx, sigy, sigz = symbols('sigma_x sigma_y sigma_z')\n",
    "# tauxy, tauyz, tauzx = symbols('tau_xy tau_yz tau_zx')\n",
    "# C11, C12, C13 = symbols('C11, C12, C13')\n",
    "# C21, C22, C23 = symbols('C21, C22, C23')\n",
    "# C31, C32, C33 = symbols('C31, C32, C33')\n",
    "# C44, C55, C66 = symbols('C44, C55, C66')\n",
    "# nu, E = symbols('nu E')"
   ]
  },
  {
   "cell_type": "code",
   "execution_count": 9,
   "metadata": {
    "ExecuteTime": {
     "end_time": "2018-03-31T12:35:05.106719Z",
     "start_time": "2018-03-31T12:35:05.048819Z"
    }
   },
   "outputs": [
    {
     "name": "stdout",
     "output_type": "stream",
     "text": [
      "C11 C12 C13 C14 C15 C16 C21 C22 C23 C24 C25 C26 C31 C32 C33 C34 C35 C36 C41 C42 C43 C44 C45 C46 C51 C52 C53 C54 C55 C56 C61 C62 C63 C64 C65 C66 "
     ]
    }
   ],
   "source": [
    "for i in range(6):\n",
    "    for j in range(6):\n",
    "        print(\"C\"+str(i+1)+str(j+1)+\" \",end=\"\")"
   ]
  },
  {
   "cell_type": "code",
   "execution_count": 10,
   "metadata": {
    "ExecuteTime": {
     "end_time": "2018-03-31T12:35:06.657483Z",
     "start_time": "2018-03-31T12:35:05.188872Z"
    }
   },
   "outputs": [
    {
     "data": {
      "image/png": "[encoded data removed]",
      "text/latex": [
       "$$4 \\epsilon{\\left (- \\frac{\\sigma^{6}}{r^{6}} + \\frac{\\sigma^{12}}{r^{12}} \\right )}$$"
      ],
      "text/plain": [
       "   ⎛   6    12⎞\n",
       "   ⎜  σ    σ  ⎟\n",
       "4⋅ε⎜- ── + ───⎟\n",
       "   ⎜   6    12⎟\n",
       "   ⎝  r    r  ⎠"
      ]
     },
     "execution_count": 10,
     "metadata": {},
     "output_type": "execute_result"
    }
   ],
   "source": [
    "V=4*epsilon( (sigma/r)**12 - (sigma/r)**6 )\n",
    "V"
   ]
  },
  {
   "cell_type": "code",
   "execution_count": 11,
   "metadata": {
    "ExecuteTime": {
     "end_time": "2018-03-31T12:35:06.953963Z",
     "start_time": "2018-03-31T12:35:06.661881Z"
    }
   },
   "outputs": [
    {
     "data": {
      "text/latex": [
       "$$- 4 \\left(\\frac{6 \\sigma^{6}}{r^{7}} - \\frac{12 \\sigma^{12}}{r^{13}}\\right) \\left. \\frac{d}{d \\xi_{1}} \\epsilon{\\left (\\xi_{1} \\right )} \\right|_{\\substack{ \\xi_{1}=- \\frac{\\sigma^{6}}{r^{6}} + \\frac{\\sigma^{12}}{r^{12}} }}$$"
      ],
      "text/plain": [
       "   ⎛   6       12⎞                           \n",
       "   ⎜6⋅σ    12⋅σ  ⎟ ⎛ d        ⎞│      6    12\n",
       "-4⋅⎜──── - ──────⎟⋅⎜───(ε(ξ₁))⎟│     σ    σ  \n",
       "   ⎜  7      13  ⎟ ⎝dξ₁       ⎠│ξ₁=- ── + ───\n",
       "   ⎝ r      r    ⎠                    6    12\n",
       "                                     r    r  "
      ]
     },
     "execution_count": 11,
     "metadata": {},
     "output_type": "execute_result"
    }
   ],
   "source": [
    "dV_dr=sy.diff(V,r)\n",
    "F=-dV_dr\n",
    "F"
   ]
  },
  {
   "cell_type": "code",
   "execution_count": 12,
   "metadata": {
    "ExecuteTime": {
     "end_time": "2018-03-31T12:35:07.354577Z",
     "start_time": "2018-03-31T12:35:06.958907Z"
    }
   },
   "outputs": [
    {
     "data": {
      "text/latex": [
       "$$- 4 \\left(- \\frac{12 f^{12}}{r} + \\frac{6 f^{6}}{r}\\right) \\left. \\frac{d}{d \\xi_{1}} \\epsilon{\\left (\\xi_{1} \\right )} \\right|_{\\substack{ \\xi_{1}=f^{12} - f^{6} }}$$"
      ],
      "text/plain": [
       "   ⎛      12      6⎞                         \n",
       "   ⎜  12⋅f     6⋅f ⎟ ⎛ d        ⎞│           \n",
       "-4⋅⎜- ────── + ────⎟⋅⎜───(ε(ξ₁))⎟│    12    6\n",
       "   ⎝    r       r  ⎠ ⎝dξ₁       ⎠│ξ₁=f   - f "
      ]
     },
     "execution_count": 12,
     "metadata": {},
     "output_type": "execute_result"
    }
   ],
   "source": [
    "F.subs({sigma/r:f})"
   ]
  },
  {
   "cell_type": "code",
   "execution_count": 13,
   "metadata": {
    "ExecuteTime": {
     "end_time": "2018-03-31T12:35:07.788807Z",
     "start_time": "2018-03-31T12:35:07.359533Z"
    }
   },
   "outputs": [
    {
     "data": {
      "image/png": "[encoded data removed]",
      "text/latex": [
       "$$\\frac{24 \\epsilon}{r^{2}} f^{6} \\left(2 f^{6} - 1\\right) \\left(x_{1} - x_{2}\\right)$$"
      ],
      "text/plain": [
       "      6 ⎛   6    ⎞          \n",
       "24⋅ε⋅f ⋅⎝2⋅f  - 1⎠⋅(x₁ - x₂)\n",
       "────────────────────────────\n",
       "              2             \n",
       "             r              "
      ]
     },
     "execution_count": 13,
     "metadata": {},
     "output_type": "execute_result"
    }
   ],
   "source": [
    "Fxij = 24*epsilon*f**6*(2*f**6 - 1)/r*(x1-x2)/r\n",
    "sy.simplify(Fxij)"
   ]
  },
  {
   "cell_type": "code",
   "execution_count": 14,
   "metadata": {
    "ExecuteTime": {
     "end_time": "2018-03-31T12:35:08.347477Z",
     "start_time": "2018-03-31T12:35:07.793730Z"
    }
   },
   "outputs": [
    {
     "data": {
      "image/png": "[encoded data removed]",
      "text/latex": [
       "$$\\left [ 0, \\quad - \\frac{2^{\\frac{5}{6}} r}{2}, \\quad \\frac{2^{\\frac{5}{6}} r}{2}\\right ]$$"
      ],
      "text/plain": [
       "⎡     5/6      5/6  ⎤\n",
       "⎢   -2   ⋅r   2   ⋅r⎥\n",
       "⎢0, ────────, ──────⎥\n",
       "⎣      2        2   ⎦"
      ]
     },
     "execution_count": 14,
     "metadata": {},
     "output_type": "execute_result"
    }
   ],
   "source": [
    "ls=list(sy.simplify(sy.solve(dV_dr,sigma)))\n",
    "ls[0:3]"
   ]
  },
  {
   "cell_type": "markdown",
   "metadata": {},
   "source": [
    "$r=\\sqrt{\\left(- x_{1} + x_{2}\\right)^{2} + \\left(- y_{1} + y_{2}\\right)^{2} + \\left(- z_{1} + z_{2}\\right)^{2}}$"
   ]
  },
  {
   "cell_type": "raw",
   "metadata": {},
   "source": [
    "r=sy.sqrt((x2-x1)**2 +(y2-y1)**2 +(z2-z1)**2 )"
   ]
  },
  {
   "cell_type": "code",
   "execution_count": 15,
   "metadata": {
    "ExecuteTime": {
     "end_time": "2018-03-31T12:35:08.809399Z",
     "start_time": "2018-03-31T12:35:08.407558Z"
    }
   },
   "outputs": [
    {
     "data": {
      "image/png": "[encoded data removed]",
      "text/latex": [
       "$$\\frac{x_{1} - x_{2}}{\\sqrt{\\left(- x_{1} + x_{2}\\right)^{2} + \\left(- y_{1} + y_{2}\\right)^{2} + \\left(- z_{1} + z_{2}\\right)^{2}}}$$"
      ],
      "text/plain": [
       "                  x₁ - x₂                   \n",
       "────────────────────────────────────────────\n",
       "   _________________________________________\n",
       "  ╱           2             2             2 \n",
       "╲╱  (-x₁ + x₂)  + (-y₁ + y₂)  + (-z₁ + z₂)  "
      ]
     },
     "execution_count": 15,
     "metadata": {},
     "output_type": "execute_result"
    }
   ],
   "source": [
    "sy.diff(sy.sqrt((x2-x1)**2 +(y2-y1)**2 +(z2-z1)**2 ),x1)"
   ]
  },
  {
   "cell_type": "code",
   "execution_count": 16,
   "metadata": {
    "ExecuteTime": {
     "end_time": "2018-03-31T12:35:08.830226Z",
     "start_time": "2018-03-31T12:35:08.814435Z"
    }
   },
   "outputs": [
    {
     "name": "stdout",
     "output_type": "stream",
     "text": [
      "(x1 - x2)/sqrt((-x1 + x2)**2 + (-y1 + y2)**2 + (-z1 + z2)**2)\n"
     ]
    }
   ],
   "source": [
    "print(sy.diff(sy.sqrt((x2-x1)**2 +(y2-y1)**2 +(z2-z1)**2 ),x1))"
   ]
  },
  {
   "cell_type": "code",
   "execution_count": 17,
   "metadata": {
    "ExecuteTime": {
     "end_time": "2018-03-31T12:35:12.395157Z",
     "start_time": "2018-03-31T12:35:12.375487Z"
    }
   },
   "outputs": [
    {
     "ename": "NameError",
     "evalue": "name 'xi' is not defined",
     "output_type": "error",
     "traceback": [
      "\u001b[0;31m---------------------------------------------------------------------------\u001b[0m",
      "\u001b[0;31mNameError\u001b[0m                                 Traceback (most recent call last)",
      "\u001b[0;32m<ipython-input-17-f8edb7abae87>\u001b[0m in \u001b[0;36m<module>\u001b[0;34m()\u001b[0m\n\u001b[0;32m----> 1\u001b[0;31m \u001b[0mxj\u001b[0m \u001b[0;34m=\u001b[0m \u001b[0;36m2\u001b[0m\u001b[0;34m*\u001b[0m\u001b[0mxi\u001b[0m \u001b[0;34m-\u001b[0m \u001b[0mxi\u001b[0m\u001b[0;34m*\u001b[0m\u001b[0;34m(\u001b[0m\u001b[0mt\u001b[0m\u001b[0;34m-\u001b[0m\u001b[0mdt\u001b[0m\u001b[0;34m)\u001b[0m \u001b[0;34m+\u001b[0m \u001b[0ma\u001b[0m\u001b[0;34m*\u001b[0m\u001b[0mdt\u001b[0m\u001b[0;34m**\u001b[0m\u001b[0;36m2\u001b[0m\u001b[0;34m\u001b[0m\u001b[0m\n\u001b[0m",
      "\u001b[0;31mNameError\u001b[0m: name 'xi' is not defined"
     ]
    }
   ],
   "source": [
    "xj = 2*xi - xi*(t-dt) + a*dt**2"
   ]
  },
  {
   "cell_type": "markdown",
   "metadata": {},
   "source": [
    "$x_j= 2 x_i - x_i(t - dt) + a dt^2$"
   ]
  },
  {
   "cell_type": "code",
   "execution_count": null,
   "metadata": {},
   "outputs": [],
   "source": []
  },
  {
   "cell_type": "code",
   "execution_count": null,
   "metadata": {},
   "outputs": [],
   "source": []
  },
  {
   "cell_type": "code",
   "execution_count": null,
   "metadata": {},
   "outputs": [],
   "source": []
  },
  {
   "cell_type": "code",
   "execution_count": 71,
   "metadata": {},
   "outputs": [],
   "source": [
    "SigmaVector = np.matrix([sigx, sigy, sigz, tauxy, tauyz, tauzx])"
   ]
  },
  {
   "cell_type": "code",
   "execution_count": 72,
   "metadata": {},
   "outputs": [],
   "source": [
    "EpsilonVector = np.matrix([ex, ey, ez, rxy, ryz, rzx])"
   ]
  },
  {
   "cell_type": "code",
   "execution_count": 73,
   "metadata": {},
   "outputs": [],
   "source": [
    "reci = 1/( (1+nu)*(1-2*nu) )\n",
    "DVector = np.multiply(np.matrix([\n",
    "    [C11*(1-nu), C12*nu, C13*nu, 0, 0, 0],\n",
    "    [C21*nu, C22*(1-nu), C23*nu, 0, 0, 0],\n",
    "    [C31*nu, C32*nu, C33*(1-nu), 0, 0, 0],\n",
    "    [0, 0, 0, C44*(1-2*nu)/2, 0, 0],\n",
    "    [0, 0, 0, 0, C55*(1-2*nu)/2, 0],\n",
    "    [0, 0, 0, 0, 0, C66*(1-2*nu)/2]\n",
    "]),reci)\n",
    "EVector = np.multiply(np.matrix([\n",
    "    [E*(1-nu), E*nu, E*nu, 0, 0, 0],\n",
    "    [E*nu, E*(1-nu), E*nu, 0, 0, 0],\n",
    "    [E*nu, E*nu, E*(1-nu), 0, 0, 0],\n",
    "    [0, 0, 0, E*(1-2*nu)/2, 0, 0],\n",
    "    [0, 0, 0, 0, E*(1-2*nu)/2, 0],\n",
    "    [0, 0, 0, 0, 0, E*(1-2*nu)/2]\n",
    "]),reci)"
   ]
  },
  {
   "cell_type": "code",
   "execution_count": 74,
   "metadata": {},
   "outputs": [],
   "source": [
    "strs=DVector*(np.transpose(EpsilonVector))\n",
    "strsE=EVector*(np.transpose(EpsilonVector))"
   ]
  },
  {
   "cell_type": "code",
   "execution_count": 83,
   "metadata": {},
   "outputs": [],
   "source": [
    "ESolveMatrix = sy.Matrix(np.zeros(6))"
   ]
  },
  {
   "cell_type": "code",
   "execution_count": 87,
   "metadata": {},
   "outputs": [],
   "source": [
    "for i in range(6):\n",
    "    ESolveMatrix[i] = sy.solve(Matrix(strsE)[i]-Matrix(SigmaVector)[i],E)"
   ]
  },
  {
   "cell_type": "code",
   "execution_count": 89,
   "metadata": {},
   "outputs": [
    {
     "data": {
      "text/latex": [
       "$$\\left[\\begin{matrix}\\frac{\\sigma_{x} \\left(- 2 \\nu^{2} - \\nu + 1\\right)}{- \\epsilon_{x} \\nu + \\epsilon_{x} + \\epsilon_{y} \\nu + \\epsilon_{z} \\nu}\\\\\\frac{\\sigma_{y} \\left(- 2 \\nu^{2} - \\nu + 1\\right)}{\\epsilon_{x} \\nu - \\epsilon_{y} \\nu + \\epsilon_{y} + \\epsilon_{z} \\nu}\\\\\\frac{\\sigma_{z} \\left(- 2 \\nu^{2} - \\nu + 1\\right)}{\\epsilon_{x} \\nu + \\epsilon_{y} \\nu - \\epsilon_{z} \\nu + \\epsilon_{z}}\\\\\\frac{2 \\tau_{xy}}{\\gamma_{xy}} \\left(\\nu + 1\\right)\\\\\\frac{2 \\tau_{yz}}{\\gamma_{yz}} \\left(\\nu + 1\\right)\\\\\\frac{2 \\tau_{zx}}{\\gamma_{zx}} \\left(\\nu + 1\\right)\\end{matrix}\\right]$$"
      ],
      "text/plain": [
       "⎡      ⎛     2        ⎞    ⎤\n",
       "⎢   σₓ⋅⎝- 2⋅ν  - ν + 1⎠    ⎥\n",
       "⎢──────────────────────────⎥\n",
       "⎢-εₓ⋅ν + εₓ + ε_y⋅ν + ε_z⋅ν⎥\n",
       "⎢                          ⎥\n",
       "⎢       ⎛     2        ⎞   ⎥\n",
       "⎢   σ_y⋅⎝- 2⋅ν  - ν + 1⎠   ⎥\n",
       "⎢──────────────────────────⎥\n",
       "⎢εₓ⋅ν - ε_y⋅ν + ε_y + ε_z⋅ν⎥\n",
       "⎢                          ⎥\n",
       "⎢       ⎛     2        ⎞   ⎥\n",
       "⎢   σ_z⋅⎝- 2⋅ν  - ν + 1⎠   ⎥\n",
       "⎢──────────────────────────⎥\n",
       "⎢εₓ⋅ν + ε_y⋅ν - ε_z⋅ν + ε_z⎥\n",
       "⎢                          ⎥\n",
       "⎢      2⋅τ_xy⋅(ν + 1)      ⎥\n",
       "⎢      ──────────────      ⎥\n",
       "⎢           γ_xy           ⎥\n",
       "⎢                          ⎥\n",
       "⎢      2⋅τ_yz⋅(ν + 1)      ⎥\n",
       "⎢      ──────────────      ⎥\n",
       "⎢           γ_yz           ⎥\n",
       "⎢                          ⎥\n",
       "⎢      2⋅τ_zx⋅(ν + 1)      ⎥\n",
       "⎢      ──────────────      ⎥\n",
       "⎣           γ_zx           ⎦"
      ]
     },
     "execution_count": 89,
     "metadata": {},
     "output_type": "execute_result"
    }
   ],
   "source": [
    "ESolveMatrix"
   ]
  },
  {
   "cell_type": "code",
   "execution_count": 96,
   "metadata": {},
   "outputs": [],
   "source": [
    "g = sy.lambdify((E), ESolveMatrix)"
   ]
  },
  {
   "cell_type": "code",
   "execution_count": 100,
   "metadata": {},
   "outputs": [
    {
     "name": "stdout",
     "output_type": "stream",
     "text": [
      "Matrix([[sigma_x*(-2*nu**2 - nu + 1)/(-epsilon_x*nu + epsilon_x + epsilon_y*nu + epsilon_z*nu)], [sigma_y*(-2*nu**2 - nu + 1)/(epsilon_x*nu - epsilon_y*nu + epsilon_y + epsilon_z*nu)], [sigma_z*(-2*nu**2 - nu + 1)/(epsilon_x*nu + epsilon_y*nu - epsilon_z*nu + epsilon_z)], [2*tau_xy*(nu + 1)/gamma_xy], [2*tau_yz*(nu + 1)/gamma_yz], [2*tau_zx*(nu + 1)/gamma_zx]])\n"
     ]
    }
   ],
   "source": [
    "print(ESolveMatrix)"
   ]
  }
 ],
 "metadata": {
  "kernelspec": {
   "display_name": "Python 3",
   "language": "python",
   "name": "python3"
  },
  "language_info": {
   "codemirror_mode": {
    "name": "ipython",
    "version": 3
   },
   "file_extension": ".py",
   "mimetype": "text/x-python",
   "name": "python",
   "nbconvert_exporter": "python",
   "pygments_lexer": "ipython3",
   "version": "3.4.2"
  },
  "latex_envs": {
   "LaTeX_envs_menu_present": true,
   "autoclose": false,
   "autocomplete": true,
   "bibliofile": "biblio.bib",
   "cite_by": "apalike",
   "current_citInitial": 1,
   "eqLabelWithNumbers": true,
   "eqNumInitial": 1,
   "hotkeys": {
    "equation": "Ctrl-E",
    "itemize": "Ctrl-I"
   },
   "labels_anchors": false,
   "latex_user_defs": false,
   "report_style_numbering": false,
   "user_envs_cfg": false
  }
 },
 "nbformat": 4,
 "nbformat_minor": 2
}
