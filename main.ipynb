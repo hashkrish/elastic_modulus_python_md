{
 "cells": [
  {
   "cell_type": "code",
   "execution_count": null,
   "metadata": {},
   "outputs": [],
   "source": []
  },
  {
   "cell_type": "code",
   "execution_count": 26,
   "metadata": {},
   "outputs": [
    {
     "name": "stdout",
     "output_type": "stream",
     "text": [
      "-----------start-----------\n"
     ]
    }
   ],
   "source": [
    "#this is the main file\n",
    "\n",
    "\n",
    "#importing required libraries\n",
    "\n",
    "from classes.constantsmd import *\n",
    "from classes.gridmd import *\n",
    "from classes.functionsmd import *\n",
    "from numpy import sin, cos, deg2rad, matrix, size, invert, multiply, array, sqrt, ones, empty, sum, average, abs\n",
    "from matplotlib.pyplot import plot\n",
    "\n",
    "#import matplotlib.pyplot as plt\n",
    "#from sympy import init_printing\n",
    "#from mpl_toolkits.mplot3d import Axes3D\n",
    "#import csv\n",
    "#import pandas as pd\n",
    "print(\"-----------start-----------\")"
   ]
  },
  {
   "cell_type": "code",
   "execution_count": null,
   "metadata": {},
   "outputs": [],
   "source": []
  },
  {
   "cell_type": "code",
   "execution_count": null,
   "metadata": {},
   "outputs": [],
   "source": []
  },
  {
   "cell_type": "code",
   "execution_count": null,
   "metadata": {},
   "outputs": [],
   "source": []
  },
  {
   "cell_type": "code",
   "execution_count": 2,
   "metadata": {},
   "outputs": [],
   "source": [
    "N = N_xyz(100,6,6)\n",
    "coor_0 = initialPos(N,ial)\n",
    "xyz_grid = xyz_grid(coor_0[0], coor_0[1], coor_0[2])"
   ]
  },
  {
   "cell_type": "code",
   "execution_count": 3,
   "metadata": {},
   "outputs": [],
   "source": [
    "x1, x2, x3 = xyz_grid[0][0][0][0], xyz_grid[1][0][0][0], xyz_grid[2][0][0][0]"
   ]
  },
  {
   "cell_type": "code",
   "execution_count": null,
   "metadata": {},
   "outputs": [],
   "source": []
  },
  {
   "cell_type": "code",
   "execution_count": 4,
   "metadata": {},
   "outputs": [
    {
     "data": {
      "text/plain": [
       "-1.4138322080137485e+20"
      ]
     },
     "execution_count": 4,
     "metadata": {},
     "output_type": "execute_result"
    }
   ],
   "source": [
    "forceLJ(ial, xyz_grid[0][0][0][0], xyz_grid[1][0][0][0])"
   ]
  },
  {
   "cell_type": "code",
   "execution_count": 5,
   "metadata": {},
   "outputs": [
    {
     "data": {
      "text/plain": [
       "1200493294.8065505"
      ]
     },
     "execution_count": 5,
     "metadata": {},
     "output_type": "execute_result"
    }
   ],
   "source": [
    "LJ(ial)"
   ]
  },
  {
   "cell_type": "code",
   "execution_count": 42,
   "metadata": {},
   "outputs": [],
   "source": [
    "avagadro = 6.023e-23\n",
    "ial = 1.02e-10 #interatomic length\n",
    "epsilon = 0.5* 1.6e-19 #1.5 #dummy value\n",
    "sigma = 2.85e-10 #dummy value\n",
    "vel = 1000 #velocity per step\n",
    "acc = 0 #acceleration\n",
    "ts = 5e-9 #timestep ex: 0.005 nano seconds as 0.005e-9\n",
    "N_steps = 100"
   ]
  },
  {
   "cell_type": "code",
   "execution_count": 45,
   "metadata": {},
   "outputs": [
    {
     "name": "stdout",
     "output_type": "stream",
     "text": [
      "-5.04899999995e-09 \t 2.83625090236e-31\n",
      "-5.0489999999e-09 \t 2.21582105662e-33\n",
      "-5.04899999985e-09 \t 1.29686829867e-34\n",
      "-5.0489999998e-09 \t 1.73111021578e-35\n",
      "-5.04899999975e-09 \t 3.63040125766e-36\n",
      "-5.0489999997e-09 \t 1.0131783643e-36\n",
      "-5.04899999965e-09 \t 3.44396223182e-37\n",
      "-5.0489999996e-09 \t 1.35242986205e-37\n",
      "-5.04899999955e-09 \t 5.92989624532e-38\n",
      "-5.0489999995e-09 \t 2.83625099257e-38\n",
      "-5.04899999945e-09 \t 1.45544522265e-38\n",
      "-5.0489999994e-09 \t 7.91545599442e-39\n",
      "-5.04899999935e-09 \t 4.52002872815e-39\n",
      "-5.0489999993e-09 \t 2.6905955004e-39\n",
      "-5.04899999925e-09 \t 1.65999143794e-39\n",
      "-5.0489999992e-09 \t 1.05658583206e-39\n",
      "-5.04899999915e-09 \t 6.9119758466e-40\n",
      "-5.0489999991e-09 \t 4.63273145075e-40\n",
      "-5.04899999905e-09 \t 3.17299549094e-40\n",
      "-5.048999999e-09 \t 2.21582109186e-40\n",
      "-5.04899999895e-09 \t 1.57474268103e-40\n",
      "-5.0489999989e-09 \t 1.13706658202e-40\n",
      "-5.04899999885e-09 \t 8.33009222466e-41\n",
      "-5.0489999988e-09 \t 6.18395000474e-41\n",
      "-5.04899999875e-09 \t 4.64691363609e-41\n",
      "-5.0489999987e-09 \t 3.53127244867e-41\n",
      "-5.04899999865e-09 \t 2.71142947455e-41\n",
      "-5.0489999986e-09 \t 2.10202773734e-41\n",
      "-5.04899999855e-09 \t 1.6442152676e-41\n",
      "-5.0489999985e-09 \t 1.29686831242e-41\n",
      "-5.04899999845e-09 \t 1.03089113522e-41\n",
      "-5.0489999984e-09 \t 8.25457682212e-42\n",
      "-5.04899999835e-09 \t 6.65498502864e-42\n",
      "-5.0489999983e-09 \t 5.39998113577e-42\n",
      "-5.04899999825e-09 \t 4.40827167453e-42\n",
      "-5.0489999982e-09 \t 3.61932144946e-42\n",
      "-5.04899999815e-09 \t 2.98766977494e-42\n",
      "-5.0489999981e-09 \t 2.4789027296e-42\n",
      "-5.04899999805e-09 \t 2.06677125576e-42\n",
      "-5.048999998e-09 \t 1.73111022955e-42\n",
      "-5.04899999795e-09 \t 1.45632285425e-42\n",
      "-5.0489999979e-09 \t 1.23026772059e-42\n",
      "-5.04899999785e-09 \t 1.04343517492e-42\n",
      "-5.0489999978e-09 \t 8.88333267916e-43\n",
      "-5.04899999775e-09 \t 7.59026721786e-43\n",
      "-5.0489999977e-09 \t 6.50788455552e-43\n",
      "-5.04899999765e-09 \t 5.59834497461e-43\n",
      "-5.0489999976e-09 \t 4.83121094476e-43\n",
      "-5.04899999755e-09 \t 4.18188515563e-43\n",
      "-5.0489999975e-09 \t 3.63040128076e-43\n",
      "-5.04899999745e-09 \t 3.16048278746e-43\n",
      "-5.0489999974e-09 \t 2.75880660239e-43\n",
      "-5.04899999735e-09 \t 2.41442419717e-43\n",
      "-5.0489999973e-09 \t 2.11830427838e-43\n",
      "-5.04899999725e-09 \t 1.86296988978e-43\n",
      "-5.0489999972e-09 \t 1.64220917083e-43\n",
      "-5.04899999715e-09 \t 1.45084384768e-43\n",
      "-5.0489999971e-09 \t 1.28454317859e-43\n",
      "-5.04899999705e-09 \t 1.13967384272e-43\n",
      "-5.048999997e-09 \t 1.01317836967e-43\n",
      "-5.04899999695e-09 \t 9.0247632369e-44\n",
      "-5.0489999969e-09 \t 8.05383699846e-44\n",
      "-5.04899999685e-09 \t 7.20046951438e-44\n",
      "-5.0489999968e-09 \t 6.44888814584e-44\n",
      "-5.04899999675e-09 \t 5.78563678461e-44\n",
      "-5.0489999967e-09 \t 5.19920705641e-44\n",
      "-5.04899999665e-09 \t 4.67973265484e-44\n",
      "-5.0489999966e-09 \t 4.21873526451e-44\n",
      "-5.04899999655e-09 \t 3.80891277238e-44\n",
      "-5.0489999965e-09 \t 3.44396224747e-44\n",
      "-5.04899999645e-09 \t 3.11843158946e-44\n",
      "-5.0489999964e-09 \t 2.82759488377e-44\n",
      "-5.04899999635e-09 \t 2.56734741335e-44\n",
      "-5.0489999963e-09 \t 2.33411701279e-44\n",
      "-5.04899999625e-09 \t 2.12478904457e-44\n",
      "-5.0489999962e-09 \t 1.9366427584e-44\n",
      "-5.04899999615e-09 \t 1.76729718625e-44\n",
      "-5.0489999961e-09 \t 1.61466504429e-44\n",
      "-5.04899999605e-09 \t 1.47691337392e-44\n",
      "-5.048999996e-09 \t 1.35242986743e-44\n",
      "-5.04899999595e-09 \t 1.23979399951e-44\n",
      "-5.0489999959e-09 \t 1.13775223037e-44\n",
      "-5.04899999585e-09 \t 1.04519666567e-44\n",
      "-5.0489999958e-09 \t 9.61146657114e-45\n",
      "-5.04899999575e-09 \t 8.84732909836e-45\n",
      "-5.0489999957e-09 \t 8.1518373074e-45\n",
      "-5.04899999565e-09 \t 7.51813108794e-45\n",
      "-5.0489999956e-09 \t 6.94010365838e-45\n",
      "-5.04899999555e-09 \t 6.41231156186e-45\n",
      "-5.0489999955e-09 \t 5.92989626628e-45\n",
      "-5.04899999545e-09 \t 5.48851576503e-45\n",
      "-5.0489999954e-09 \t 5.08428481095e-45\n",
      "-5.04899999535e-09 \t 4.71372261545e-45\n",
      "-5.0489999953e-09 \t 4.37370701306e-45\n",
      "-5.04899999525e-09 \t 4.06143423444e-45\n",
      "-5.0489999952e-09 \t 3.77438355199e-45\n",
      "-5.04899999515e-09 \t 3.51028616496e-45\n",
      "-5.0489999951e-09 \t 3.26709777901e-45\n",
      "-5.04899999505e-09 \t 3.04297440942e-45\n"
     ]
    },
    {
     "data": {
      "text/plain": [
       "[<matplotlib.lines.Line2D at 0x2005d750208>]"
      ]
     },
     "execution_count": 45,
     "metadata": {},
     "output_type": "execute_result"
    },
    {
     "data": {
      "image/png": "[encoded data removed]",
      "text/plain": [
       "<matplotlib.figure.Figure at 0x2005d5e3c88>"
      ]
     },
     "metadata": {},
     "output_type": "display_data"
    }
   ],
   "source": [
    "vpos = empty(N_steps)\n",
    "old = x1\n",
    "for i in range(N_steps-1):\n",
    "    #print(verlet_pos(old,i*ts,ts,acc),\"\\n\")\n",
    "    vpos[i]=verlet_pos(old,i*ts,ts,forceLJ(vpos[i+1]-vpos[i],vpos[i],vpos[i+1])/avagadro)\n",
    "    old = vpos[i]\n",
    "    \n",
    "    print(vpos[i],'\\t',forceLJ(vpos[i+1]-vpos[i],vpos[i],vpos[i+1])/avagadro)\n",
    "plot(range(N_steps),vpos)"
   ]
  },
  {
   "cell_type": "code",
   "execution_count": null,
   "metadata": {},
   "outputs": [],
   "source": []
  },
  {
   "cell_type": "code",
   "execution_count": null,
   "metadata": {},
   "outputs": [],
   "source": []
  },
  {
   "cell_type": "code",
   "execution_count": 8,
   "metadata": {},
   "outputs": [
    {
     "name": "stdout",
     "output_type": "stream",
     "text": [
      "------------end------------\n"
     ]
    }
   ],
   "source": [
    "print(\"------------end------------\")"
   ]
  }
 ],
 "metadata": {
  "kernelspec": {
   "display_name": "Python 3",
   "language": "python",
   "name": "python3"
  },
  "language_info": {
   "codemirror_mode": {
    "name": "ipython",
    "version": 3
   },
   "file_extension": ".py",
   "mimetype": "text/x-python",
   "name": "python",
   "nbconvert_exporter": "python",
   "pygments_lexer": "ipython3",
   "version": "3.6.4"
  }
 },
 "nbformat": 4,
 "nbformat_minor": 2
}
