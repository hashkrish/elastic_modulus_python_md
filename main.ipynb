{
 "cells": [
  {
   "cell_type": "code",
   "execution_count": null,
   "metadata": {},
   "outputs": [],
   "source": []
  },
  {
   "cell_type": "code",
   "execution_count": 1,
   "metadata": {},
   "outputs": [
    {
     "name": "stdout",
     "output_type": "stream",
     "text": [
      "called gridmd\n",
      "called constantmd\n",
      "called functionsmd\n",
      "-----------start-----------\n"
     ]
    }
   ],
   "source": [
    "#this is the main file\n",
    "\n",
    "\n",
    "#importing required libraries\n",
    "\n",
    "from classes.constantsmd import *\n",
    "from classes.gridmd import *\n",
    "from classes.functionsmd import *\n",
    "from numpy import sin, cos, deg2rad, matrix, size, invert, multiply, array, sqrt, ones, empty, sum, average, abs, log\n",
    "from matplotlib.pyplot import plot, scatter, loglog\n",
    "\n",
    "#import matplotlib.pyplot as plt\n",
    "#from sympy import init_printing\n",
    "#from mpl_toolkits.mplot3d import Axes3D\n",
    "#import csv\n",
    "#import pandas as pd\n",
    "print(\"-----------start-----------\")"
   ]
  },
  {
   "cell_type": "code",
   "execution_count": null,
   "metadata": {},
   "outputs": [],
   "source": []
  },
  {
   "cell_type": "code",
   "execution_count": null,
   "metadata": {},
   "outputs": [],
   "source": []
  },
  {
   "cell_type": "code",
   "execution_count": 2,
   "metadata": {},
   "outputs": [],
   "source": [
    "#N = N_xyz(10,6,6)\n",
    "coor_0 = initialPos(N,ial)\n",
    "xyz_grid = xyzGrid(coor_0[0], coor_0[1], coor_0[2])"
   ]
  },
  {
   "cell_type": "code",
   "execution_count": null,
   "metadata": {},
   "outputs": [],
   "source": []
  },
  {
   "cell_type": "code",
   "execution_count": 3,
   "metadata": {},
   "outputs": [],
   "source": [
    "time_grid = np.empty([N_steps,N[0],N[1],N[2],3])\n",
    "time_grid[0] = np.array([xyz_grid])\n",
    "\n",
    "force_grid = np.zeros([N_steps, N[0], N[1], N[2],3])"
   ]
  },
  {
   "cell_type": "code",
   "execution_count": 4,
   "metadata": {},
   "outputs": [],
   "source": [
    "#%%timeit\n",
    "t=0\n",
    "for t in range(N_steps):\n",
    "    for i in range(N[0]):\n",
    "        for j in range(N[1]):\n",
    "            for k in range(N[2]):\n",
    "                #fx = forceXLJ3(i,j,k)\n",
    "                #fy = forceYLJ3(i,j,k)\n",
    "                #fz = forceZLJ3(i,j,k)\n",
    "                fx, fy, fz = forceLJ3(i, j, k, xyz_grid)\n",
    "                acc = (fx/mass)#+FaByMass\n",
    "                xj=verlet_pos(time_grid[t][i][j][k][0],t,ts,acc)\n",
    "                yj=verlet_pos(time_grid[t][i][j][k][1], t, ts, \n",
    "                              fy/mass)\n",
    "                zj=verlet_pos(time_grid[t][i][j][k][2], t, ts, \n",
    "                              fz/mass)\n",
    "                time_grid[t][i][j][k][0] = xj\n",
    "                time_grid[t][i][j][k][1] = yj\n",
    "                time_grid[t][i][j][k][2] = zj\n",
    "                \n",
    "                force_grid[t][i][j][k][0] = fx;force_grid[t][i][j][k][1] = fy;force_grid[t][i][j][k][2] = fz"
   ]
  },
  {
   "cell_type": "code",
   "execution_count": 5,
   "metadata": {},
   "outputs": [],
   "source": [
    "def timeForceMeanAndTimeStress():\n",
    "    time_forceMean = np.zeros([N_steps, 3])\n",
    "    time_stress = np.zeros([N_steps, 3])\n",
    "    fxMean = 0;fyMean = 0;fzMean = 0;\n",
    "    for t in range(N_steps):\n",
    "        for i in range(N[0]):\n",
    "            for j in range(N[1]):\n",
    "                for k in range(N[2]):\n",
    "                    fxMean+=force_grid[t][i][j][k][0]\n",
    "                    fyMean+=force_grid[t][i][j][k][1]\n",
    "                    fzMean+=force_grid[t][i][j][k][2]\n",
    "        fxMean = fxMean/N[0];fyMean = fyMean/N[1];fzMean = fzMean/N[2];\n",
    "        time_stress[t] = np.array([fxMean/(N[1]*N[2]*ial**2), fyMean/(N[2]*N[0]*ial**2), fzMean/(N[1]*N[0]*ial**2)])\n",
    "        time_forceMean[t] = np.array([fxMean, fyMean, fzMean])\n",
    "    return time_forceMean, time_stress"
   ]
  },
  {
   "cell_type": "code",
   "execution_count": 6,
   "metadata": {},
   "outputs": [],
   "source": [
    "time_forceMean, time_stress = timeForceMeanAndTimeStress()"
   ]
  },
  {
   "cell_type": "code",
   "execution_count": null,
   "metadata": {},
   "outputs": [],
   "source": []
  },
  {
   "cell_type": "code",
   "execution_count": 7,
   "metadata": {},
   "outputs": [],
   "source": [
    "strainXYZ = np.zeros([N[0], N[1], N[2], 3])\n",
    "time_strainXYZ = np.zeros([N_steps, N[0], N[1], N[2], 3])\n",
    "time_strainXYZ[0] = strainXYZ\n",
    "for t in range(N_steps):\n",
    "    if t==0:\n",
    "        pass #strainX[t] = 0\n",
    "    else:\n",
    "        strainXYZ = (time_grid[t]-time_grid[0])/ial\n",
    "        time_strainXYZ[t] = strainXYZ"
   ]
  },
  {
   "cell_type": "code",
   "execution_count": 8,
   "metadata": {},
   "outputs": [],
   "source": [
    "#time_strainMean = np.zeros([N_steps, 3])"
   ]
  },
  {
   "cell_type": "code",
   "execution_count": 9,
   "metadata": {},
   "outputs": [],
   "source": [
    "def timeStrainMean():\n",
    "    time_strainMean = np.zeros([N_steps, 3])\n",
    "    StrainXMean = 0;StrainYMean = 0;StrainZMean = 0;\n",
    "    for t in range(N_steps):\n",
    "        for i in range(N[0]):\n",
    "            for j in range(N[1]):\n",
    "                for k in range(N[2]):\n",
    "                    StrainXMean+=time_strainXYZ[t][i][j][k][0]\n",
    "                    StrainYMean+=time_strainXYZ[t][i][j][k][1]\n",
    "                    StrainZMean+=time_strainXYZ[t][i][j][k][2]\n",
    "        StrainXMean = StrainXMean/N[0];StrainYMean = StrainYMean/N[1];StrainZMean = StrainZMean/N[2];\n",
    "        time_strainMean[t] = np.array([StrainXMean, StrainYMean, StrainZMean])\n",
    "    return time_strainMean"
   ]
  },
  {
   "cell_type": "code",
   "execution_count": 10,
   "metadata": {},
   "outputs": [
    {
     "data": {
      "text/plain": [
       "array([[  0.00000000e+00,   0.00000000e+00,   0.00000000e+00],\n",
       "       [  1.29887212e-13,   2.48689958e-15,  -3.55093732e-13],\n",
       "       [  1.29887212e-13,   2.48689958e-15,  -3.90620869e-13],\n",
       "       [  1.29887212e-13,   2.48689958e-15,  -3.94173583e-13],\n",
       "       [  1.29887212e-13,   2.48689958e-15,  -3.94884125e-13],\n",
       "       [  1.29887212e-13,   2.48689958e-15,  -3.94884125e-13],\n",
       "       [  1.29887212e-13,   2.48689958e-15,  -3.94884125e-13],\n",
       "       [  1.29887212e-13,   2.48689958e-15,  -3.94884125e-13],\n",
       "       [  1.29887212e-13,   2.48689958e-15,  -3.94884125e-13],\n",
       "       [  1.29887212e-13,   2.48689958e-15,  -3.94884125e-13]])"
      ]
     },
     "execution_count": 10,
     "metadata": {},
     "output_type": "execute_result"
    }
   ],
   "source": [
    "time_strainMean = timeStrainMean()\n",
    "time_strainMean"
   ]
  },
  {
   "cell_type": "code",
   "execution_count": 11,
   "metadata": {},
   "outputs": [
    {
     "data": {
      "text/plain": [
       "[<matplotlib.lines.Line2D at 0x7fa61a2c7c50>,\n",
       " <matplotlib.lines.Line2D at 0x7fa61a2c7e48>,\n",
       " <matplotlib.lines.Line2D at 0x7fa61a2c7f98>]"
      ]
     },
     "execution_count": 11,
     "metadata": {},
     "output_type": "execute_result"
    },
    {
     "data": {
      "image/png": "[encoded data removed]",
      "text/plain": [
       "<matplotlib.figure.Figure at 0x7fa61a9ea2e8>"
      ]
     },
     "metadata": {},
     "output_type": "display_data"
    }
   ],
   "source": [
    "plot(time_stress, time_strainMean)"
   ]
  },
  {
   "cell_type": "code",
   "execution_count": 12,
   "metadata": {},
   "outputs": [
    {
     "name": "stdout",
     "output_type": "stream",
     "text": [
      "-inf\n",
      "-6.34729353666\n",
      "-6.34792198156\n",
      "-6.34792826601\n",
      "-6.34792832885\n",
      "-6.34792832948\n",
      "-6.34792832949\n",
      "-6.34792832949\n",
      "-6.34792832949\n",
      "-6.34792832949\n"
     ]
    },
    {
     "name": "stderr",
     "output_type": "stream",
     "text": [
      "/usr/local/lib/python3.5/dist-packages/ipykernel_launcher.py:2: RuntimeWarning: divide by zero encountered in double_scalars\n",
      "  \n"
     ]
    }
   ],
   "source": [
    "for i in range(N_steps):\n",
    "    print(time_stress[i][0]/time_strainMean[i][0])"
   ]
  },
  {
   "cell_type": "code",
   "execution_count": 13,
   "metadata": {},
   "outputs": [
    {
     "data": {
      "text/plain": [
       "0"
      ]
     },
     "execution_count": 13,
     "metadata": {},
     "output_type": "execute_result"
    }
   ],
   "source": [
    "\"\"\"import winsound\n",
    "duration = 1000  # millisecond\n",
    "freq = 440  # Hz\n",
    "winsound.Beep(freq, duration)\"\"\"\n",
    "\n",
    "import os\n",
    "os.system('spd-say \"your program is finished\"')"
   ]
  },
  {
   "cell_type": "code",
   "execution_count": 14,
   "metadata": {},
   "outputs": [
    {
     "name": "stdout",
     "output_type": "stream",
     "text": [
      "------------end------------\n"
     ]
    }
   ],
   "source": [
    "print(\"------------end------------\")"
   ]
  },
  {
   "cell_type": "code",
   "execution_count": null,
   "metadata": {},
   "outputs": [],
   "source": []
  },
  {
   "cell_type": "code",
   "execution_count": null,
   "metadata": {},
   "outputs": [],
   "source": []
  },
  {
   "cell_type": "code",
   "execution_count": null,
   "metadata": {},
   "outputs": [],
   "source": []
  }
 ],
 "metadata": {
  "kernelspec": {
   "display_name": "Python 3",
   "language": "python",
   "name": "python3"
  },
  "language_info": {
   "codemirror_mode": {
    "name": "ipython",
    "version": 3
   },
   "file_extension": ".py",
   "mimetype": "text/x-python",
   "name": "python",
   "nbconvert_exporter": "python",
   "pygments_lexer": "ipython3",
   "version": "3.5.2"
  }
 },
 "nbformat": 4,
 "nbformat_minor": 2
}
