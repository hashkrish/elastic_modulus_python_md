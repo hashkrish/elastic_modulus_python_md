{
 "cells": [
  {
   "cell_type": "code",
   "execution_count": 1,
   "metadata": {},
   "outputs": [
    {
     "name": "stdout",
     "output_type": "stream",
     "text": [
      "-----------start-----------\n"
     ]
    }
   ],
   "source": [
    "#this is the main file\n",
    "\n",
    "\n",
    "#importing required libraries\n",
    "from classes import gridmd, functionsmd\n",
    "from numpy import sin, cos, deg2rad, matrix, size, invert, multiply, array\n",
    "\n",
    "#from matplotlib.pyplot import plot\n",
    "#import matplotlib.pyplot as plt\n",
    "#from sympy import init_printing\n",
    "#from mpl_toolkits.mplot3d import Axes3D\n",
    "#import csv\n",
    "#import pandas as pd\n",
    "print(\"-----------start-----------\")"
   ]
  },
  {
   "cell_type": "code",
   "execution_count": 2,
   "metadata": {},
   "outputs": [],
   "source": [
    "ial = 1.02e-10 #interatomic length"
   ]
  },
  {
   "cell_type": "code",
   "execution_count": 5,
   "metadata": {},
   "outputs": [],
   "source": [
    "N = gridmd.N_xyz(100,6,6)\n",
    "coor_0 = gridmd.initialPos(N,ial)\n",
    "#print(coor_0)"
   ]
  },
  {
   "cell_type": "code",
   "execution_count": null,
   "metadata": {},
   "outputs": [],
   "source": []
  },
  {
   "cell_type": "code",
   "execution_count": 4,
   "metadata": {},
   "outputs": [
    {
     "name": "stdout",
     "output_type": "stream",
     "text": [
      "------------end------------\n"
     ]
    }
   ],
   "source": [
    "print(\"------------end------------\")"
   ]
  }
 ],
 "metadata": {
  "kernelspec": {
   "display_name": "Python 3",
   "language": "python",
   "name": "python3"
  },
  "language_info": {
   "codemirror_mode": {
    "name": "ipython",
    "version": 3
   },
   "file_extension": ".py",
   "mimetype": "text/x-python",
   "name": "python",
   "nbconvert_exporter": "python",
   "pygments_lexer": "ipython3",
   "version": "3.6.4"
  }
 },
 "nbformat": 4,
 "nbformat_minor": 2
}
