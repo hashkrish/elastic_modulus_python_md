{
 "cells": [
  {
   "cell_type": "code",
   "execution_count": null,
   "metadata": {},
   "outputs": [],
   "source": []
  },
  {
   "cell_type": "code",
   "execution_count": 1,
   "metadata": {},
   "outputs": [
    {
     "name": "stdout",
     "output_type": "stream",
     "text": [
      "called gridmd\n",
      "called constantmd\n",
      "called functionsmd\n",
      "-----------start-----------\n"
     ]
    }
   ],
   "source": [
    "#this is the main file\n",
    "\n",
    "\n",
    "#importing required libraries\n",
    "\n",
    "from classes.constantsmd import *\n",
    "from classes.gridmd import *\n",
    "from classes.functionsmd import *\n",
    "from numpy import sin, cos, deg2rad, matrix, size, invert, multiply, array, sqrt, ones, empty, sum, average, abs\n",
    "from matplotlib.pyplot import plot\n",
    "\n",
    "#import matplotlib.pyplot as plt\n",
    "#from sympy import init_printing\n",
    "#from mpl_toolkits.mplot3d import Axes3D\n",
    "#import csv\n",
    "#import pandas as pd\n",
    "print(\"-----------start-----------\")"
   ]
  },
  {
   "cell_type": "code",
   "execution_count": null,
   "metadata": {},
   "outputs": [],
   "source": []
  },
  {
   "cell_type": "code",
   "execution_count": null,
   "metadata": {},
   "outputs": [],
   "source": []
  },
  {
   "cell_type": "code",
   "execution_count": 2,
   "metadata": {},
   "outputs": [],
   "source": [
    "#N = N_xyz(10,6,6)\n",
    "coor_0 = initialPos(N,ial)\n",
    "xyz_grid = xyzGrid(coor_0[0], coor_0[1], coor_0[2])"
   ]
  },
  {
   "cell_type": "code",
   "execution_count": null,
   "metadata": {},
   "outputs": [],
   "source": []
  },
  {
   "cell_type": "raw",
   "metadata": {},
   "source": [
    "\"\"\"\n",
    "def r(x1, y1, z1, x2, y2, z2):\n",
    "    return sqrt( (xyz_grid[x2][y2][z2][0]-xyz_grid[x1][y1][z1][0])**2 + \n",
    "                (xyz_grid[x2][y2][z2][1]-xyz_grid[x1][y1][z1][1])**2 +\n",
    "                (xyz_grid[x2][y2][z2][2]-xyz_grid[x1][y1][z1][2])**2 )\n",
    "def forceXLJ3(x, y, z):#Force along x-axis\n",
    "    rg = np.array([-1,0,1])\n",
    "    pot = 0\n",
    "    fx = 0\n",
    "    for ri in rg:\n",
    "        for rj in rg:\n",
    "            for rk in rg:\n",
    "                if (ri==0 and rj==0 and rk==0):\n",
    "                    pass\n",
    "                else:\n",
    "                    i=ri;j=rj;k=rk;check=1;checki=1;checkj=1;checkk=1;\n",
    "                    \n",
    "                    if(x+ri<0 or x+ri>=N[0]):\n",
    "                        i=0;check=0;checki=0;\n",
    "                    if(y+rj<0 or y+rj>=N[1]):\n",
    "                        j=0;check=0;checkj=0;\n",
    "                    if(z+rk<0 or z+rk>=N[2]):\n",
    "                        k=0;check=0;checkk=0;\n",
    "                    if(check==1):\n",
    "                        #print(ri,rj,rk)\n",
    "                        #print(r(x,y,z,x+i,y+j,z+k))\n",
    "                        pot += LJ(r(x,y,z,x+i,y+j,z+k))\n",
    "                        fx += forceLJ(r(x,y,z,x+i,y+j,z+k),xyz_grid[i][j][k][0],xyz_grid[i+1][j][k][0])\n",
    "                        #print(\"LJ: \",LJ(r(x,y,z,x+i,y+j,z+k)))\n",
    "    #print(\"potential: \", pot)\n",
    "    #print(\"force along x: \", fx)\n",
    "    return fx\n",
    "\n",
    "def forceYLJ3(x, y, z):#Force along x-axis\n",
    "    rg = np.array([-1,0,1])\n",
    "    pot = 0\n",
    "    fy = 0\n",
    "    for ri in rg:\n",
    "        for rj in rg:\n",
    "            for rk in rg:\n",
    "                if (ri==0 and rj==0 and rk==0):\n",
    "                    pass\n",
    "                else:\n",
    "                    i=ri;j=rj;k=rk;check=1;checki=1;checkj=1;checkk=1;\n",
    "                    \n",
    "                    if(x+ri<0 or x+ri>=N[0]):\n",
    "                        i=0;check=0;checki=0;\n",
    "                    if(y+rj<0 or y+rj>=N[1]):\n",
    "                        j=0;check=0;checkj=0;\n",
    "                    if(z+rk<0 or z+rk>=N[2]):\n",
    "                        k=0;check=0;checkk=0;\n",
    "                    if(check==1):\n",
    "                        #print(ri,rj,rk)\n",
    "                        #print(r(x,y,z,x+i,y+j,z+k))\n",
    "                        pot += LJ(r(x,y,z,x+i,y+j,z+k))\n",
    "                        fy += forceLJ(r(x,y,z,x+i,y+j,z+k),xyz_grid[i][j][k][1],xyz_grid[i][j+1][k][1])\n",
    "                        #print(\"LJ: \",LJ(r(x,y,z,x+i,y+j,z+k)))\n",
    "    #print(\"potential: \", pot)\n",
    "    #print(\"force along y: \", fy)\n",
    "    return fy\n",
    "\n",
    "def forceZLJ3(x, y, z):#Force along x-axis\n",
    "    rg = np.array([-1,0,1])\n",
    "    pot = 0\n",
    "    fz = 0\n",
    "    for ri in rg:\n",
    "        for rj in rg:\n",
    "            for rk in rg:\n",
    "                if (ri==0 and rj==0 and rk==0):\n",
    "                    pass\n",
    "                else:\n",
    "                    i=ri;j=rj;k=rk;check=1;checki=1;checkj=1;checkk=1;\n",
    "                    \n",
    "                    if(x+ri<0 or x+ri>=N[0]):\n",
    "                        i=0;check=0;checki=0;\n",
    "                    if(y+rj<0 or y+rj>=N[1]):\n",
    "                        j=0;check=0;checkj=0;\n",
    "                    if(z+rk<0 or z+rk>=N[2]):\n",
    "                        k=0;check=0;checkk=0;\n",
    "                    if(check==1):\n",
    "                        #print(ri,rj,rk)\n",
    "                        #print(r(x,y,z,x+i,y+j,z+k))\n",
    "                        pot += LJ(r(x,y,z,x+i,y+j,z+k))\n",
    "                        fz += forceLJ(r(x,y,z,x+i,y+j,z+k),xyz_grid[i][j][k][2],xyz_grid[i][j][k+1][2])\n",
    "                        #print(\"LJ: \",LJ(r(x,y,z,x+i,y+j,z+k)))\n",
    "    #print(\"potential: \", pot)\n",
    "    #print(\"force along z: \", fz)\n",
    "    return fz\n",
    "\n",
    "\"\"\""
   ]
  },
  {
   "cell_type": "code",
   "execution_count": 9,
   "metadata": {},
   "outputs": [],
   "source": [
    "time_grid = np.empty([N_steps,N[0],N[1],N[2],3])\n",
    "time_grid[0] = np.array([xyz_grid])\n",
    "\n",
    "force_grid = np.zeros([N_steps, N[0], N[1], N[2],3])"
   ]
  },
  {
   "cell_type": "code",
   "execution_count": 10,
   "metadata": {},
   "outputs": [
    {
     "name": "stdout",
     "output_type": "stream",
     "text": [
      "2.19 s ± 75.3 ms per loop (mean ± std. dev. of 7 runs, 1 loop each)\n"
     ]
    }
   ],
   "source": [
    "%%timeit\n",
    "t=0\n",
    "for t in range(N_steps):\n",
    "    for i in range(N[0]):\n",
    "        for j in range(N[1]):\n",
    "            for k in range(N[2]):\n",
    "                #fx = forceXLJ3(i,j,k)\n",
    "                #fy = forceYLJ3(i,j,k)\n",
    "                #fz = forceZLJ3(i,j,k)\n",
    "                fx, fy, fz = forceLJ3(i, j, k, xyz_grid)\n",
    "                acc = (fx/mass)+FaByMass\n",
    "                xj=verlet_pos(time_grid[t][i][j][k][0],t,ts,acc)\n",
    "                yj=verlet_pos(time_grid[t][i][j][k][1], t, ts, \n",
    "                              fy/mass)\n",
    "                zj=verlet_pos(time_grid[t][i][j][k][2], t, ts, \n",
    "                              fz/mass)\n",
    "                time_grid[t][i][j][k][0] = xj\n",
    "                time_grid[t][i][j][k][1] = yj\n",
    "                time_grid[t][i][j][k][2] = zj\n",
    "                \n",
    "                force_grid[t][i][j][k][0] = fx;force_grid[t][i][j][k][1] = fy;force_grid[t][i][j][k][2] = fz"
   ]
  },
  {
   "cell_type": "code",
   "execution_count": null,
   "metadata": {},
   "outputs": [],
   "source": []
  },
  {
   "cell_type": "code",
   "execution_count": 5,
   "metadata": {},
   "outputs": [
    {
     "name": "stderr",
     "output_type": "stream",
     "text": [
      "C:\\Program Files\\Anaconda3\\lib\\site-packages\\ipykernel_launcher.py:6: RuntimeWarning: overflow encountered in true_divide\n",
      "  \n"
     ]
    }
   ],
   "source": [
    "strainXYZ = np.zeros([N[0], N[1], N[2], 3])\n",
    "for t in range(N_steps):\n",
    "    if t==0:\n",
    "        pass#strainX[t] = 0\n",
    "    else:\n",
    "        strainXYZ = (time_grid[t]-time_grid[0])/ial"
   ]
  },
  {
   "cell_type": "code",
   "execution_count": null,
   "metadata": {},
   "outputs": [],
   "source": []
  },
  {
   "cell_type": "code",
   "execution_count": null,
   "metadata": {},
   "outputs": [],
   "source": []
  },
  {
   "cell_type": "code",
   "execution_count": null,
   "metadata": {},
   "outputs": [],
   "source": []
  },
  {
   "cell_type": "code",
   "execution_count": null,
   "metadata": {},
   "outputs": [],
   "source": []
  },
  {
   "cell_type": "code",
   "execution_count": 6,
   "metadata": {},
   "outputs": [],
   "source": [
    "import winsound\n",
    "duration = 1000  # millisecond\n",
    "freq = 440  # Hz\n",
    "winsound.Beep(freq, duration)"
   ]
  },
  {
   "cell_type": "code",
   "execution_count": 7,
   "metadata": {},
   "outputs": [
    {
     "name": "stdout",
     "output_type": "stream",
     "text": [
      "------------end------------\n"
     ]
    }
   ],
   "source": [
    "print(\"------------end------------\")"
   ]
  },
  {
   "cell_type": "code",
   "execution_count": null,
   "metadata": {},
   "outputs": [],
   "source": []
  },
  {
   "cell_type": "code",
   "execution_count": null,
   "metadata": {},
   "outputs": [],
   "source": []
  }
 ],
 "metadata": {
  "kernelspec": {
   "display_name": "Python 3",
   "language": "python",
   "name": "python3"
  },
  "language_info": {
   "codemirror_mode": {
    "name": "ipython",
    "version": 3
   },
   "file_extension": ".py",
   "mimetype": "text/x-python",
   "name": "python",
   "nbconvert_exporter": "python",
   "pygments_lexer": "ipython3",
   "version": "3.6.4"
  }
 },
 "nbformat": 4,
 "nbformat_minor": 2
}
