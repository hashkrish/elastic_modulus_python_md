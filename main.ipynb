{
 "cells": [
  {
   "cell_type": "code",
   "execution_count": null,
   "metadata": {},
   "outputs": [],
   "source": []
  },
  {
   "cell_type": "code",
   "execution_count": 1,
   "metadata": {},
   "outputs": [
    {
     "name": "stdout",
     "output_type": "stream",
     "text": [
      "called constantmd\n",
      "called gridmd\n",
      "called functionsmd\n",
      "-----------start-----------\n"
     ]
    }
   ],
   "source": [
    "#this is the main file\n",
    "\n",
    "\n",
    "#importing required libraries\n",
    "\n",
    "from classes.constantsmd import *\n",
    "from classes.gridmd import *\n",
    "from classes.functionsmd import *\n",
    "from numpy import sin, cos, deg2rad, matrix, size, invert, multiply, array, sqrt, ones, empty, sum, average, abs\n",
    "from matplotlib.pyplot import plot\n",
    "\n",
    "#import matplotlib.pyplot as plt\n",
    "#from sympy import init_printing\n",
    "#from mpl_toolkits.mplot3d import Axes3D\n",
    "#import csv\n",
    "#import pandas as pd\n",
    "print(\"-----------start-----------\")"
   ]
  },
  {
   "cell_type": "code",
   "execution_count": null,
   "metadata": {},
   "outputs": [],
   "source": []
  },
  {
   "cell_type": "code",
   "execution_count": null,
   "metadata": {},
   "outputs": [],
   "source": []
  },
  {
   "cell_type": "code",
   "execution_count": 3,
   "metadata": {},
   "outputs": [],
   "source": [
    "N = N_xyz(100,6,6)\n",
    "coor_0 = initialPos(N,ial)\n",
    "xyz_grid = xyz_grid(coor_0[0], coor_0[1], coor_0[2])"
   ]
  },
  {
   "cell_type": "code",
   "execution_count": null,
   "metadata": {},
   "outputs": [],
   "source": []
  },
  {
   "cell_type": "code",
   "execution_count": 4,
   "metadata": {},
   "outputs": [],
   "source": [
    "def r(x1, y1, z1, x2, y2, z2):\n",
    "    return sqrt( (xyz_grid[x2][y2][z2][0]-xyz_grid[x1][y1][z1][0])**2 + \n",
    "                (xyz_grid[x2][y2][z2][1]-xyz_grid[x1][y1][z1][1])**2 +\n",
    "                (xyz_grid[x2][y2][z2][2]-xyz_grid[x1][y1][z1][2])**2 )\n",
    "def forceXLJ3(x, y, z):\n",
    "    rg = np.array([-1,0,1])\n",
    "    pot = 0\n",
    "    fx = 0\n",
    "    for ri in rg:\n",
    "        for rj in rg:\n",
    "            for rk in rg:\n",
    "                if (ri==0 and rj==0 and rk==0):\n",
    "                    pass\n",
    "                else:\n",
    "                    i=ri;j=rj;k=rk;check=1;checki=1;checkj=1;checkk=1;\n",
    "                    \n",
    "                    if(x+ri<0 or x+ri>=N[0]):\n",
    "                        i=0;check=0;checki=0;\n",
    "                    if(y+rj<0 or y+rj>=N[1]):\n",
    "                        j=0;check=0;checkj=0;\n",
    "                    if(z+rk<0 or z+rk>=N[2]):\n",
    "                        k=0;check=0;checkk=0;\n",
    "                    if(check==1):\n",
    "                        #print(ri,rj,rk)\n",
    "                        #print(r(x,y,z,x+i,y+j,z+k))\n",
    "                        pot += LJ(r(x,y,z,x+i,y+j,z+k))\n",
    "                        fx += forceLJ(r(x,y,z,x+i,y+j,z+k),xyz_grid[i][j][k][0],xyz_grid[i+1][j][k][0])\n",
    "                        #print(\"LJ: \",LJ(r(x,y,z,x+i,y+j,z+k)))\n",
    "    #print(\"potential: \", pot)\n",
    "    #print(\"force along x: \", fx)\n",
    "    return fx\n"
   ]
  },
  {
   "cell_type": "code",
   "execution_count": null,
   "metadata": {},
   "outputs": [],
   "source": []
  },
  {
   "cell_type": "code",
   "execution_count": 5,
   "metadata": {},
   "outputs": [],
   "source": [
    "x1, x2, x3 = xyz_grid[0][0][0][0], xyz_grid[1][0][0][0], xyz_grid[2][0][0][0]"
   ]
  },
  {
   "cell_type": "code",
   "execution_count": 6,
   "metadata": {},
   "outputs": [],
   "source": [
    "avagadro = 6.023e-23\n",
    "ial = 4.04e-10 #interatomic length\n",
    "epsilon = 0.5* 1.6e-19 #1.5 #dummy value\n",
    "sigma = 2.85e-10 #dummy value\n",
    "vel = 1000 #velocity per step\n",
    "acc = 0 #acceleration\n",
    "ts = 5e-9 #timestep ex: 0.005 nano seconds as 0.005e-9\n",
    "N_steps = 10"
   ]
  },
  {
   "cell_type": "code",
   "execution_count": 7,
   "metadata": {},
   "outputs": [
    {
     "name": "stdout",
     "output_type": "stream",
     "text": [
      "inf \t nan\n",
      "nan \t nan\n",
      "nan \t nan\n",
      "nan \t nan\n",
      "nan \t nan\n",
      "nan \t nan\n",
      "nan \t nan\n",
      "nan \t nan\n",
      "nan \t nan\n"
     ]
    },
    {
     "name": "stderr",
     "output_type": "stream",
     "text": [
      "C:\\Users\\Krish\\Documents\\GitHub\\elastic_modulus_python_md\\classes\\functionsmd.py:14: RuntimeWarning: overflow encountered in double_scalars\n",
      "  Fxij = 24*epsilon*f**6*(2*f**6 - 1)/r*(x1-x2)/r\n",
      "C:\\Users\\Krish\\Documents\\GitHub\\elastic_modulus_python_md\\classes\\functionsmd.py:14: RuntimeWarning: invalid value encountered in double_scalars\n",
      "  Fxij = 24*epsilon*f**6*(2*f**6 - 1)/r*(x1-x2)/r\n",
      "C:\\Users\\Krish\\Documents\\GitHub\\elastic_modulus_python_md\\classes\\functionsmd.py:23: RuntimeWarning: invalid value encountered in double_scalars\n",
      "  pos_t_dt = 2*pos - pos*(t-ts) + acc * ts**2; pos = pos_t_dt\n"
     ]
    },
    {
     "data": {
      "text/plain": [
       "[<matplotlib.lines.Line2D at 0x1927fea38d0>]"
      ]
     },
     "execution_count": 7,
     "metadata": {},
     "output_type": "execute_result"
    },
    {
     "data": {
      "image/png": "[encoded data removed]",
      "text/plain": [
       "<matplotlib.figure.Figure at 0x1927fe24be0>"
      ]
     },
     "metadata": {},
     "output_type": "display_data"
    }
   ],
   "source": [
    "vpos = empty(N_steps)\n",
    "old = x1\n",
    "for i in range(N_steps-1):\n",
    "    #print(verlet_pos(old,i*ts,ts,acc),\"\\n\")\n",
    "    acc = forceLJ(vpos[i+1]-vpos[i],vpos[i],vpos[i+1])/avagadro\n",
    "    vpos[i]=verlet_pos(old,i*ts,ts,acc)\n",
    "    old = vpos[i]\n",
    "    \n",
    "    print(vpos[i],'\\t',forceLJ(vpos[i+1]-vpos[i],vpos[i],vpos[i+1])/avagadro)\n",
    "plot(range(N_steps),vpos)"
   ]
  },
  {
   "cell_type": "code",
   "execution_count": null,
   "metadata": {},
   "outputs": [],
   "source": []
  },
  {
   "cell_type": "code",
   "execution_count": null,
   "metadata": {},
   "outputs": [],
   "source": []
  },
  {
   "cell_type": "code",
   "execution_count": 8,
   "metadata": {},
   "outputs": [
    {
     "name": "stdout",
     "output_type": "stream",
     "text": [
      "------------end------------\n"
     ]
    }
   ],
   "source": [
    "print(\"------------end------------\")"
   ]
  }
 ],
 "metadata": {
  "kernelspec": {
   "display_name": "Python 3",
   "language": "python",
   "name": "python3"
  },
  "language_info": {
   "codemirror_mode": {
    "name": "ipython",
    "version": 3
   },
   "file_extension": ".py",
   "mimetype": "text/x-python",
   "name": "python",
   "nbconvert_exporter": "python",
   "pygments_lexer": "ipython3",
   "version": "3.6.4"
  }
 },
 "nbformat": 4,
 "nbformat_minor": 2
}
