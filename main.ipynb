{
 "cells": [
  {
   "cell_type": "markdown",
   "metadata": {},
   "source": [
    "# Determining Elastic Modulus using MD Analysis"
   ]
  },
  {
   "cell_type": "code",
   "execution_count": null,
   "metadata": {},
   "outputs": [],
   "source": []
  },
  {
   "cell_type": "code",
   "execution_count": 1,
   "metadata": {},
   "outputs": [
    {
     "name": "stdout",
     "output_type": "stream",
     "text": [
      "called gridmd\n",
      "called constantmd\n",
      "called functionsmd\n",
      "-----------start-----------\n"
     ]
    }
   ],
   "source": [
    "#this is the main file\n",
    "\n",
    "\n",
    "#importing required libraries\n",
    "from classes.constantsmd import *\n",
    "from classes.gridmd import *\n",
    "from classes.functionsmd import *\n",
    "from numpy import sin, cos, deg2rad, matrix, size, invert, multiply, array, sqrt, ones, empty, sum, average, abs, log, mean\n",
    "from matplotlib.pyplot import plot, scatter, loglog\n",
    "import datetime\n",
    "\n",
    "#import matplotlib.pyplot as plt\n",
    "#from sympy import init_printing\n",
    "#from mpl_toolkits.mplot3d import Axes3D\n",
    "#import csv\n",
    "#import pandas as pd\n",
    "print(\"-----------start-----------\")"
   ]
  },
  {
   "cell_type": "code",
   "execution_count": 2,
   "metadata": {},
   "outputs": [],
   "source": [
    "now = datetime.datetime.now()\n",
    "file = open(\"dump/inputdata_\"+str(now.strftime(\"%d-%m-%Y %H:%M\"))+\".txt\", \"w\")\n",
    "file.write(\"datetime : \"+str(now.strftime(\"%d-%m-%Y %H:%M\"))+\"\\n\")\n",
    "file.write(\"avagadro : \"+str(avagadro)+\"\\n\")\n",
    "file.write(\"ial : \"+str(ial)+\"\\n\")\n",
    "file.write(\"epsilon : \"+str(epsilon)+\"\\n\")\n",
    "file.write(\"sigma : \"+str(sigma)+\"\\n\")\n",
    "file.write(\"timestep : \"+str(ts)+\"\\n\")\n",
    "file.write(\"N_steps : \"+str(N_steps)+\"\\n\")\n",
    "file.write(\"N : \"+str(N)+\"\\n\")\n",
    "file.write(\"Fa : \"+str(Fa)+\"\\n\")\n",
    "file.write(\"mass : \"+str(mass)+\"\\n\")\n",
    "file.write(\"FaByMass : \"+str(FaByMass)+\"\\n\")\n",
    "file.close()"
   ]
  },
  {
   "cell_type": "code",
   "execution_count": null,
   "metadata": {},
   "outputs": [],
   "source": []
  },
  {
   "cell_type": "code",
   "execution_count": 3,
   "metadata": {},
   "outputs": [
    {
     "ename": "NameError",
     "evalue": "name 'coor_0' is not defined",
     "output_type": "error",
     "traceback": [
      "\u001b[0;31m---------------------------------------------------------------------------\u001b[0m",
      "\u001b[0;31mNameError\u001b[0m                                 Traceback (most recent call last)",
      "\u001b[0;32m<ipython-input-3-56c950210602>\u001b[0m in \u001b[0;36m<module>\u001b[0;34m()\u001b[0m\n\u001b[1;32m      2\u001b[0m \u001b[0;31m#coor_0 = initialPosSC(N,ial)\u001b[0m\u001b[0;34m\u001b[0m\u001b[0;34m\u001b[0m\u001b[0m\n\u001b[1;32m      3\u001b[0m \u001b[0;34m\u001b[0m\u001b[0m\n\u001b[0;32m----> 4\u001b[0;31m \u001b[0mxyz_grid\u001b[0m \u001b[0;34m=\u001b[0m \u001b[0mxyzGrid\u001b[0m\u001b[0;34m(\u001b[0m\u001b[0mcoor_0\u001b[0m\u001b[0;34m[\u001b[0m\u001b[0;36m0\u001b[0m\u001b[0;34m]\u001b[0m\u001b[0;34m,\u001b[0m \u001b[0mcoor_0\u001b[0m\u001b[0;34m[\u001b[0m\u001b[0;36m1\u001b[0m\u001b[0;34m]\u001b[0m\u001b[0;34m,\u001b[0m \u001b[0mcoor_0\u001b[0m\u001b[0;34m[\u001b[0m\u001b[0;36m2\u001b[0m\u001b[0;34m]\u001b[0m\u001b[0;34m)\u001b[0m\u001b[0;34m\u001b[0m\u001b[0m\n\u001b[0m",
      "\u001b[0;31mNameError\u001b[0m: name 'coor_0' is not defined"
     ]
    }
   ],
   "source": [
    "#N = N_xyz(10,6,6)\n",
    "#coor_0 = initialPosSC(N,ial)\n",
    "\n",
    "xyz_grid = xyzGrid(coor_0[0], coor_0[1], coor_0[2])"
   ]
  },
  {
   "cell_type": "code",
   "execution_count": null,
   "metadata": {},
   "outputs": [],
   "source": []
  },
  {
   "cell_type": "code",
   "execution_count": null,
   "metadata": {},
   "outputs": [],
   "source": [
    "time_grid = np.zeros([N_steps,N[0],N[1],N[2],3])\n",
    "time_grid[0] = np.array([xyz_grid])\n",
    "\n",
    "force_grid = np.zeros([N_steps, N[0], N[1], N[2],3])"
   ]
  },
  {
   "cell_type": "code",
   "execution_count": null,
   "metadata": {},
   "outputs": [],
   "source": [
    "#%%timeit\n",
    "\n",
    "for j in array(range(N[1])):\n",
    "    for k in array(range(N[2])):\n",
    "        force_grid[0, 0, j, k, 0] = -Fa / (N[1] * N[2])\n",
    "        force_grid[0, N[0]-1, j, k, 0] = Fa / (N[1] * N[2])"
   ]
  },
  {
   "cell_type": "code",
   "execution_count": null,
   "metadata": {},
   "outputs": [],
   "source": [
    "for t in range(N_steps - 1):\n",
    "    for i in range(N[0]):\n",
    "        for j in range(N[1]):\n",
    "            for k in range(N[2]):\n",
    "                fx=0; fy=0; fz=0;acc=0\n",
    "                fx = forceXLJ3(i, j, k, xyz_grid)\n",
    "                fy = forceYLJ3(i, j, k, xyz_grid)\n",
    "                fz = forceZLJ3(i, j, k, xyz_grid)\n",
    "                #fx, fy, fz += forceLJ3(i, j, k, xyz_grid)\n",
    "                acc = (fx/mass) + (force_grid[t, i, j, k , 0]/mass)\n",
    "                xj=verlet_pos(time_grid[t][i][j][k][0],t,ts,acc)\n",
    "                yj=verlet_pos(time_grid[t][i][j][k][1], t, ts, \n",
    "                              fy/mass)\n",
    "                zj=verlet_pos(time_grid[t][i][j][k][2], t, ts, \n",
    "                              fz/mass)\n",
    "                time_grid[t+1][i][j][k][0] = xj\n",
    "                time_grid[t+1][i][j][k][1] = yj\n",
    "                time_grid[t+1][i][j][k][2] = zj\n",
    "                \n",
    "                force_grid[t][i][j][k][0] = fx;force_grid[t][i][j][k][1] = fy;force_grid[t][i][j][k][2] = fz"
   ]
  },
  {
   "cell_type": "code",
   "execution_count": null,
   "metadata": {},
   "outputs": [],
   "source": [
    "for time in range(N_steps):\n",
    "    fig0 = plt.figure()\n",
    "    ax = fig0.add_subplot(111, projection='3d')\n",
    "    for i in time_grid[time,:,0,0,0]:\n",
    "        for j in time_grid[time,0,:,0,1]:\n",
    "            for k in time_grid[time,0,0,:,2]:\n",
    "                ax.scatter(i,j,k)\n",
    "    ax.set_xlabel('X')\n",
    "    ax.set_ylabel('Y')\n",
    "    ax.set_zlabel('Z')\n",
    "    plt.show()"
   ]
  },
  {
   "cell_type": "code",
   "execution_count": null,
   "metadata": {},
   "outputs": [],
   "source": [
    "def timeForceMeanAndTimeStress():\n",
    "    time_forceMean = np.zeros([N_steps, 3])\n",
    "    time_stress = np.zeros([N_steps, 3])\n",
    "    time_stress_applied = np.zeros([N_steps, 3])\n",
    "    fxMean = 0;fyMean = 0;fzMean = 0;\n",
    "    for t in range(N_steps):\n",
    "        for i in range(N[0]):\n",
    "            for j in range(N[1]):\n",
    "                for k in range(N[2]):\n",
    "                    fxMean+=force_grid[t][i][j][k][0]\n",
    "                    fyMean+=force_grid[t][i][j][k][1]\n",
    "                    fzMean+=force_grid[t][i][j][k][2]\n",
    "        fxMean = fxMean/N[0];fyMean = fyMean/N[1];fzMean = fzMean/N[2];\n",
    "        time_stress[t] = np.array([fxMean/(N[1]*N[2]*ial**2), fyMean/(N[2]*N[0]*ial**2), fzMean/(N[1]*N[0]*ial**2)])\n",
    "        time_forceMean[t] = np.array([fxMean, fyMean, fzMean])\n",
    "        time_stress_applied[t,0] = np.array([Fa/( abs(time_grid[t,0,0,0,1] - time_grid[t,0,N[1]-1,0,1]) * abs(time_grid[t,0,0,0,2] - time_grid[t,0,0,N[2]-1,2]))])\n",
    "    return time_forceMean, time_stress, time_stress_applied"
   ]
  },
  {
   "cell_type": "code",
   "execution_count": null,
   "metadata": {},
   "outputs": [],
   "source": [
    "time_forceMean, time_stress, time_stress_applied = timeForceMeanAndTimeStress()"
   ]
  },
  {
   "cell_type": "code",
   "execution_count": null,
   "metadata": {},
   "outputs": [],
   "source": [
    "time_stress[:,0]"
   ]
  },
  {
   "cell_type": "code",
   "execution_count": null,
   "metadata": {},
   "outputs": [],
   "source": [
    "strainXYZ = np.zeros([N[0], N[1], N[2], 3])\n",
    "time_strainXYZ = np.zeros([N_steps, N[0], N[1], N[2], 3])\n",
    "time_strainXYZ[0] = strainXYZ\n",
    "for t in range(N_steps):\n",
    "    if t==0:\n",
    "        pass #strainX[t] = 0\n",
    "    else:\n",
    "        strainXYZ = abs(time_grid[t]-time_grid[0])/ial\n",
    "        time_strainXYZ[t] = strainXYZ"
   ]
  },
  {
   "cell_type": "code",
   "execution_count": null,
   "metadata": {},
   "outputs": [],
   "source": [
    "#time_strainMean = np.zeros([N_steps, 3])"
   ]
  },
  {
   "cell_type": "code",
   "execution_count": null,
   "metadata": {},
   "outputs": [],
   "source": [
    "def timeStrainMean():\n",
    "    time_strainMean = np.zeros([N_steps, 3])\n",
    "    StrainXMean = 0;StrainYMean = 0;StrainZMean = 0;\n",
    "    for t in range(N_steps):\n",
    "        for i in range(N[0]):\n",
    "            for j in range(N[1]):\n",
    "                for k in range(N[2]):\n",
    "                    StrainXMean+=time_strainXYZ[t][i][j][k][0]\n",
    "                    StrainYMean+=time_strainXYZ[t][i][j][k][1]\n",
    "                    StrainZMean+=time_strainXYZ[t][i][j][k][2]\n",
    "        StrainXMean = StrainXMean/N[0];StrainYMean = StrainYMean/N[1];StrainZMean = StrainZMean/N[2];\n",
    "        time_strainMean[t] = np.array([StrainXMean, StrainYMean, StrainZMean])\n",
    "    return time_strainMean"
   ]
  },
  {
   "cell_type": "code",
   "execution_count": null,
   "metadata": {},
   "outputs": [],
   "source": [
    "time_strainMean = timeStrainMean()\n",
    "plot(range(N_steps) ,time_strainMean[:,0])"
   ]
  },
  {
   "cell_type": "code",
   "execution_count": null,
   "metadata": {},
   "outputs": [],
   "source": [
    "plot(range(N_steps) ,time_stress[:,0])"
   ]
  },
  {
   "cell_type": "code",
   "execution_count": null,
   "metadata": {},
   "outputs": [],
   "source": [
    "n=8\n",
    "#fig, axs = plt.subplot(1,2)\n",
    "\n",
    "plot(time_strainMean[:n,0], time_stress[:n,0])\n",
    "plt.show()\n",
    "scatter(time_strainMean[:n,0], time_stress[:n,0]/1e-14)\n",
    "plt.show()"
   ]
  },
  {
   "cell_type": "code",
   "execution_count": null,
   "metadata": {},
   "outputs": [],
   "source": [
    "for i in range(N_steps):\n",
    "    print( (time_stress[i][0]/time_strainMean[i][0])/1e9,\"GPa\")"
   ]
  },
  {
   "cell_type": "code",
   "execution_count": null,
   "metadata": {},
   "outputs": [],
   "source": [
    "n=5\n",
    "#fig, axs = plt.subplot(1,2)\n",
    "\n",
    "plot(time_strainMean[:n,0], time_stress_applied[:n,0])\n",
    "plt.show()\n",
    "scatter(time_strainMean[:n,0], time_stress_applied[:n,0]/1e-14)\n",
    "plt.show()"
   ]
  },
  {
   "cell_type": "code",
   "execution_count": null,
   "metadata": {},
   "outputs": [],
   "source": []
  },
  {
   "cell_type": "code",
   "execution_count": null,
   "metadata": {},
   "outputs": [],
   "source": []
  },
  {
   "cell_type": "code",
   "execution_count": null,
   "metadata": {},
   "outputs": [],
   "source": [
    "import platform\n",
    "platform.system()\n",
    "if(platform.system()=='Windows'):\n",
    "    import winsound\n",
    "    duration = 1000  # millisecond\n",
    "    freq = 440  # Hz\n",
    "    winsound.Beep(freq, duration)\n",
    "if(platform.system()=='Linux'):\n",
    "    import os\n",
    "    os.system('spd-say \"your program is finished\"')\n"
   ]
  },
  {
   "cell_type": "code",
   "execution_count": null,
   "metadata": {},
   "outputs": [],
   "source": [
    "print(\"------------end------------\")"
   ]
  },
  {
   "cell_type": "code",
   "execution_count": null,
   "metadata": {},
   "outputs": [],
   "source": [
    "time_strainMean"
   ]
  },
  {
   "cell_type": "code",
   "execution_count": null,
   "metadata": {},
   "outputs": [],
   "source": []
  }
 ],
 "metadata": {
  "kernelspec": {
   "display_name": "Python 3",
   "language": "python",
   "name": "python3"
  },
  "language_info": {
   "codemirror_mode": {
    "name": "ipython",
    "version": 3
   },
   "file_extension": ".py",
   "mimetype": "text/x-python",
   "name": "python",
   "nbconvert_exporter": "python",
   "pygments_lexer": "ipython3",
   "version": "3.6.4"
  }
 },
 "nbformat": 4,
 "nbformat_minor": 2
}
