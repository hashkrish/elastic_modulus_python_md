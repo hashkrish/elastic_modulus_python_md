{
 "cells": [
  {
   "cell_type": "code",
   "execution_count": 74,
   "metadata": {},
   "outputs": [],
   "source": [
    "#importing required libraries\n",
    "from numpy import sin, cos, deg2rad, matrix, size, invert, multiply, log, linspace, array\n",
    "from matplotlib.pyplot import plot, loglog, subplot\n",
    "from sympy import init_printing\n",
    "from mpl_toolkits.mplot3d import Axes3D\n",
    "import csv\n",
    "import pandas as pd"
   ]
  },
  {
   "cell_type": "code",
   "execution_count": 75,
   "metadata": {},
   "outputs": [],
   "source": [
    "def N_xyz(Nx_,Ny_,Nz_): #Span of the material under study\n",
    "    return [Nx_,Ny_,Nz_]\n",
    "ial = 4.02e-10 #interatomic length\n",
    "N = N_xyz(100,6,6)"
   ]
  },
  {
   "cell_type": "code",
   "execution_count": 76,
   "metadata": {},
   "outputs": [],
   "source": [
    "X=(N[0]-1) * ial\n",
    "Y=(N[1]-1) * ial\n",
    "Z=(N[2]-1) * ial\n",
    "\n",
    "x_coor_0 =[]\n",
    "for i in range(N[0]):\n",
    "    x_coor_0.append((-X/2)+(i*ial))\n",
    "y_coor_0 =[]\n",
    "for i in range(N[1]):\n",
    "    y_coor_0.append((-Y/2)+(i*ial))\n",
    "z_coor_0 =[]\n",
    "for i in range(N[2]):\n",
    "    z_coor_0.append((-Z/2)+(i*ial))\n",
    "\n",
    "coor_0 = [x_coor_0,y_coor_0,z_coor_0]"
   ]
  },
  {
   "cell_type": "code",
   "execution_count": 77,
   "metadata": {},
   "outputs": [],
   "source": [
    "vel = 0.001e-10 #velocity per step\n",
    "acc = 0.1e-10 #acceleration\n",
    "ts = 0.005e-9 #timestep ex: 0.005 nano seconds as 0.005e-9\n",
    "N_steps = 10"
   ]
  },
  {
   "cell_type": "code",
   "execution_count": 78,
   "metadata": {},
   "outputs": [],
   "source": [
    "#verlet algorithm\n",
    "def verlet_pos(pos,t,ts,acc):\n",
    "#    pos_t_plus_dt = pos + vel*ts + ( 0.5 * acc * ts**2 )\n",
    "#    pos_t_minus_dt = pos - vel*ts + ( 0.5 * acc * ts**2 )\n",
    "    pos_t_dt = 2*pos - pos*(t-ts) + acc * ts**2\n",
    "# the above given post_t_dt is found by adding above given two taylor equations\n",
    "    return pos_t_dt\n",
    "#----------------------------------------------------------------\n",
    "x_coor=[x_coor_0]\n",
    "t=0\n",
    "for i in range(N_steps):\n",
    "    x_coor_temp = []\n",
    "    for pos_ in x_coor[-1]:\n",
    "        x_coor_temp.append(verlet_pos(pos_, t+(i*ts), i*ts, acc))\n",
    "    x_coor.append(x_coor_temp)"
   ]
  },
  {
   "cell_type": "code",
   "execution_count": 79,
   "metadata": {},
   "outputs": [],
   "source": [
    "def growth(x_coor_local):\n",
    "    return_list = []\n",
    "    p_temp=[]\n",
    "    q_temp=[]\n",
    "    for i in range(N_steps):\n",
    "        x_coor_growth_temp=[]\n",
    "        p=0\n",
    "        q=0\n",
    "        for j in range(N[0]):\n",
    "            if x_coor_local[i][j]>=0:\n",
    "                x_coor_growth_temp.append([x_coor_local[i+1][j]-x_coor_local[i][j],\"p\"])\n",
    "                p+=1\n",
    "            else:\n",
    "                x_coor_growth_temp.append([x_coor_local[i][j]-x_coor_local[i+1][j],\"q\"])\n",
    "                q+=1\n",
    "        p_temp.append(p)\n",
    "        q_temp.append(q)\n",
    "        return_list.append(x_coor_growth_temp)\n",
    "    \n",
    "    return return_list,p_temp,q_temp\n",
    "delx_, p , q = growth(x_coor)"
   ]
  },
  {
   "cell_type": "code",
   "execution_count": 80,
   "metadata": {},
   "outputs": [],
   "source": [
    "# my_df = pd.DataFrame(x_coor)\n",
    "# my_df.to_csv('x_coor.csv', index=False, header=False)\n",
    "# my_df = pd.DataFrame(x_coor)\n",
    "# my_df.to_csv('x_coor.csv', index=False, header=False)"
   ]
  },
  {
   "cell_type": "code",
   "execution_count": 81,
   "metadata": {},
   "outputs": [],
   "source": [
    "def mean_delx(delx__,char):\n",
    "    growth_temp=[]\n",
    "    for i in range(N_steps):\n",
    "        sum=0\n",
    "        c_count=0\n",
    "        for j in range(N[0]):\n",
    "            #print(delx__[i][j][0])\n",
    "            #print(char)\n",
    "            if delx__[i][j][1]==char:\n",
    "                c_count+=1\n",
    "                #print(\"if\")\n",
    "                sum+=delx__[i][j][0]\n",
    "        #print(c_count)\n",
    "        growth_temp.append(sum/c_count)\n",
    "    return growth_temp\n",
    "delx_p_mean = mean_delx(delx_,'p')\n",
    "delx_q_mean = mean_delx(delx_,'q')"
   ]
  },
  {
   "cell_type": "code",
   "execution_count": 82,
   "metadata": {},
   "outputs": [],
   "source": [
    "def length_of_growth_at_steps_fn(delx_p_mean_temp,delx_q_mean_temp):\n",
    "    length_of_growth_at_steps_temp = []\n",
    "    for i in range(N_steps):\n",
    "        delX_p_mean = sum(delx_p_mean_temp[0:i+1])\n",
    "        delX_q_mean = sum(delx_q_mean_temp[0:i+1])\n",
    "        delX_mean = delX_p_mean + delX_q_mean\n",
    "        length_of_growth_at_steps_temp.append(delX_mean)\n",
    "    return length_of_growth_at_steps_temp\n",
    "\n",
    "total_length_of_growth_at_steps = length_of_growth_at_steps_fn(delx_p_mean,delx_q_mean)"
   ]
  },
  {
   "cell_type": "code",
   "execution_count": 83,
   "metadata": {},
   "outputs": [],
   "source": [
    "strain_in_steps = multiply((1/X),total_length_of_growth_at_steps)"
   ]
  },
  {
   "cell_type": "code",
   "execution_count": 84,
   "metadata": {},
   "outputs": [
    {
     "data": {
      "text/plain": [
       "[<matplotlib.lines.Line2D at 0x2368f63e4a8>]"
      ]
     },
     "execution_count": 84,
     "metadata": {},
     "output_type": "execute_result"
    },
    {
     "data": {
      "image/png": "[encoded data removed]",
      "text/plain": [
       "<matplotlib.figure.Figure at 0x2368e2805f8>"
      ]
     },
     "metadata": {},
     "output_type": "display_data"
    }
   ],
   "source": [
    "plot(multiply(0.005e-9,range(N_steps)),strain_in_steps)"
   ]
  },
  {
   "cell_type": "code",
   "execution_count": 85,
   "metadata": {},
   "outputs": [
    {
     "data": {
      "text/plain": [
       "[<matplotlib.lines.Line2D at 0x2368e50e7b8>]"
      ]
     },
     "execution_count": 85,
     "metadata": {},
     "output_type": "execute_result"
    },
    {
     "data": {
      "image/png": "[encoded data removed]",
      "text/plain": [
       "<matplotlib.figure.Figure at 0x2368f64b390>"
      ]
     },
     "metadata": {},
     "output_type": "display_data"
    }
   ],
   "source": [
    "r = linspace(1,2,100)\n",
    "sigma=0.25\n",
    "epsilon=0.50722*96.5*1e3\n",
    "def lj(r_):\n",
    "    return 4*epsilon*((sigma/r_)**12-(sigma/r_)**6)\n",
    "plot(r,lj(r))"
   ]
  },
  {
   "cell_type": "code",
   "execution_count": 86,
   "metadata": {},
   "outputs": [],
   "source": [
    "stress_vec=multiply(1/ial**3,lj(array(delx_p_mean)))"
   ]
  },
  {
   "cell_type": "code",
   "execution_count": 87,
   "metadata": {},
   "outputs": [
    {
     "data": {
      "text/plain": [
       "[<matplotlib.lines.Line2D at 0x2368f6ba3c8>]"
      ]
     },
     "execution_count": 87,
     "metadata": {},
     "output_type": "execute_result"
    },
    {
     "data": {
      "image/png": "[encoded data removed]",
      "text/plain": [
       "<matplotlib.figure.Figure at 0x2368e27c198>"
      ]
     },
     "metadata": {},
     "output_type": "display_data"
    }
   ],
   "source": [
    "plot(strain_in_steps,stress_vec)"
   ]
  },
  {
   "cell_type": "code",
   "execution_count": 88,
   "metadata": {},
   "outputs": [],
   "source": [
    "dsig=[]\n",
    "deps=[]\n",
    "for i in range(size(delx_p_mean)-1):\n",
    "    dsig.append(stress_vec[i+1]-stress_vec[i])\n",
    "    deps.append(strain_in_steps[i+1]-strain_in_steps[i])"
   ]
  },
  {
   "cell_type": "code",
   "execution_count": 89,
   "metadata": {},
   "outputs": [
    {
     "data": {
      "text/plain": [
       "[<matplotlib.lines.Line2D at 0x2368f71a278>]"
      ]
     },
     "execution_count": 89,
     "metadata": {},
     "output_type": "execute_result"
    },
    {
     "data": {
      "image/png": "[encoded data removed]",
      "text/plain": [
       "<matplotlib.figure.Figure at 0x2368f6baa58>"
      ]
     },
     "metadata": {},
     "output_type": "display_data"
    }
   ],
   "source": [
    "plot(deps,dsig)"
   ]
  },
  {
   "cell_type": "code",
   "execution_count": 90,
   "metadata": {},
   "outputs": [
    {
     "data": {
      "text/plain": [
       "array([  5.05050505e-01,   1.51515152e+00,   3.53535354e+00,\n",
       "         7.57575758e+00,   1.56565657e+01,   3.18181818e+01,\n",
       "         6.41414141e+01,   1.28787879e+02,   2.58080808e+02,\n",
       "         5.16666667e+02])"
      ]
     },
     "execution_count": 90,
     "metadata": {},
     "output_type": "execute_result"
    }
   ],
   "source": [
    "strain_in_steps"
   ]
  }
 ],
 "metadata": {
  "kernelspec": {
   "display_name": "Python 3",
   "language": "python",
   "name": "python3"
  },
  "language_info": {
   "codemirror_mode": {
    "name": "ipython",
    "version": 3
   },
   "file_extension": ".py",
   "mimetype": "text/x-python",
   "name": "python",
   "nbconvert_exporter": "python",
   "pygments_lexer": "ipython3",
   "version": "3.6.4"
  }
 },
 "nbformat": 4,
 "nbformat_minor": 2
}
