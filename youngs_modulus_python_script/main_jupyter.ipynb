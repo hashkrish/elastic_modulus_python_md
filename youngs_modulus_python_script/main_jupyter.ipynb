{
 "cells": [
  {
   "cell_type": "code",
   "execution_count": 20,
   "metadata": {},
   "outputs": [],
   "source": [
    "#importing required libraries\n",
    "from numpy import sin, cos, deg2rad, matrix, size, invert, multiply, log, linspace, array, exp, inf\n",
    "from matplotlib.pyplot import plot, loglog, subplot, scatter\n",
    "from sympy import init_printing\n",
    "from mpl_toolkits.mplot3d import Axes3D\n",
    "import csv\n",
    "import pandas as pd"
   ]
  },
  {
   "cell_type": "code",
   "execution_count": 21,
   "metadata": {},
   "outputs": [],
   "source": [
    "def N_xyz(Nx_,Ny_,Nz_): #Span of the material under study\n",
    "    return [Nx_,Ny_,Nz_]\n",
    "ial = 4.02e-10 #interatomic length\n",
    "N = N_xyz(100,6,6)"
   ]
  },
  {
   "cell_type": "code",
   "execution_count": 22,
   "metadata": {},
   "outputs": [],
   "source": [
    "X=(N[0]-1) * ial\n",
    "Y=(N[1]-1) * ial\n",
    "Z=(N[2]-1) * ial\n",
    "\n",
    "x_coor_0 =[]\n",
    "for i in range(N[0]):\n",
    "    x_coor_0.append((-X/2)+(i*ial))\n",
    "y_coor_0 =[]\n",
    "for i in range(N[1]):\n",
    "    y_coor_0.append((-Y/2)+(i*ial))\n",
    "z_coor_0 =[]\n",
    "for i in range(N[2]):\n",
    "    z_coor_0.append((-Z/2)+(i*ial))\n",
    "\n",
    "coor_0 = [x_coor_0,y_coor_0,z_coor_0]"
   ]
  },
  {
   "cell_type": "code",
   "execution_count": 97,
   "metadata": {},
   "outputs": [],
   "source": [
    "vel = 1e3 #velocity per step\n",
    "acc = 1e4 #acceleration\n",
    "ts = 500e-12 #timestep ex: 0.005 nano seconds as 0.005e-9\n",
    "N_steps = 10"
   ]
  },
  {
   "cell_type": "code",
   "execution_count": 98,
   "metadata": {},
   "outputs": [],
   "source": [
    "#verlet algorithm\n",
    "def verlet_pos(pos,t,ts,acc):\n",
    "    pos = pos + vel*ts + ( 0.5 * acc * ts**2 )\n",
    "#    pos = pos - vel*ts + ( 0.5 * acc * ts**2 )\n",
    "#    pos = 2*pos - pos*(t-ts) + acc * ts**2\n",
    "# the above given post_t_dt is found by adding above given two taylor equations\n",
    "    return pos\n",
    "#----------------------------------------------------------------\n",
    "x_coor=[x_coor_0]\n",
    "t=0\n",
    "#def cgpos(pos,t, ts):\n",
    "    \n",
    "    \n",
    "for i in range(N_steps):\n",
    "    x_coor_temp = []\n",
    "    for pos_ in x_coor[-1]:\n",
    "        x_coor_temp.append(verlet_pos(pos_, t+(i*ts), i*ts, acc))\n",
    "    x_coor.append(x_coor_temp)"
   ]
  },
  {
   "cell_type": "code",
   "execution_count": 99,
   "metadata": {},
   "outputs": [],
   "source": [
    "def growth(x_coor_local):\n",
    "    return_list = []\n",
    "    p_temp=[]\n",
    "    q_temp=[]\n",
    "    for i in range(N_steps):\n",
    "        x_coor_growth_temp=[]\n",
    "        p=0\n",
    "        q=0\n",
    "        for j in range(N[0]):\n",
    "            if x_coor_local[i][j]>=0:\n",
    "                x_coor_growth_temp.append([x_coor_local[i+1][j]-x_coor_local[i][j],\"p\"])\n",
    "                p+=1\n",
    "            else:\n",
    "                x_coor_growth_temp.append([x_coor_local[i][j]-x_coor_local[i+1][j],\"q\"])\n",
    "                q+=1\n",
    "        p_temp.append(p)\n",
    "        q_temp.append(q)\n",
    "        return_list.append(x_coor_growth_temp)\n",
    "    \n",
    "    return return_list,p_temp,q_temp\n",
    "delx_, p , q = growth(x_coor)"
   ]
  },
  {
   "cell_type": "code",
   "execution_count": 100,
   "metadata": {},
   "outputs": [],
   "source": [
    "# my_df = pd.DataFrame(x_coor)\n",
    "# my_df.to_csv('x_coor.csv', index=False, header=False)\n",
    "# my_df = pd.DataFrame(x_coor)\n",
    "# my_df.to_csv('x_coor.csv', index=False, header=False)"
   ]
  },
  {
   "cell_type": "code",
   "execution_count": 101,
   "metadata": {},
   "outputs": [
    {
     "ename": "ZeroDivisionError",
     "evalue": "division by zero",
     "output_type": "error",
     "traceback": [
      "\u001b[0;31m---------------------------------------------------------------------------\u001b[0m",
      "\u001b[0;31mZeroDivisionError\u001b[0m                         Traceback (most recent call last)",
      "\u001b[0;32m<ipython-input-101-26d530125fe4>\u001b[0m in \u001b[0;36m<module>\u001b[0;34m()\u001b[0m\n\u001b[1;32m     16\u001b[0m     \u001b[0;32mreturn\u001b[0m \u001b[0mgrowth_temp\u001b[0m\u001b[0;34m\u001b[0m\u001b[0m\n\u001b[1;32m     17\u001b[0m \u001b[0mdelx_p_mean\u001b[0m \u001b[0;34m=\u001b[0m \u001b[0mmean_delx\u001b[0m\u001b[0;34m(\u001b[0m\u001b[0mdelx_\u001b[0m\u001b[0;34m,\u001b[0m\u001b[0;34m'p'\u001b[0m\u001b[0;34m)\u001b[0m\u001b[0;34m\u001b[0m\u001b[0m\n\u001b[0;32m---> 18\u001b[0;31m \u001b[0mdelx_q_mean\u001b[0m \u001b[0;34m=\u001b[0m \u001b[0mmean_delx\u001b[0m\u001b[0;34m(\u001b[0m\u001b[0mdelx_\u001b[0m\u001b[0;34m,\u001b[0m\u001b[0;34m'q'\u001b[0m\u001b[0;34m)\u001b[0m\u001b[0;34m\u001b[0m\u001b[0m\n\u001b[0m",
      "\u001b[0;32m<ipython-input-101-26d530125fe4>\u001b[0m in \u001b[0;36mmean_delx\u001b[0;34m(delx__, char)\u001b[0m\n\u001b[1;32m     13\u001b[0m         \u001b[0;31m#print(c_count)\u001b[0m\u001b[0;34m\u001b[0m\u001b[0;34m\u001b[0m\u001b[0m\n\u001b[1;32m     14\u001b[0m \u001b[0;34m\u001b[0m\u001b[0m\n\u001b[0;32m---> 15\u001b[0;31m         \u001b[0mgrowth_temp\u001b[0m\u001b[0;34m.\u001b[0m\u001b[0mappend\u001b[0m\u001b[0;34m(\u001b[0m\u001b[0msum\u001b[0m\u001b[0;34m/\u001b[0m\u001b[0mc_count\u001b[0m\u001b[0;34m)\u001b[0m\u001b[0;34m\u001b[0m\u001b[0m\n\u001b[0m\u001b[1;32m     16\u001b[0m     \u001b[0;32mreturn\u001b[0m \u001b[0mgrowth_temp\u001b[0m\u001b[0;34m\u001b[0m\u001b[0m\n\u001b[1;32m     17\u001b[0m \u001b[0mdelx_p_mean\u001b[0m \u001b[0;34m=\u001b[0m \u001b[0mmean_delx\u001b[0m\u001b[0;34m(\u001b[0m\u001b[0mdelx_\u001b[0m\u001b[0;34m,\u001b[0m\u001b[0;34m'p'\u001b[0m\u001b[0;34m)\u001b[0m\u001b[0;34m\u001b[0m\u001b[0m\n",
      "\u001b[0;31mZeroDivisionError\u001b[0m: division by zero"
     ]
    }
   ],
   "source": [
    "def mean_delx(delx__,char):\n",
    "    growth_temp=[]\n",
    "    for i in range(N_steps):\n",
    "        sum=0\n",
    "        c_count=0\n",
    "        for j in range(N[0]):\n",
    "            #print(delx__[i][j][0])\n",
    "            #print(char)\n",
    "            if delx__[i][j][1]==char:\n",
    "                c_count+=1\n",
    "                #print(\"if\")\n",
    "                sum+=delx__[i][j][0]\n",
    "        #print(c_count)\n",
    "        \n",
    "        growth_temp.append(sum/c_count)\n",
    "    return growth_temp\n",
    "delx_p_mean = mean_delx(delx_,'p')\n",
    "delx_q_mean = mean_delx(delx_,'q')"
   ]
  },
  {
   "cell_type": "code",
   "execution_count": null,
   "metadata": {},
   "outputs": [],
   "source": []
  },
  {
   "cell_type": "code",
   "execution_count": 102,
   "metadata": {},
   "outputs": [],
   "source": [
    "def length_of_growth_at_steps_fn(delx_p_mean_temp,delx_q_mean_temp):\n",
    "    length_of_growth_at_steps_temp = []\n",
    "    for i in range(N_steps):\n",
    "        delX_p_mean = sum(delx_p_mean_temp[0:i+1])\n",
    "        delX_q_mean = sum(delx_q_mean_temp[0:i+1])\n",
    "        delX_mean = delX_p_mean + delX_q_mean\n",
    "        length_of_growth_at_steps_temp.append(delX_mean)\n",
    "    return length_of_growth_at_steps_temp\n",
    "\n",
    "total_length_of_growth_at_steps = length_of_growth_at_steps_fn(delx_p_mean,delx_q_mean)"
   ]
  },
  {
   "cell_type": "code",
   "execution_count": 103,
   "metadata": {},
   "outputs": [],
   "source": [
    "strain_in_steps = multiply((1/X),total_length_of_growth_at_steps)\n",
    "#total_length_of_growth_at_steps"
   ]
  },
  {
   "cell_type": "code",
   "execution_count": 104,
   "metadata": {},
   "outputs": [
    {
     "data": {
      "text/plain": [
       "[<matplotlib.lines.Line2D at 0x7f931c71c128>]"
      ]
     },
     "execution_count": 104,
     "metadata": {},
     "output_type": "execute_result"
    },
    {
     "data": {
      "image/png": "[encoded data removed]",
      "text/plain": [
       "<matplotlib.figure.Figure at 0x7f931c7b7128>"
      ]
     },
     "metadata": {},
     "output_type": "display_data"
    }
   ],
   "source": [
    "plot(multiply(ts,range(N_steps)),strain_in_steps)"
   ]
  },
  {
   "cell_type": "code",
   "execution_count": 105,
   "metadata": {},
   "outputs": [],
   "source": [
    "r = linspace(1,4,100)\n",
    "sigma=2.85e-10#0.25\n",
    "epsilon=0.5* 1.6e-19#0.50722*96.5*1e3\n",
    "avagadro = 6.023e-23\n",
    "def lj(r_):\n",
    "    return 4*epsilon*((sigma/r_)**12-(sigma/r_)**6)/avagadro\n",
    "def forceLJ(r):\n",
    "    f=sigma/r\n",
    "    Fxij = 24*epsilon*f**6*(2*f**6 - 1)/r*(r)/r\n",
    "    return Fxij/avagadro\n",
    "#plot(r,lj(r))"
   ]
  },
  {
   "cell_type": "code",
   "execution_count": 112,
   "metadata": {},
   "outputs": [
    {
     "name": "stderr",
     "output_type": "stream",
     "text": [
      "/usr/local/lib/python3.5/dist-packages/ipykernel_launcher.py:8: RuntimeWarning: divide by zero encountered in true_divide\n",
      "  \n",
      "/usr/local/lib/python3.5/dist-packages/ipykernel_launcher.py:9: RuntimeWarning: invalid value encountered in multiply\n",
      "  if __name__ == '__main__':\n"
     ]
    },
    {
     "data": {
      "text/plain": [
       "[<matplotlib.lines.Line2D at 0x7f931c6b0c50>]"
      ]
     },
     "execution_count": 112,
     "metadata": {},
     "output_type": "execute_result"
    },
    {
     "data": {
      "image/png": "[encoded data removed]",
      "text/plain": [
       "<matplotlib.figure.Figure at 0x7f931c6e3be0>"
      ]
     },
     "metadata": {},
     "output_type": "display_data"
    }
   ],
   "source": [
    "stress_vec=multiply(1/ial**2,forceLJ(array(delx_p_mean)))\n",
    "plot(range(10), stress_vec)"
   ]
  },
  {
   "cell_type": "code",
   "execution_count": 119,
   "metadata": {},
   "outputs": [
    {
     "data": {
      "text/plain": [
       "[<matplotlib.lines.Line2D at 0x7f931c63c198>]"
      ]
     },
     "execution_count": 119,
     "metadata": {},
     "output_type": "execute_result"
    },
    {
     "data": {
      "image/png": "[encoded data removed]",
      "text/plain": [
       "<matplotlib.figure.Figure at 0x7f931c65b208>"
      ]
     },
     "metadata": {},
     "output_type": "display_data"
    }
   ],
   "source": [
    "plot(strain_in_steps,stress_vec)"
   ]
  },
  {
   "cell_type": "code",
   "execution_count": 108,
   "metadata": {},
   "outputs": [
    {
     "name": "stdout",
     "output_type": "stream",
     "text": [
      "nan \t 0.0 \t nan\n",
      "-13530547849.6 \t 12.5633197962 \t -1076988253.82\n",
      "-105707403.225 \t 37.6899594515 \t -2804656.85724\n",
      "-6186807.21353 \t 75.3799190286 \t -82075.004766\n",
      "-825839.05879 \t 125.63319859 \t -6573.41425718\n",
      "-173191.000351 \t 188.4497982 \t -919.029906137\n",
      "-48334.4288182 \t 263.829717919 \t -183.203125104\n",
      "-16429.6781454 \t 351.772957812 \t -46.7053472431\n",
      "-6451.86719516 \t 452.279517941 \t -14.2652208186\n",
      "-2828.90103517 \t 565.349398368 \t -5.00381010988\n"
     ]
    }
   ],
   "source": [
    "for i in range(size(stress_vec)):\n",
    "    print(stress_vec[i], '\\t', strain_in_steps[i], '\\t',stress_vec[i]/strain_in_steps[i])"
   ]
  },
  {
   "cell_type": "code",
   "execution_count": 117,
   "metadata": {},
   "outputs": [
    {
     "name": "stdout",
     "output_type": "stream",
     "text": [
      "nan\n",
      "-1076988253.82\n",
      "-2804656.85724\n",
      "-82075.004766\n",
      "-6573.41425718\n",
      "-919.029906137\n",
      "-183.203125104\n",
      "-46.7053472431\n",
      "-14.2652208186\n",
      "-5.00381010988\n"
     ]
    }
   ],
   "source": [
    "dsig=[]\n",
    "deps=[]\n",
    "for i in range(size(delx_p_mean)-1):\n",
    "    dsig.append(stress_vec[i+1]-stress_vec[i])\n",
    "    deps.append(strain_in_steps[i+1]-strain_in_steps[i])\n",
    "    \n",
    "    \n",
    "emod=[]\n",
    "for i in range(size(delx_p_mean)):\n",
    "    emod.append(stress_vec[i]/strain_in_steps[i])\n",
    "    print(stress_vec[i]/strain_in_steps[i])"
   ]
  },
  {
   "cell_type": "code",
   "execution_count": null,
   "metadata": {},
   "outputs": [],
   "source": []
  },
  {
   "cell_type": "code",
   "execution_count": 110,
   "metadata": {},
   "outputs": [
    {
     "data": {
      "text/plain": [
       "[<matplotlib.lines.Line2D at 0x7f931c82fb38>]"
      ]
     },
     "execution_count": 110,
     "metadata": {},
     "output_type": "execute_result"
    },
    {
     "data": {
      "image/png": "[encoded data removed]",
      "text/plain": [
       "<matplotlib.figure.Figure at 0x7f931c6dd278>"
      ]
     },
     "metadata": {},
     "output_type": "display_data"
    }
   ],
   "source": [
    "plot(deps,dsig)"
   ]
  },
  {
   "cell_type": "code",
   "execution_count": 111,
   "metadata": {},
   "outputs": [
    {
     "data": {
      "text/plain": [
       "array([   0.        ,   12.5633198 ,   37.68995945,   75.37991903,\n",
       "        125.63319859,  188.4497982 ,  263.82971792,  351.77295781,\n",
       "        452.27951794,  565.34939837])"
      ]
     },
     "execution_count": 111,
     "metadata": {},
     "output_type": "execute_result"
    }
   ],
   "source": [
    "strain_in_steps"
   ]
  },
  {
   "cell_type": "code",
   "execution_count": null,
   "metadata": {},
   "outputs": [],
   "source": []
  },
  {
   "cell_type": "code",
   "execution_count": null,
   "metadata": {},
   "outputs": [],
   "source": []
  },
  {
   "cell_type": "code",
   "execution_count": null,
   "metadata": {},
   "outputs": [],
   "source": []
  },
  {
   "cell_type": "code",
   "execution_count": null,
   "metadata": {},
   "outputs": [],
   "source": []
  }
 ],
 "metadata": {
  "kernelspec": {
   "display_name": "Python 3",
   "language": "python",
   "name": "python3"
  },
  "language_info": {
   "codemirror_mode": {
    "name": "ipython",
    "version": 3
   },
   "file_extension": ".py",
   "mimetype": "text/x-python",
   "name": "python",
   "nbconvert_exporter": "python",
   "pygments_lexer": "ipython3",
   "version": "3.6.4"
  }
 },
 "nbformat": 4,
 "nbformat_minor": 2
}
