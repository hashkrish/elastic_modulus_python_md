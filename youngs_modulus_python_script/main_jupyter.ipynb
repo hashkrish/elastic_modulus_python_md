{
 "cells": [
  {
   "cell_type": "code",
   "execution_count": 1,
   "metadata": {},
   "outputs": [],
   "source": [
    "#importing required libraries\n",
    "from numpy import sin, cos, deg2rad, matrix, size, invert, multiply, log, linspace, array, exp, inf\n",
    "from matplotlib.pyplot import plot, loglog, subplot, scatter\n",
    "from sympy import init_printing\n",
    "from mpl_toolkits.mplot3d import Axes3D\n",
    "import csv\n",
    "import pandas as pd"
   ]
  },
  {
   "cell_type": "code",
   "execution_count": 2,
   "metadata": {},
   "outputs": [],
   "source": [
    "def N_xyz(Nx_,Ny_,Nz_): #Span of the material under study\n",
    "    return [Nx_,Ny_,Nz_]\n",
    "ial = 4.02e-10 #interatomic length\n",
    "N = N_xyz(100,6,6)"
   ]
  },
  {
   "cell_type": "code",
   "execution_count": 3,
   "metadata": {},
   "outputs": [],
   "source": [
    "X=(N[0]-1) * ial\n",
    "Y=(N[1]-1) * ial\n",
    "Z=(N[2]-1) * ial\n",
    "\n",
    "x_coor_0 =[]\n",
    "for i in range(N[0]):\n",
    "    x_coor_0.append((-X/2)+(i*ial))\n",
    "y_coor_0 =[]\n",
    "for i in range(N[1]):\n",
    "    y_coor_0.append((-Y/2)+(i*ial))\n",
    "z_coor_0 =[]\n",
    "for i in range(N[2]):\n",
    "    z_coor_0.append((-Z/2)+(i*ial))\n",
    "\n",
    "coor_0 = [x_coor_0,y_coor_0,z_coor_0]"
   ]
  },
  {
   "cell_type": "code",
   "execution_count": 4,
   "metadata": {},
   "outputs": [],
   "source": [
    "vel = 1e1 #velocity per step\n",
    "acc = 0 #acceleration\n",
    "ts = .005e-12 #timestep ex: 0.005 nano seconds as 0.005e-9\n",
    "N_steps = 5"
   ]
  },
  {
   "cell_type": "code",
   "execution_count": 5,
   "metadata": {},
   "outputs": [],
   "source": [
    "#verlet algorithm\n",
    "def verlet_pos(pos,t,ts,acc):\n",
    "#    pos = pos + vel*ts + ( 0.5 * acc * ts**2 )\n",
    "#    pos = pos - vel*ts + ( 0.5 * acc * ts**2 )\n",
    "#    pos = 2*pos - pos*(t-ts) + acc * ts**2\n",
    "# the above given post_t_dt is found by adding above given two taylor equations\n",
    "    return pos\n",
    "#----------------------------------------------------------------\n",
    "x_coor=[x_coor_0]\n",
    "t=0\n",
    "#def cgpos(pos,t, ts):\n",
    "    \n",
    "    \n",
    "for i in range(N_steps):\n",
    "    x_coor_temp = []\n",
    "    for pos_ in x_coor[-1]:\n",
    "        x_coor_temp.append(verlet_pos(pos_, t+(i*ts), i*ts, acc))\n",
    "    x_coor.append(x_coor_temp)"
   ]
  },
  {
   "cell_type": "code",
   "execution_count": 6,
   "metadata": {},
   "outputs": [],
   "source": [
    "def growth(x_coor_local):\n",
    "    return_list = []\n",
    "    p_temp=[]\n",
    "    q_temp=[]\n",
    "    for i in range(N_steps):\n",
    "        x_coor_growth_temp=[]\n",
    "        p=0\n",
    "        q=0\n",
    "        for j in range(N[0]):\n",
    "            if x_coor_local[i][j]>=0:\n",
    "                x_coor_growth_temp.append([x_coor_local[i+1][j]-x_coor_local[i][j],\"p\"])\n",
    "                p+=1\n",
    "            else:\n",
    "                x_coor_growth_temp.append([x_coor_local[i][j]-x_coor_local[i+1][j],\"q\"])\n",
    "                q+=1\n",
    "        p_temp.append(p)\n",
    "        q_temp.append(q)\n",
    "        return_list.append(x_coor_growth_temp)\n",
    "    \n",
    "    return return_list,p_temp,q_temp\n",
    "delx_, p , q = growth(x_coor)"
   ]
  },
  {
   "cell_type": "code",
   "execution_count": 7,
   "metadata": {},
   "outputs": [],
   "source": [
    "# my_df = pd.DataFrame(x_coor)\n",
    "# my_df.to_csv('x_coor.csv', index=False, header=False)\n",
    "# my_df = pd.DataFrame(x_coor)\n",
    "# my_df.to_csv('x_coor.csv', index=False, header=False)"
   ]
  },
  {
   "cell_type": "code",
   "execution_count": 8,
   "metadata": {},
   "outputs": [],
   "source": [
    "def mean_delx(delx__,char):\n",
    "    growth_temp=[]\n",
    "    for i in range(N_steps):\n",
    "        sum=0\n",
    "        c_count=0\n",
    "        for j in range(N[0]):\n",
    "            #print(delx__[i][j][0])\n",
    "            #print(char)\n",
    "            if delx__[i][j][1]==char:\n",
    "                c_count+=1\n",
    "                #print(\"if\")\n",
    "                sum+=delx__[i][j][0]\n",
    "        #print(c_count)\n",
    "        \n",
    "        growth_temp.append(sum/c_count)\n",
    "    return growth_temp\n",
    "delx_p_mean = mean_delx(delx_,'p')\n",
    "delx_q_mean = mean_delx(delx_,'q')"
   ]
  },
  {
   "cell_type": "code",
   "execution_count": null,
   "metadata": {},
   "outputs": [],
   "source": []
  },
  {
   "cell_type": "code",
   "execution_count": 9,
   "metadata": {},
   "outputs": [],
   "source": [
    "def length_of_growth_at_steps_fn(delx_p_mean_temp,delx_q_mean_temp):\n",
    "    length_of_growth_at_steps_temp = []\n",
    "    for i in range(N_steps):\n",
    "        delX_p_mean = sum(delx_p_mean_temp[0:i+1])\n",
    "        delX_q_mean = sum(delx_q_mean_temp[0:i+1])\n",
    "        delX_mean = delX_p_mean + delX_q_mean\n",
    "        length_of_growth_at_steps_temp.append(delX_mean)\n",
    "    return length_of_growth_at_steps_temp\n",
    "\n",
    "total_length_of_growth_at_steps = length_of_growth_at_steps_fn(delx_p_mean,delx_q_mean)"
   ]
  },
  {
   "cell_type": "code",
   "execution_count": 10,
   "metadata": {},
   "outputs": [],
   "source": [
    "strain_in_steps = multiply((1/X),total_length_of_growth_at_steps)\n",
    "#total_length_of_growth_at_steps"
   ]
  },
  {
   "cell_type": "code",
   "execution_count": 11,
   "metadata": {},
   "outputs": [
    {
     "data": {
      "text/plain": [
       "[<matplotlib.lines.Line2D at 0x22a254a5128>]"
      ]
     },
     "execution_count": 11,
     "metadata": {},
     "output_type": "execute_result"
    },
    {
     "data": {
      "image/png": "[encoded data removed]",
      "text/plain": [
       "<matplotlib.figure.Figure at 0x22a2541e6a0>"
      ]
     },
     "metadata": {},
     "output_type": "display_data"
    }
   ],
   "source": [
    "plot(multiply(ts,range(N_steps)),strain_in_steps)"
   ]
  },
  {
   "cell_type": "code",
   "execution_count": 12,
   "metadata": {},
   "outputs": [],
   "source": [
    "r = linspace(1,4,100)\n",
    "sigma=2.85e-10#0.25\n",
    "epsilon=0.5* 1.6e-19#0.50722*96.5*1e3\n",
    "avagadro = 6.023e-23\n",
    "def lj(r_):\n",
    "    return 4*epsilon*((sigma/r_)**12-(sigma/r_)**6)/avagadro\n",
    "def forceLJ(r):\n",
    "    f=sigma/r\n",
    "    Fxij = 24*epsilon*f**6*(2*f**6 - 1)/r*(r)/r\n",
    "    return Fxij/avagadro\n",
    "#plot(r,lj(r))"
   ]
  },
  {
   "cell_type": "code",
   "execution_count": 13,
   "metadata": {},
   "outputs": [],
   "source": [
    "stress_vec=multiply(1/ial**2,forceLJ(array(delx_p_mean)))\n",
    "#stress_vec"
   ]
  },
  {
   "cell_type": "code",
   "execution_count": 14,
   "metadata": {},
   "outputs": [
    {
     "data": {
      "text/plain": [
       "<matplotlib.collections.PathCollection at 0x22a2554c6d8>"
      ]
     },
     "execution_count": 14,
     "metadata": {},
     "output_type": "execute_result"
    },
    {
     "data": {
      "image/png": "[encoded data removed]",
      "text/plain": [
       "<matplotlib.figure.Figure at 0x22a254d1240>"
      ]
     },
     "metadata": {},
     "output_type": "display_data"
    }
   ],
   "source": [
    "scatter(strain_in_steps,stress_vec)"
   ]
  },
  {
   "cell_type": "code",
   "execution_count": 15,
   "metadata": {},
   "outputs": [
    {
     "name": "stdout",
     "output_type": "stream",
     "text": [
      "-1.02080546556e+22 \t 0.505050505051 \t -2.02119482181e+22\n",
      "-7.97504270786e+19 \t 1.51515151515 \t -5.26352818719e+19\n",
      "-6.23050211562e+17 \t 3.53535353535 \t -1.76234202699e+17\n",
      "-4.86757977783e+15 \t 7.57575757576 \t -6.42520530673e+14\n",
      "-3.80279670143e+13 \t 15.6565656566 \t -2.42888305446e+12\n"
     ]
    }
   ],
   "source": [
    "for i in range(size(stress_vec)):\n",
    "    print(stress_vec[i], '\\t', strain_in_steps[i], '\\t',stress_vec[i]/strain_in_steps[i])"
   ]
  },
  {
   "cell_type": "code",
   "execution_count": 16,
   "metadata": {},
   "outputs": [],
   "source": [
    "dsig=[]\n",
    "deps=[]\n",
    "for i in range(size(delx_p_mean)-1):\n",
    "    dsig.append(stress_vec[i+1]-stress_vec[i])\n",
    "    deps.append(strain_in_steps[i+1]-strain_in_steps[i])"
   ]
  },
  {
   "cell_type": "code",
   "execution_count": 17,
   "metadata": {},
   "outputs": [
    {
     "data": {
      "text/plain": [
       "<matplotlib.collections.PathCollection at 0x22a255b2da0>"
      ]
     },
     "execution_count": 17,
     "metadata": {},
     "output_type": "execute_result"
    },
    {
     "data": {
      "image/png": "[encoded data removed]",
      "text/plain": [
       "<matplotlib.figure.Figure at 0x22a2557b550>"
      ]
     },
     "metadata": {},
     "output_type": "display_data"
    }
   ],
   "source": [
    "scatter(deps,dsig)"
   ]
  },
  {
   "cell_type": "code",
   "execution_count": 18,
   "metadata": {},
   "outputs": [
    {
     "data": {
      "text/plain": [
       "array([  0.50505051,   1.51515152,   3.53535354,   7.57575758,  15.65656566])"
      ]
     },
     "execution_count": 18,
     "metadata": {},
     "output_type": "execute_result"
    }
   ],
   "source": [
    "strain_in_steps"
   ]
  },
  {
   "cell_type": "code",
   "execution_count": null,
   "metadata": {},
   "outputs": [],
   "source": []
  },
  {
   "cell_type": "code",
   "execution_count": null,
   "metadata": {},
   "outputs": [],
   "source": []
  },
  {
   "cell_type": "code",
   "execution_count": null,
   "metadata": {},
   "outputs": [],
   "source": []
  },
  {
   "cell_type": "code",
   "execution_count": null,
   "metadata": {},
   "outputs": [],
   "source": []
  }
 ],
 "metadata": {
  "kernelspec": {
   "display_name": "Python 3",
   "language": "python",
   "name": "python3"
  },
  "language_info": {
   "codemirror_mode": {
    "name": "ipython",
    "version": 3
   },
   "file_extension": ".py",
   "mimetype": "text/x-python",
   "name": "python",
   "nbconvert_exporter": "python",
   "pygments_lexer": "ipython3",
   "version": "3.6.4"
  }
 },
 "nbformat": 4,
 "nbformat_minor": 2
}
