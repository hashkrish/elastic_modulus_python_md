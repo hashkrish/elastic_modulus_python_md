{
 "cells": [
  {
   "cell_type": "code",
   "execution_count": 382,
   "metadata": {},
   "outputs": [],
   "source": [
    "#importing required libraries\n",
    "from numpy import sin, cos, deg2rad, matrix, size, invert, multiply, log, linspace, array, exp, inf\n",
    "from matplotlib.pyplot import plot, loglog, subplot\n",
    "from sympy import init_printing\n",
    "from mpl_toolkits.mplot3d import Axes3D\n",
    "import csv\n",
    "import pandas as pd"
   ]
  },
  {
   "cell_type": "code",
   "execution_count": 383,
   "metadata": {},
   "outputs": [],
   "source": [
    "def N_xyz(Nx_,Ny_,Nz_): #Span of the material under study\n",
    "    return [Nx_,Ny_,Nz_]\n",
    "ial = 4.02e-10 #interatomic length\n",
    "N = N_xyz(100,6,6)"
   ]
  },
  {
   "cell_type": "code",
   "execution_count": 384,
   "metadata": {},
   "outputs": [],
   "source": [
    "X=(N[0]-1) * ial\n",
    "Y=(N[1]-1) * ial\n",
    "Z=(N[2]-1) * ial\n",
    "\n",
    "x_coor_0 =[]\n",
    "for i in range(N[0]):\n",
    "    x_coor_0.append((-X/2)+(i*ial))\n",
    "y_coor_0 =[]\n",
    "for i in range(N[1]):\n",
    "    y_coor_0.append((-Y/2)+(i*ial))\n",
    "z_coor_0 =[]\n",
    "for i in range(N[2]):\n",
    "    z_coor_0.append((-Z/2)+(i*ial))\n",
    "\n",
    "coor_0 = [x_coor_0,y_coor_0,z_coor_0]"
   ]
  },
  {
   "cell_type": "code",
   "execution_count": 448,
   "metadata": {},
   "outputs": [],
   "source": [
    "vel = 1e1 #velocity per step\n",
    "acc = 10 #acceleration\n",
    "ts = .0005e-9 #timestep ex: 0.005 nano seconds as 0.005e-9\n",
    "N_steps = 10"
   ]
  },
  {
   "cell_type": "code",
   "execution_count": 449,
   "metadata": {},
   "outputs": [],
   "source": [
    "#verlet algorithm\n",
    "def verlet_pos(pos,t,ts,acc):\n",
    "    pos_t_plus_dt = pos + vel*ts + ( 0.5 * acc * ts**2 )\n",
    "#    pos_t_minus_dt = pos - vel*ts + ( 0.5 * acc * ts**2 )\n",
    "#    pos_t_dt = 2*pos - pos*(t-ts) + acc * ts**2\n",
    "# the above given post_t_dt is found by adding above given two taylor equations\n",
    "    return pos_t_plus_dt\n",
    "#----------------------------------------------------------------\n",
    "x_coor=[x_coor_0]\n",
    "t=0\n",
    "#def cgpos(pos,t, ts):\n",
    "    \n",
    "    \n",
    "for i in range(N_steps):\n",
    "    x_coor_temp = []\n",
    "    for pos_ in x_coor[-1]:\n",
    "        x_coor_temp.append(verlet_pos(pos_, t+(i*ts), i*ts, acc))\n",
    "    x_coor.append(x_coor_temp)"
   ]
  },
  {
   "cell_type": "code",
   "execution_count": 450,
   "metadata": {},
   "outputs": [],
   "source": [
    "def growth(x_coor_local):\n",
    "    return_list = []\n",
    "    p_temp=[]\n",
    "    q_temp=[]\n",
    "    for i in range(N_steps):\n",
    "        x_coor_growth_temp=[]\n",
    "        p=0\n",
    "        q=0\n",
    "        for j in range(N[0]):\n",
    "            if x_coor_local[i][j]>=0:\n",
    "                x_coor_growth_temp.append([x_coor_local[i+1][j]-x_coor_local[i][j],\"p\"])\n",
    "                p+=1\n",
    "            else:\n",
    "                x_coor_growth_temp.append([x_coor_local[i][j]-x_coor_local[i+1][j],\"q\"])\n",
    "                q+=1\n",
    "        p_temp.append(p)\n",
    "        q_temp.append(q)\n",
    "        return_list.append(x_coor_growth_temp)\n",
    "    \n",
    "    return return_list,p_temp,q_temp\n",
    "delx_, p , q = growth(x_coor)"
   ]
  },
  {
   "cell_type": "code",
   "execution_count": 451,
   "metadata": {},
   "outputs": [],
   "source": [
    "# my_df = pd.DataFrame(x_coor)\n",
    "# my_df.to_csv('x_coor.csv', index=False, header=False)\n",
    "# my_df = pd.DataFrame(x_coor)\n",
    "# my_df.to_csv('x_coor.csv', index=False, header=False)"
   ]
  },
  {
   "cell_type": "code",
   "execution_count": 452,
   "metadata": {},
   "outputs": [],
   "source": [
    "def mean_delx(delx__,char):\n",
    "    growth_temp=[]\n",
    "    for i in range(N_steps):\n",
    "        sum=0\n",
    "        c_count=0\n",
    "        for j in range(N[0]):\n",
    "            #print(delx__[i][j][0])\n",
    "            #print(char)\n",
    "            if delx__[i][j][1]==char:\n",
    "                c_count+=1\n",
    "                #print(\"if\")\n",
    "                sum+=delx__[i][j][0]\n",
    "        #print(c_count)\n",
    "        \n",
    "        growth_temp.append(sum/c_count)\n",
    "    return growth_temp\n",
    "delx_p_mean = mean_delx(delx_,'p')\n",
    "delx_q_mean = mean_delx(delx_,'q')"
   ]
  },
  {
   "cell_type": "code",
   "execution_count": null,
   "metadata": {},
   "outputs": [],
   "source": []
  },
  {
   "cell_type": "code",
   "execution_count": 453,
   "metadata": {},
   "outputs": [],
   "source": [
    "def length_of_growth_at_steps_fn(delx_p_mean_temp,delx_q_mean_temp):\n",
    "    length_of_growth_at_steps_temp = []\n",
    "    for i in range(N_steps):\n",
    "        delX_p_mean = sum(delx_p_mean_temp[0:i+1])\n",
    "        delX_q_mean = sum(delx_q_mean_temp[0:i+1])\n",
    "        delX_mean = delX_p_mean + delX_q_mean\n",
    "        length_of_growth_at_steps_temp.append(delX_mean)\n",
    "    return length_of_growth_at_steps_temp\n",
    "\n",
    "total_length_of_growth_at_steps = length_of_growth_at_steps_fn(delx_p_mean,delx_q_mean)"
   ]
  },
  {
   "cell_type": "code",
   "execution_count": 454,
   "metadata": {},
   "outputs": [],
   "source": [
    "strain_in_steps = multiply((1/X),total_length_of_growth_at_steps)\n",
    "#total_length_of_growth_at_steps"
   ]
  },
  {
   "cell_type": "code",
   "execution_count": 455,
   "metadata": {},
   "outputs": [
    {
     "data": {
      "text/plain": [
       "[<matplotlib.lines.Line2D at 0x1c54083ca90>]"
      ]
     },
     "execution_count": 455,
     "metadata": {},
     "output_type": "execute_result"
    },
    {
     "data": {
      "image/png": "[encoded data removed]",
      "text/plain": [
       "<matplotlib.figure.Figure at 0x1c53ed3b550>"
      ]
     },
     "metadata": {},
     "output_type": "display_data"
    }
   ],
   "source": [
    "plot(multiply(ts,range(N_steps)),strain_in_steps)"
   ]
  },
  {
   "cell_type": "code",
   "execution_count": 456,
   "metadata": {},
   "outputs": [],
   "source": [
    "r = linspace(1,4,100)\n",
    "sigma=2.85e-10#0.25\n",
    "epsilon=0.5* 1.6e-19#0.50722*96.5*1e3\n",
    "avagadro = 6.023e-23\n",
    "def lj(r_):\n",
    "    return 4*epsilon*((sigma/r_)**12-(sigma/r_)**6)/avagadro\n",
    "def forceLJ(r):\n",
    "    f=sigma/r\n",
    "    Fxij = 24*epsilon*f**6*(2*f**6 - 1)/r*(r)/r\n",
    "    return Fxij/avagadro\n",
    "#plot(r,lj(r))"
   ]
  },
  {
   "cell_type": "code",
   "execution_count": 457,
   "metadata": {},
   "outputs": [
    {
     "name": "stderr",
     "output_type": "stream",
     "text": [
      "C:\\Program Files\\Anaconda3\\lib\\site-packages\\ipykernel_launcher.py:8: RuntimeWarning: divide by zero encountered in true_divide\n",
      "  \n",
      "C:\\Program Files\\Anaconda3\\lib\\site-packages\\ipykernel_launcher.py:9: RuntimeWarning: invalid value encountered in multiply\n",
      "  if __name__ == '__main__':\n"
     ]
    }
   ],
   "source": [
    "stress_vec=multiply(1/ial**2,forceLJ(array(delx_p_mean)))\n",
    "#stress_vec"
   ]
  },
  {
   "cell_type": "code",
   "execution_count": 458,
   "metadata": {},
   "outputs": [
    {
     "data": {
      "text/plain": [
       "[<matplotlib.lines.Line2D at 0x1c540897278>]"
      ]
     },
     "execution_count": 458,
     "metadata": {},
     "output_type": "execute_result"
    },
    {
     "data": {
      "image/png": "[encoded data removed]",
      "text/plain": [
       "<matplotlib.figure.Figure at 0x1c5407d09e8>"
      ]
     },
     "metadata": {},
     "output_type": "display_data"
    }
   ],
   "source": [
    "plot(strain_in_steps,stress_vec)"
   ]
  },
  {
   "cell_type": "code",
   "execution_count": 459,
   "metadata": {},
   "outputs": [
    {
     "name": "stdout",
     "output_type": "stream",
     "text": [
      "nan \t 0.0 \t nan\n",
      "9.28099457371e+55 \t 0.0 \t inf\n",
      "1.13293390688e+52 \t 3.24757451911e-19 \t 3.48855399687e+70\n",
      "5.82127616245e+49 \t 6.49514903821e-19 \t 8.96249820935e+67\n",
      "1.38297587924e+48 \t 3.24757451911e-19 \t 4.25848851537e+66\n",
      "7.60298902288e+46 \t 3.24757451911e-19 \t 2.3411284262e+65\n",
      "7.106045245e+45 \t -3.24757451911e-19 \t -2.1881084493e+64\n",
      "9.57897971722e+44 \t -6.49514903821e-19 \t -1.47478982559e+63\n",
      "1.68819662651e+44 \t -1.94854471146e-18 \t -8.66388447019e+61\n",
      "3.65122445224e+43 \t -1.29902980764e-18 \t -2.81073184831e+61\n"
     ]
    },
    {
     "name": "stderr",
     "output_type": "stream",
     "text": [
      "C:\\Program Files\\Anaconda3\\lib\\site-packages\\ipykernel_launcher.py:2: RuntimeWarning: divide by zero encountered in double_scalars\n",
      "  \n"
     ]
    }
   ],
   "source": [
    "for i in range(size(stress_vec)):\n",
    "    print(stress_vec[i], '\\t', strain_in_steps[i], '\\t',stress_vec[i]/strain_in_steps[i])"
   ]
  },
  {
   "cell_type": "code",
   "execution_count": 460,
   "metadata": {},
   "outputs": [],
   "source": [
    "dsig=[]\n",
    "deps=[]\n",
    "for i in range(size(delx_p_mean)-1):\n",
    "    dsig.append(stress_vec[i+1]-stress_vec[i])\n",
    "    deps.append(strain_in_steps[i+1]-strain_in_steps[i])"
   ]
  },
  {
   "cell_type": "code",
   "execution_count": 461,
   "metadata": {},
   "outputs": [
    {
     "data": {
      "text/plain": [
       "[<matplotlib.lines.Line2D at 0x1c5408e4f98>]"
      ]
     },
     "execution_count": 461,
     "metadata": {},
     "output_type": "execute_result"
    },
    {
     "data": {
      "image/png": "[encoded data removed]",
      "text/plain": [
       "<matplotlib.figure.Figure at 0x1c5408b1160>"
      ]
     },
     "metadata": {},
     "output_type": "display_data"
    }
   ],
   "source": [
    "plot(deps,dsig)"
   ]
  },
  {
   "cell_type": "code",
   "execution_count": null,
   "metadata": {},
   "outputs": [],
   "source": []
  },
  {
   "cell_type": "code",
   "execution_count": null,
   "metadata": {},
   "outputs": [],
   "source": []
  },
  {
   "cell_type": "code",
   "execution_count": null,
   "metadata": {},
   "outputs": [],
   "source": []
  }
 ],
 "metadata": {
  "kernelspec": {
   "display_name": "Python 3",
   "language": "python",
   "name": "python3"
  },
  "language_info": {
   "codemirror_mode": {
    "name": "ipython",
    "version": 3
   },
   "file_extension": ".py",
   "mimetype": "text/x-python",
   "name": "python",
   "nbconvert_exporter": "python",
   "pygments_lexer": "ipython3",
   "version": "3.6.4"
  }
 },
 "nbformat": 4,
 "nbformat_minor": 2
}
